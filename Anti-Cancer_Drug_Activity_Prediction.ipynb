{
  "cells": [
    {
      "cell_type": "markdown",
      "metadata": {
        "id": "nsEj39ikmhxJ"
      },
      "source": [
        "# **Answering the questions**"
      ]
    },
    {
      "cell_type": "markdown",
      "metadata": {
        "id": "kRvZKeWImkFi"
      },
      "source": [
        "✔️ Answer the questions below (briefly):\n",
        "\n",
        "🌈Based on the provided template, describe the format of the input file (sdf file).\n",
        "\n",
        "- Structure Data Format (SDF) is a file format commonly used in chemistry for storing and exchanging molecular structures, properties, and related data.\n",
        "- Can contain information about individual molecules or collections of molecules\n",
        "- it include information about the positions of individual atoms in a chemical molecule as well as the connections between them\n",
        "\n",
        "\n",
        "🌈What are the input tensors to the neural network model (their meaning, not just symbol)? What is each of their dims and their meaning (e.g. batch_size)?\n",
        "\n",
        "- data :The data is in a tokenized form and includes the nodes of the chemical molecule.The batch_size refers to the number of samples in a batch, while max_len_nodes indicates the padded length of the tokenized nodes.\n",
        "\n",
        "- edge : it contains information about the connections between atoms.\n",
        "- node2graph:It is The segmented mean input tensor contains information about segmented IDs.\n",
        "\n",
        "\n",
        "🌈For each dim of gnn_out, what does it symbolize? For each dim of avg, what does it symbolize?\n",
        "\n",
        "- dim of gnn_out is (batch_size_node_dimension, hidden layers), where batch_size_node_dimension refers to the dimension of the input data vector (i.e., the dimension of the tokenized vector for the entire batch) and hidden layers represents the aggregation output of the model for each hidden layer.\n",
        "- dim of avg is determined by calculating the segmented mean of gnn_out using the segmented IDs. Specifically, the output of gnn_out is (tokenized_vector_dimension, hidden_layers) for each sample in the batch_size, and a segment ID is assigned to each sample.\n",
        "\n",
        "\n",
        "🌈What is the difference between segment_mean and tf.reduce_mean? For each dim of pred, what does it symbolize?\n",
        "\n",
        "- segment_mean: calculates the average of data that have the same segmented ids.\n",
        "\n",
        "- reduce_mean: computes the mean value of elements across the specified dimensions of a tensor.\n",
        "- The shape of the \"pred\" tensor is (num_of_graphs, num_of_units in the output layer), where the first dimension represents the number of graphs and the second dimension is the number of units in the output layer, which is 1.\n",
        "\n",
        "\n",
        "🌈What is the motivation/theory/idea to use multiple gcn layers comparing to just one? How many layers were used in the template?\n",
        "\n",
        "- By increasing the number of trainable parameters in the network, the complexity of the model will increase, allowing it to better distinguish features in each node through a more complex hyperplane. This increased complexity can lead to more accurate results for node classification.\n",
        "- the number of layers used in the template was the default number which is 4 layers."
      ]
    },
    {
      "cell_type": "markdown",
      "metadata": {
        "id": "Sudgalm0ni5u"
      },
      "source": [
        "# **Problem Formulation**"
      ]
    },
    {
      "cell_type": "markdown",
      "metadata": {
        "id": "9Sr1vYFGqDfF"
      },
      "source": [
        "## Problem Definition\n",
        "\n",
        "- Our goal is to create a model that can predict the effectiveness of chemical compounds against non-small cell lung cancer using complex chemical structured data. The model will be designed to distinguish between compounds that are effective and those that are not.\n",
        "- input data consists of 2 feature sets: the first set represents the nodes, and the second set represents the edges between these nodes.\n",
        "- output is if this chemical compound is effective 1 or not 0\n"
      ]
    },
    {
      "cell_type": "markdown",
      "metadata": {
        "id": "qOAxa629rZUE"
      },
      "source": [
        "## Data mining function\n",
        "\n",
        "- classification and prediction"
      ]
    },
    {
      "cell_type": "markdown",
      "metadata": {
        "id": "8pUwkhqIrZWr"
      },
      "source": [
        "## Challenges\n",
        "\n",
        "- Our dataset is stored in SDF files, which are chemical files that represent each sample as nodes and the edges that connect these nodes, along with the corresponding output. Therefore, we require a specialized function to extract the relevant information from these files.\n",
        "\n",
        "- The data is imbalanced"
      ]
    },
    {
      "cell_type": "markdown",
      "metadata": {
        "id": "4otjvZIvrj44"
      },
      "source": [
        "## Model impact\n",
        "\n",
        "- Addressing this medical problem has the potential to make significant progress in the field of medicine."
      ]
    },
    {
      "cell_type": "markdown",
      "metadata": {
        "id": "S9YtFnFzro2i"
      },
      "source": [
        "## The ideal solution\n",
        "\n",
        "- Trial \"9\" GNN-FiLM Using RandomOverSample was the highest Test Accuracy = 88.37% with those Hyperparameters\n",
        "- hidden_dim = 32, num_layers = 6, film_parameter_MLP_hidden_layers = 1"
      ]
    },
    {
      "cell_type": "markdown",
      "metadata": {
        "id": "gCpYUw7KsCXV"
      },
      "source": [
        "# **Importing Libraries and check data**"
      ]
    },
    {
      "cell_type": "code",
      "execution_count": null,
      "metadata": {
        "id": "pTGgVGETslw1"
      },
      "outputs": [],
      "source": [
        "#!pip install --quiet networkx\n",
        "#!pip install --quiet tf2_gnn\n",
        "#!pip install imblearn"
      ]
    },
    {
      "cell_type": "code",
      "execution_count": null,
      "metadata": {
        "id": "nCCXeIJ5mefQ"
      },
      "outputs": [],
      "source": [
        "import numpy as np   \n",
        "from tqdm.notebook import tqdm\n",
        "from keras.callbacks import EarlyStopping\n",
        "from sklearn.model_selection import train_test_split\n",
        "from sklearn.utils import resample\n",
        "#importing libraries for displaying network of molecule\n",
        "import networkx as nx\n",
        "import matplotlib.pyplot as plt\n",
        "from matplotlib import cm\n",
        "from tensorflow.keras.preprocessing.text import Tokenizer\n",
        "from tensorflow.keras.preprocessing.sequence import pad_sequences\n",
        "import random\n",
        "#for deep Graph Neural Network\n",
        "from tf2_gnn.layers.gnn import GNN, GNNInput\n",
        "#importing tensorflow and other libraries\n",
        "import tensorflow as tf\n",
        "from tensorflow.math import segment_mean #to calculate segmented mean\n",
        "from tensorflow import keras\n",
        "from tensorflow.keras import Input, Model #layers and model\n",
        "from tensorflow.keras.layers import Embedding, Dense, Dropout #layers\n",
        "from tensorflow.keras.optimizers import Adam #optimizer\n",
        "from tensorflow.keras.callbacks import EarlyStopping, ReduceLROnPlateau\n",
        "import math\n",
        "import pandas as pd \n",
        "import seaborn as sns\n",
        "%matplotlib inline"
      ]
    },
    {
      "cell_type": "code",
      "execution_count": null,
      "metadata": {
        "id": "oVR4phKHsG_A"
      },
      "outputs": [],
      "source": [
        "def read_sdf(file):\n",
        "  #opening the file\n",
        "  with open(file, 'r') as rf:\n",
        "    content = rf.read()\n",
        "    samples = content.split('$$$$')\n",
        "    \n",
        "    def parse_sample(s):\n",
        "        lines = s.splitlines()\n",
        "        links = []\n",
        "        nodes = []\n",
        "        label = 0\n",
        "        for l in lines:\n",
        "            if l.strip() == '1.0':\n",
        "                label = 1\n",
        "            if l.strip() == '-1.0':\n",
        "                label = 0\n",
        "            if l.startswith('    '):\n",
        "                feature = l.split()\n",
        "                node = feature[3]\n",
        "                nodes.append(node)\n",
        "            elif l.startswith(' '):\n",
        "                lnk = l.split()\n",
        "                if int(lnk[0]) - 1 < len(nodes):\n",
        "                    links.append((   \n",
        "                        int(lnk[0])-1,   #first atom\n",
        "                        int(lnk[1])-1, # zero-based index #second atom\n",
        "                        # int(lnk[2]) ignore edge weight\n",
        "                    ))\n",
        "        return nodes, np.array(links), label #returning nodes, links and label\n",
        "    #parse_sample for each molecule\n",
        "    return [parse_sample(s) for s in tqdm(samples) if len(s[0]) > 0]  "
      ]
    },
    {
      "cell_type": "code",
      "execution_count": null,
      "metadata": {
        "colab": {
          "base_uri": "https://localhost:8080/",
          "height": 81,
          "referenced_widgets": [
            "fed583ccf6af4e378edc72a61d6af690",
            "d9bea941346e4c3bb3aab74ee452a751",
            "a5f274eb69c9493eadadd21b60974923",
            "58358e0c85a149cbaa5448717c64b4b3",
            "88d83feb7c2640e3915e2a03654e21e9",
            "8fd947e6cd3c43fcb31678391ecea122",
            "18c2b9e8f0f748998720e71ca7845fcc",
            "dead3d8ff34e4062bc294dc5bc9125bd",
            "a0e40a02cb1a47fb9da41f9b96e679ef",
            "0327c0dad8fc4b9aa5a93993c0363319",
            "efd45c231402417a8f98c852e3bc38c6",
            "926dd136cac14f919d3275a48561c8a9",
            "a4960bfa9f014222b805bde80788b375",
            "5b89e71fc8d043a392b61ea493b79b44",
            "f8683b3a53694c82ace06cab4b5b5e91",
            "ee6314ce05c04ee885fd220883124499",
            "5fb4cec0034d4c1db2e0e84b0ac62ee4",
            "0f1fa67b224e402d97557584d3268080",
            "0beb302c2b9746329f7ec3a98926ba82",
            "4100bdce902f40ecb70c6ffa920ccb27",
            "8afc8dad8e1942eca6cbd5c253e45464",
            "eaa20e722483401ba3819c0661f3ce55",
            "01e06549ec85462696ec4403a1e6f2b9",
            "f486db7fd98f413a8ddb35317319e6de"
          ]
        },
        "id": "HmcSbIhdsHBX",
        "outputId": "a29fe63e-8a89-448b-9452-00da61117096"
      },
      "outputs": [
        {
          "data": {
            "application/vnd.jupyter.widget-view+json": {
              "model_id": "01e06549ec85462696ec4403a1e6f2b9",
              "version_major": 2,
              "version_minor": 0
            },
            "text/plain": [
              "  0%|          | 0/25024 [00:00<?, ?it/s]"
            ]
          },
          "metadata": {},
          "output_type": "display_data"
        },
        {
          "data": {
            "application/vnd.jupyter.widget-view+json": {
              "model_id": "f486db7fd98f413a8ddb35317319e6de",
              "version_major": 2,
              "version_minor": 0
            },
            "text/plain": [
              "  0%|          | 0/12326 [00:00<?, ?it/s]"
            ]
          },
          "metadata": {},
          "output_type": "display_data"
        }
      ],
      "source": [
        "#reading train.sdf file\n",
        "training_set = read_sdf('train.sdf')\n",
        "testing_set = read_sdf('test_x.sdf')"
      ]
    },
    {
      "cell_type": "code",
      "execution_count": null,
      "metadata": {
        "colab": {
          "base_uri": "https://localhost:8080/"
        },
        "id": "tDIUd6FJsHDg",
        "outputId": "0ac989ae-39f9-44c1-d20d-49f0f24e026e"
      },
      "outputs": [
        {
          "name": "stderr",
          "output_type": "stream",
          "text": [
            "C:\\Users\\DeKaiTo\\AppData\\Local\\Temp/ipykernel_16828/852145860.py:1: VisibleDeprecationWarning: Creating an ndarray from ragged nested sequences (which is a list-or-tuple of lists-or-tuples-or ndarrays with different lengths or shapes) is deprecated. If you meant to do this, you must specify 'dtype=object' when creating the ndarray.\n",
            "  np.unique(np.array(training_set)[:,2],return_counts=True)\n"
          ]
        },
        {
          "data": {
            "text/plain": [
              "(array([0, 1], dtype=object), array([23806,  1218], dtype=int64))"
            ]
          },
          "execution_count": 4,
          "metadata": {},
          "output_type": "execute_result"
        }
      ],
      "source": [
        "np.unique(np.array(training_set)[:,2],return_counts=True)"
      ]
    },
    {
      "cell_type": "code",
      "execution_count": null,
      "metadata": {
        "id": "504362qJsHFw"
      },
      "outputs": [],
      "source": [
        "#splitting the train data\n",
        "training_set, validation_set = train_test_split(training_set, test_size=0.2)"
      ]
    },
    {
      "cell_type": "code",
      "execution_count": null,
      "metadata": {
        "colab": {
          "base_uri": "https://localhost:8080/"
        },
        "id": "ZL7bQTmnsHH3",
        "outputId": "91992d13-840e-46df-e21d-4eecef0f7c11"
      },
      "outputs": [
        {
          "name": "stderr",
          "output_type": "stream",
          "text": [
            "C:\\Users\\DeKaiTo\\AppData\\Local\\Temp/ipykernel_16828/852145860.py:1: VisibleDeprecationWarning: Creating an ndarray from ragged nested sequences (which is a list-or-tuple of lists-or-tuples-or ndarrays with different lengths or shapes) is deprecated. If you meant to do this, you must specify 'dtype=object' when creating the ndarray.\n",
            "  np.unique(np.array(training_set)[:,2],return_counts=True)\n"
          ]
        },
        {
          "data": {
            "text/plain": [
              "(array([0, 1], dtype=object), array([19052,   967], dtype=int64))"
            ]
          },
          "execution_count": 6,
          "metadata": {},
          "output_type": "execute_result"
        }
      ],
      "source": [
        "np.unique(np.array(training_set)[:,2],return_counts=True)"
      ]
    },
    {
      "cell_type": "code",
      "execution_count": null,
      "metadata": {
        "id": "PLOJzR94t5ZL"
      },
      "outputs": [],
      "source": [
        "colors = cm.rainbow(np.linspace(0, 1, 50))\n",
        "\n",
        "def visualize(sample):\n",
        "  #initiating an instance of Graph\n",
        "  G=nx.Graph()\n",
        "  #all atoms as nodes\n",
        "  nodes = sample[0]\n",
        "  #all connections as edges\n",
        "  edges = sample[1]\n",
        "  #empty dictionary for labels for the all nodes\n",
        "  labeldict={}\n",
        "  #empty array for each node color\n",
        "  node_color=[]\n",
        "  for i,n in enumerate(nodes):\n",
        "    #adding node to the graph each node as (0,1,2,3..)\n",
        "    G.add_node(i)\n",
        "    #dictionary building with [key,value] as [0:'C']\n",
        "    labeldict[i]=n\n",
        "    #color coding\n",
        "    node_color.append(colors[hash(n)%len(colors)])\n",
        "\n",
        "  # a list of nodes:\n",
        "  for e in edges:\n",
        "    #adding egde to the graph from one connection to other connection\n",
        "    G.add_edge(e[0], e[1]) \n",
        "\n",
        "  #drawing the graph with labels for nodes as atoms and connections as edges    \n",
        "  nx.draw(G, labels=labeldict, with_labels = True, node_color = node_color)\n",
        "  #draw the graph\n",
        "  plt.show()\n",
        "  #returns graph\n",
        "  return G"
      ]
    },
    {
      "cell_type": "code",
      "execution_count": null,
      "metadata": {
        "colab": {
          "base_uri": "https://localhost:8080/",
          "height": 533
        },
        "id": "TqsMTZTxt5bq",
        "outputId": "29f97d45-a3a6-4f48-ba45-eb683430895e"
      },
      "outputs": [
        {
          "data": {
            "image/png": "[encoded data removed]",
            "text/plain": [
              "<Figure size 432x288 with 1 Axes>"
            ]
          },
          "metadata": {},
          "output_type": "display_data"
        },
        {
          "data": {
            "text/plain": [
              "<networkx.classes.graph.Graph at 0x2411314d400>"
            ]
          },
          "execution_count": 8,
          "metadata": {},
          "output_type": "execute_result"
        }
      ],
      "source": [
        "#displaying one sample\n",
        "plt.clf()\n",
        "visualize(training_set[5])"
      ]
    },
    {
      "cell_type": "markdown",
      "metadata": {
        "id": "ju9rslKkunTm"
      },
      "source": [
        "# **Part 1: Data Preprocessing**"
      ]
    },
    {
      "cell_type": "code",
      "execution_count": null,
      "metadata": {
        "id": "5oI9qv8vu_Iz"
      },
      "outputs": [],
      "source": [
        "max_vocab = 500\n",
        "# maximum length of the tokenized vector\n",
        "max_len = 100 \n",
        "\n",
        "# build vocabulary from training set only for nodes characters\n",
        "all_nodes = [s[0] for s in training_set]\n",
        "\n",
        "#training tokenizer\n",
        "tokenizer = Tokenizer(num_words = max_vocab)\n",
        "tokenizer.fit_on_texts(all_nodes)"
      ]
    },
    {
      "cell_type": "code",
      "execution_count": null,
      "metadata": {
        "id": "O7_X0jbgu_LJ"
      },
      "outputs": [],
      "source": [
        "random.seed(0)\n",
        "def prepare_single_batch(samples):\n",
        "  #nodes characters array\n",
        "  sample_nodes = [s[0] for s in samples]\n",
        "  #tokenizing the sample nodes\n",
        "  sample_nodes = tokenizer.texts_to_sequences(sample_nodes)\n",
        "  #pad_sequences for each sample node with post padding and post truncating \n",
        "  sample_nodes = pad_sequences(sample_nodes, padding='post', truncating = 'pre')\n",
        "  #maximum length of nodes \n",
        "  max_nodes_len = np.shape(sample_nodes)[1]\n",
        "  #defining edges\n",
        "  edges = [s[1]+i*max_nodes_len for i,s in enumerate(samples)]\n",
        "  edges = [e for e in edges if len(e) > 0]\n",
        "\n",
        "  #array definition for segmented_ids\n",
        "  node_to_graph = [[i]*max_nodes_len for i in range(len(samples))]\n",
        "  \n",
        "  #reshaping as 1 vector\n",
        "  all_nodes = np.reshape(sample_nodes, -1)\n",
        "  #concatenating all the edges as size [total_edges ,2]\n",
        "  all_edges = np.concatenate(edges)\n",
        "\n",
        "  node_to_graph = np.reshape(node_to_graph, -1)\n",
        "  #returns a dictionary of features(data,edges,node2grah) and label\n",
        "  return {\n",
        "      'data': all_nodes,\n",
        "      'edges': all_edges,\n",
        "      'node2grah': node_to_graph,\n",
        "  }, np.array([s[2] for s in samples])"
      ]
    },
    {
      "cell_type": "code",
      "execution_count": null,
      "metadata": {
        "id": "RxJOtG0wvKN-"
      },
      "outputs": [],
      "source": [
        "def gen_batch(dataset, batch_size=16, repeat=False, shuffle=True):\n",
        "    while True:\n",
        "      dataset = list(dataset)\n",
        "      if shuffle:\n",
        "        #randomly shuffling\n",
        "        random.shuffle(dataset)\n",
        "      \n",
        "      #length of dataset\n",
        "      l = len(dataset)\n",
        "      #for creating batches from given dataset\n",
        "      for ndx in range(0, l, batch_size):\n",
        "        #creating batch samples with given batch_size\n",
        "        batch_samples = dataset[ndx:min(ndx + batch_size, l)]\n",
        "        #returning a generator with prepared batches\n",
        "        yield prepare_single_batch(batch_samples)\n",
        "        \n",
        "      if not repeat:\n",
        "          break"
      ]
    },
    {
      "cell_type": "code",
      "execution_count": null,
      "metadata": {
        "colab": {
          "base_uri": "https://localhost:8080/"
        },
        "id": "UpxtFrRxvKQd",
        "outputId": "9123e42e-73dd-4bbb-d062-50becb2ba2a9"
      },
      "outputs": [
        {
          "name": "stdout",
          "output_type": "stream",
          "text": [
            "data\n",
            "Shape is (228,)\n",
            "edges\n",
            "Shape is (126, 2)\n",
            "node2grah\n",
            "Shape is (228,)\n",
            "label [0 1 0 0]\n"
          ]
        }
      ],
      "source": [
        "# showing one batch:\n",
        "for train_batch in gen_batch(training_set, batch_size=4):\n",
        "    for k,v in train_batch[0].items():\n",
        "        print(k)        \n",
        "        print(\"Shape is \"+str(np.shape(v)))\n",
        "        pass\n",
        "    print('label', train_batch[1])\n",
        "    break"
      ]
    },
    {
      "cell_type": "markdown",
      "metadata": {
        "id": "OmYsFtefvWvE"
      },
      "source": [
        "# **Part 2: Building The Models**"
      ]
    },
    {
      "cell_type": "markdown",
      "metadata": {
        "id": "W30yR6DBujwV"
      },
      "source": [
        "## Trial 1 Using Default Hyperparameters And not fixing the Data Imbalance"
      ]
    },
    {
      "cell_type": "code",
      "execution_count": null,
      "metadata": {
        "colab": {
          "base_uri": "https://localhost:8080/"
        },
        "id": "3n1p_sTlt5eS",
        "outputId": "24aefc1c-eb14-486f-e258-298e7581c26a"
      },
      "outputs": [
        {
          "name": "stdout",
          "output_type": "stream",
          "text": [
            "gnn_out KerasTensor(type_spec=TensorSpec(shape=(None, 32), dtype=tf.float32, name=None), name='gnn/StatefulPartitionedCall:0', description=\"created by layer 'gnn'\")\n",
            "mean: KerasTensor(type_spec=TensorSpec(shape=(None, 32), dtype=tf.float32, name=None), name='tf.math.segment_mean/SegmentMean:0', description=\"created by layer 'tf.math.segment_mean'\")\n",
            "pred: KerasTensor(type_spec=TensorSpec(shape=(None, 1), dtype=tf.float32, name=None), name='dense/Sigmoid:0', description=\"created by layer 'dense'\")\n",
            "Model: \"model\"\n",
            "__________________________________________________________________________________________________\n",
            " Layer (type)                   Output Shape         Param #     Connected to                     \n",
            "==================================================================================================\n",
            " input_3 (InputLayer)           [(None,)]            0           []                               \n",
            "                                                                                                  \n",
            " input_1 (InputLayer)           [(None,)]            0           []                               \n",
            "                                                                                                  \n",
            " tf.math.reduce_max (TFOpLambda  ()                  0           ['input_3[0][0]']                \n",
            " )                                                                                                \n",
            "                                                                                                  \n",
            " embedding (Embedding)          (None, 80)           40000       ['input_1[0][0]']                \n",
            "                                                                                                  \n",
            " input_2 (InputLayer)           [(None, 2)]          0           []                               \n",
            "                                                                                                  \n",
            " tf.__operators__.add (TFOpLamb  ()                  0           ['tf.math.reduce_max[0][0]']     \n",
            " da)                                                                                              \n",
            "                                                                                                  \n",
            " gnn (GNN)                      (None, 32)           24384       ['embedding[0][0]',              \n",
            "                                                                  'input_2[0][0]',                \n",
            "                                                                  'input_3[0][0]',                \n",
            "                                                                  'tf.__operators__.add[0][0]']   \n",
            "                                                                                                  \n",
            " tf.math.segment_mean (TFOpLamb  (None, 32)          0           ['gnn[0][0]',                    \n",
            " da)                                                              'input_3[0][0]']                \n",
            "                                                                                                  \n",
            " dense (Dense)                  (None, 1)            33          ['tf.math.segment_mean[0][0]']   \n",
            "                                                                                                  \n",
            "==================================================================================================\n",
            "Total params: 64,417\n",
            "Trainable params: 64,417\n",
            "Non-trainable params: 0\n",
            "__________________________________________________________________________________________________\n"
          ]
        }
      ],
      "source": [
        "#Input layer (tokenized text)\n",
        "data = keras.Input(batch_shape=(None,))\n",
        "\n",
        "# the first dim is different.it is the total number of edges in this batch\n",
        "\n",
        "#Input for edge data\n",
        "edge = keras.Input(batch_shape=(None, 2), dtype=tf.int32)\n",
        "#Input for node2graph ids\n",
        "node2graph = keras.Input(batch_shape=(None,), dtype=tf.int32)\n",
        "#embedding over data with each token as a vector\n",
        "embeded = Embedding(tokenizer.num_words, 80)(data)\n",
        "\n",
        "\n",
        "# number of graphs\n",
        "#calculating number of graphs\n",
        "num_graph = tf.reduce_max(node2graph)+1  \n",
        "\n",
        "#gnn_input layer with inputs as defined above\n",
        "gnn_input = GNNInput(\n",
        "    node_features=embeded,\n",
        "    adjacency_lists=(edge,),\n",
        "    node_to_graph_map=node2graph, \n",
        "    num_graphs=num_graph,\n",
        ")\n",
        "\n",
        "#defining hyperparameters for GNN layer\n",
        "params = GNN.get_default_hyperparameters()\n",
        "params[\"hidden_dim\"] = 32\n",
        "gnn_layer = GNN(params)  \n",
        "#outpur shape: [data_dimension,hidden layers]\n",
        "gnn_out = gnn_layer(gnn_input) \n",
        "\n",
        "print('gnn_out', gnn_out)           \n",
        "\n",
        "#calculating segmented mean based on segment_ids\n",
        "avg = segment_mean(\n",
        "    data=gnn_out,\n",
        "    segment_ids=node2graph\n",
        "    )\n",
        "\n",
        "print('mean:', avg)\n",
        "\n",
        "#final dense layer with sigmoid\n",
        "pred = Dense(1, activation='sigmoid')(avg)\n",
        "#output shape: [batch_size,1]\n",
        "print('pred:', pred)\n",
        "\n",
        "#Building The Model \n",
        "#inputs is dictionary of data, edges, node2graph\n",
        "#output: prediction value from dense layer\n",
        "model = Model(\n",
        "    inputs={\n",
        "        'data': data, \n",
        "        'edges': edge,\n",
        "        'node2grah': node2graph,\n",
        "    },\n",
        "    outputs=pred\n",
        ")\n",
        "model.summary()"
      ]
    },
    {
      "cell_type": "code",
      "execution_count": null,
      "metadata": {
        "id": "Dpx71cezt5gq"
      },
      "outputs": [],
      "source": [
        "# Compile the model by using my adam optimizer and BinaryCrossentropy loss\n",
        "model.compile(\n",
        "    optimizer = \"adam\",\n",
        "    loss='BinaryCrossentropy',\n",
        "    metrics=['AUC']\n",
        ")"
      ]
    },
    {
      "cell_type": "code",
      "execution_count": null,
      "metadata": {
        "colab": {
          "base_uri": "https://localhost:8080/"
        },
        "id": "P9goEt1et5jF",
        "outputId": "2b6b2d75-8ac5-4e2b-ede2-507b77d896df"
      },
      "outputs": [
        {
          "name": "stdout",
          "output_type": "stream",
          "text": [
            "Epoch 1/30\n",
            "626/626 [==============================] - 9s 11ms/step - loss: 0.2523 - auc: 0.4823 - val_loss: 0.2039 - val_auc: 0.6819\n",
            "Epoch 2/30\n",
            "626/626 [==============================] - 7s 11ms/step - loss: 0.1927 - auc: 0.6100 - val_loss: 0.1822 - val_auc: 0.6764\n",
            "Epoch 3/30\n",
            "626/626 [==============================] - 7s 11ms/step - loss: 0.1874 - auc: 0.6451 - val_loss: 0.1819 - val_auc: 0.7160\n",
            "Epoch 4/30\n",
            "626/626 [==============================] - 7s 12ms/step - loss: 0.1863 - auc: 0.6484 - val_loss: 0.1813 - val_auc: 0.7083\n",
            "Epoch 5/30\n",
            "626/626 [==============================] - 7s 11ms/step - loss: 0.1835 - auc: 0.6713 - val_loss: 0.1795 - val_auc: 0.7297\n",
            "Epoch 6/30\n",
            "626/626 [==============================] - 7s 12ms/step - loss: 0.1816 - auc: 0.6849 - val_loss: 0.1673 - val_auc: 0.7482\n",
            "Epoch 7/30\n",
            "626/626 [==============================] - 7s 11ms/step - loss: 0.1798 - auc: 0.7003 - val_loss: 0.1726 - val_auc: 0.7445\n",
            "Epoch 8/30\n",
            "626/626 [==============================] - 7s 11ms/step - loss: 0.1778 - auc: 0.7180 - val_loss: 0.1733 - val_auc: 0.7663\n",
            "Epoch 9/30\n",
            "626/626 [==============================] - 7s 11ms/step - loss: 0.1747 - auc: 0.7344 - val_loss: 0.1777 - val_auc: 0.7955\n",
            "Epoch 10/30\n",
            "626/626 [==============================] - 7s 11ms/step - loss: 0.1748 - auc: 0.7307 - val_loss: 0.1736 - val_auc: 0.7708\n",
            "Epoch 11/30\n",
            "626/626 [==============================] - 7s 11ms/step - loss: 0.1706 - auc: 0.7548 - val_loss: 0.1672 - val_auc: 0.7697\n",
            "Epoch 12/30\n",
            "626/626 [==============================] - 7s 11ms/step - loss: 0.1727 - auc: 0.7409 - val_loss: 0.1661 - val_auc: 0.7926\n",
            "Epoch 13/30\n",
            "626/626 [==============================] - 7s 12ms/step - loss: 0.1719 - auc: 0.7453 - val_loss: 0.1626 - val_auc: 0.7920\n",
            "Epoch 14/30\n",
            "626/626 [==============================] - 7s 11ms/step - loss: 0.1702 - auc: 0.7565 - val_loss: 0.1671 - val_auc: 0.7999\n",
            "Epoch 15/30\n",
            "626/626 [==============================] - 7s 11ms/step - loss: 0.1710 - auc: 0.7524 - val_loss: 0.1674 - val_auc: 0.7877\n",
            "Epoch 16/30\n",
            "626/626 [==============================] - 7s 11ms/step - loss: 0.1706 - auc: 0.7509 - val_loss: 0.1622 - val_auc: 0.8096\n",
            "Epoch 17/30\n",
            "626/626 [==============================] - 7s 11ms/step - loss: 0.1702 - auc: 0.7549 - val_loss: 0.1661 - val_auc: 0.7899\n",
            "Epoch 18/30\n",
            "626/626 [==============================] - 7s 11ms/step - loss: 0.1689 - auc: 0.7650 - val_loss: 0.1700 - val_auc: 0.7904\n",
            "Epoch 19/30\n",
            "626/626 [==============================] - 7s 11ms/step - loss: 0.1694 - auc: 0.7641 - val_loss: 0.1641 - val_auc: 0.7902\n",
            "Epoch 20/30\n",
            "626/626 [==============================] - 7s 11ms/step - loss: 0.1676 - auc: 0.7716 - val_loss: 0.1642 - val_auc: 0.7948\n",
            "Epoch 21/30\n",
            "626/626 [==============================] - 7s 11ms/step - loss: 0.1685 - auc: 0.7671 - val_loss: 0.1701 - val_auc: 0.7765\n",
            "Epoch 22/30\n",
            "626/626 [==============================] - 6s 10ms/step - loss: 0.1676 - auc: 0.7662 - val_loss: 0.1690 - val_auc: 0.7687\n",
            "Epoch 23/30\n",
            "626/626 [==============================] - 6s 10ms/step - loss: 0.1667 - auc: 0.7736 - val_loss: 0.1625 - val_auc: 0.8060\n",
            "Epoch 24/30\n",
            "626/626 [==============================] - 6s 10ms/step - loss: 0.1650 - auc: 0.7783 - val_loss: 0.1676 - val_auc: 0.7837\n",
            "Epoch 25/30\n",
            "626/626 [==============================] - 7s 11ms/step - loss: 0.1657 - auc: 0.7754 - val_loss: 0.1652 - val_auc: 0.8066\n",
            "Epoch 26/30\n",
            "626/626 [==============================] - 6s 10ms/step - loss: 0.1664 - auc: 0.7739 - val_loss: 0.1657 - val_auc: 0.7962\n",
            "Epoch 27/30\n",
            "626/626 [==============================] - 6s 10ms/step - loss: 0.1640 - auc: 0.7864 - val_loss: 0.1660 - val_auc: 0.8051\n",
            "Epoch 28/30\n",
            "626/626 [==============================] - 6s 10ms/step - loss: 0.1642 - auc: 0.7825 - val_loss: 0.1641 - val_auc: 0.8125\n",
            "Epoch 29/30\n",
            "626/626 [==============================] - 7s 10ms/step - loss: 0.1646 - auc: 0.7802 - val_loss: 0.1612 - val_auc: 0.8002\n",
            "Epoch 30/30\n",
            "626/626 [==============================] - 7s 10ms/step - loss: 0.1638 - auc: 0.7856 - val_loss: 0.1584 - val_auc: 0.8108\n"
          ]
        }
      ],
      "source": [
        "batch_size = 32\n",
        "#math.ceil: returns the smallest integral value greater than the number\n",
        "#no. of batches for training data\n",
        "num_batchs = math.ceil(len(training_set) / batch_size)\n",
        "#no. of batches for validation data\n",
        "num_batchs_validation = math.ceil(len(validation_set) / batch_size)\n",
        "hist = model.fit(\n",
        "    gen_batch(\n",
        "        training_set, batch_size=batch_size, repeat=True\n",
        "    ),\n",
        "    steps_per_epoch=num_batchs,\n",
        "    epochs=30,\n",
        "    validation_data=gen_batch(\n",
        "        validation_set, batch_size=32, repeat=True\n",
        "    ),\n",
        "    validation_steps=num_batchs_validation,\n",
        "    verbose=1\n",
        ")"
      ]
    },
    {
      "cell_type": "markdown",
      "metadata": {
        "id": "0uR4Cs_VwB-P"
      },
      "source": [
        "- 78.56% training AUC\n",
        "- 81.08% validation AUC\n",
        "It's a good start but we Still can improve it"
      ]
    },
    {
      "cell_type": "markdown",
      "metadata": {
        "id": "iF9avmoRwY1q"
      },
      "source": [
        "## Trial 2 Using **Upsampling** to fix the Data Imbalance With Default Hyperparameters"
      ]
    },
    {
      "cell_type": "code",
      "execution_count": null,
      "metadata": {
        "colab": {
          "referenced_widgets": [
            "cd7feacd7421452a9cbbc55019d5fe58"
          ]
        },
        "id": "Ajpz0SGM-VJe",
        "outputId": "6f45bac7-7895-4bce-fce7-577e7450144c"
      },
      "outputs": [
        {
          "data": {
            "application/vnd.jupyter.widget-view+json": {
              "model_id": "cd7feacd7421452a9cbbc55019d5fe58",
              "version_major": 2,
              "version_minor": 0
            },
            "text/plain": [
              "  0%|          | 0/25024 [00:00<?, ?it/s]"
            ]
          },
          "metadata": {},
          "output_type": "display_data"
        }
      ],
      "source": [
        "training_set = read_sdf('train.sdf')"
      ]
    },
    {
      "cell_type": "code",
      "execution_count": null,
      "metadata": {
        "id": "MrCUqGzzwC6G",
        "outputId": "a18030e6-544a-4fea-91b3-80eb55704376"
      },
      "outputs": [
        {
          "name": "stderr",
          "output_type": "stream",
          "text": [
            "C:\\Users\\DeKaiTo\\AppData\\Local\\Temp/ipykernel_9620/4094584240.py:1: VisibleDeprecationWarning: Creating an ndarray from ragged nested sequences (which is a list-or-tuple of lists-or-tuples-or ndarrays with different lengths or shapes) is deprecated. If you meant to do this, you must specify 'dtype=object' when creating the ndarray.\n",
            "  unique, counts = np.unique(np.array(training_set)[:,2], return_counts=True)\n"
          ]
        },
        {
          "data": {
            "image/png": "[encoded data removed]",
            "text/plain": [
              "<Figure size 432x288 with 1 Axes>"
            ]
          },
          "metadata": {
            "needs_background": "light"
          },
          "output_type": "display_data"
        }
      ],
      "source": [
        "unique, counts = np.unique(np.array(training_set)[:,2], return_counts=True)\n",
        "maxCount=23806\n",
        "sns.barplot(x=unique, y=counts)\n",
        "plt.xlabel('target')\n",
        "plt.ylabel('Counts')\n",
        "plt.title('Counts of target')\n",
        "plt.show()"
      ]
    },
    {
      "cell_type": "code",
      "execution_count": null,
      "metadata": {
        "id": "pCTMNMLLxNMg",
        "outputId": "b9f37482-4cf0-4c81-f04c-4b2f7f58679f"
      },
      "outputs": [
        {
          "name": "stderr",
          "output_type": "stream",
          "text": [
            "C:\\Users\\DeKaiTo\\AppData\\Local\\Temp/ipykernel_9620/795063482.py:2: VisibleDeprecationWarning: Creating an ndarray from ragged nested sequences (which is a list-or-tuple of lists-or-tuples-or ndarrays with different lengths or shapes) is deprecated. If you meant to do this, you must specify 'dtype=object' when creating the ndarray.\n",
            "  data = pd.DataFrame(np.array(training_set)[:,:], columns = ['0', '1', 'target'])\n"
          ]
        }
      ],
      "source": [
        "#convert the data from List to DataFrame to make upsampling\n",
        "data = pd.DataFrame(np.array(training_set)[:,:], columns = ['0', '1', 'target'])"
      ]
    },
    {
      "cell_type": "code",
      "execution_count": null,
      "metadata": {
        "id": "v7ikq89kx77s"
      },
      "outputs": [],
      "source": [
        "resampling = data.copy()  #take a copy of dataframe\n",
        "class_0 = resampling[resampling['target']==0]   # all rows has target zero\n",
        "class_1 = resampling[resampling['target']==1]   # all rows has target one\n",
        "class_1_after = resample(class_1, replace=True,n_samples = maxCount)   \n",
        "data_upsampled = pd.concat([class_0, class_1_after])    #add the new rows "
      ]
    },
    {
      "cell_type": "code",
      "execution_count": null,
      "metadata": {
        "id": "MxbKUmPdx9Zk",
        "outputId": "1afead8c-fa83-4a19-fb85-e357e7753dc9"
      },
      "outputs": [
        {
          "data": {
            "text/plain": [
              "0    23806\n",
              "1    23806\n",
              "Name: target, dtype: int64"
            ]
          },
          "execution_count": 24,
          "metadata": {},
          "output_type": "execute_result"
        }
      ],
      "source": [
        "data_upsampled['target'].value_counts()"
      ]
    },
    {
      "cell_type": "code",
      "execution_count": null,
      "metadata": {
        "id": "pl3P60ETx-8F",
        "outputId": "5be76d6d-e966-4759-fab4-18464db11615"
      },
      "outputs": [
        {
          "data": {
            "image/png": "[encoded data removed]",
            "text/plain": [
              "<Figure size 432x288 with 1 Axes>"
            ]
          },
          "metadata": {
            "needs_background": "light"
          },
          "output_type": "display_data"
        }
      ],
      "source": [
        "sns.countplot(x='target', data=data_upsampled)\n",
        "plt.xlabel('Target')\n",
        "plt.ylabel('Counts')\n",
        "plt.title('Counts of Target')\n",
        "plt.show()"
      ]
    },
    {
      "cell_type": "code",
      "execution_count": null,
      "metadata": {
        "id": "fYrn-bXlyAAG"
      },
      "outputs": [],
      "source": [
        "#converting the upsampled DataFrame into list\n",
        "training_set = data_upsampled.values.tolist()"
      ]
    },
    {
      "cell_type": "code",
      "execution_count": null,
      "metadata": {
        "id": "Bfd9PzGGyCrH"
      },
      "outputs": [],
      "source": [
        "training_set, validation_set = train_test_split(training_set, test_size=0.15)"
      ]
    },
    {
      "cell_type": "code",
      "execution_count": null,
      "metadata": {
        "id": "Vp1HBSKwyErw",
        "outputId": "df3c0b16-c1c1-4c28-aeed-d2fb0727333c"
      },
      "outputs": [
        {
          "data": {
            "image/png": "[encoded data removed]",
            "text/plain": [
              "<Figure size 432x288 with 1 Axes>"
            ]
          },
          "metadata": {},
          "output_type": "display_data"
        },
        {
          "data": {
            "text/plain": [
              "<networkx.classes.graph.Graph at 0x19c78103460>"
            ]
          },
          "execution_count": 28,
          "metadata": {},
          "output_type": "execute_result"
        }
      ],
      "source": [
        "#displaying one sample\n",
        "plt.clf()\n",
        "visualize(training_set[5])"
      ]
    },
    {
      "cell_type": "code",
      "execution_count": null,
      "metadata": {
        "id": "Rf63B6JvyGS4"
      },
      "outputs": [],
      "source": [
        "#vocabulary size\n",
        "max_vocab = 500\n",
        "# maximum length of the tokenized vector\n",
        "max_len = 100 \n",
        "\n",
        "# build vocabulary from training set only for nodes characters\n",
        "all_nodes = [s[0] for s in training_set]\n",
        "\n",
        "#training tokenizer\n",
        "tokenizer = Tokenizer(num_words = max_vocab)\n",
        "tokenizer.fit_on_texts(all_nodes)"
      ]
    },
    {
      "cell_type": "code",
      "execution_count": null,
      "metadata": {
        "id": "wcIrQLZ5yMy0",
        "outputId": "0cdb6404-f184-489f-f431-581164149845"
      },
      "outputs": [
        {
          "name": "stdout",
          "output_type": "stream",
          "text": [
            "data\n",
            "Shape is (160,)\n",
            "edges\n",
            "Shape is (108, 2)\n",
            "node2grah\n",
            "Shape is (160,)\n",
            "label [0 0 1 0]\n"
          ]
        }
      ],
      "source": [
        "# showing one batch:\n",
        "for train_batch in gen_batch(training_set, batch_size=4):\n",
        "    for k,v in train_batch[0].items():\n",
        "        print(k)  \n",
        "        print(\"Shape is \"+str(np.shape(v)))\n",
        "        pass\n",
        "    print('label', train_batch[1])\n",
        "    break"
      ]
    },
    {
      "cell_type": "code",
      "execution_count": null,
      "metadata": {
        "id": "8GqNIGHTyO79",
        "outputId": "bc969733-1f62-4622-c453-165678461aab"
      },
      "outputs": [
        {
          "name": "stdout",
          "output_type": "stream",
          "text": [
            "gnn_out KerasTensor(type_spec=TensorSpec(shape=(None, 40), dtype=tf.float32, name=None), name='gnn_1/StatefulPartitionedCall:0', description=\"created by layer 'gnn_1'\")\n",
            "mean: KerasTensor(type_spec=TensorSpec(shape=(None, 40), dtype=tf.float32, name=None), name='tf.math.segment_mean_1/SegmentMean:0', description=\"created by layer 'tf.math.segment_mean_1'\")\n",
            "pred: KerasTensor(type_spec=TensorSpec(shape=(None, 1), dtype=tf.float32, name=None), name='dense_1/Sigmoid:0', description=\"created by layer 'dense_1'\")\n",
            "Model: \"model_1\"\n",
            "__________________________________________________________________________________________________\n",
            " Layer (type)                   Output Shape         Param #     Connected to                     \n",
            "==================================================================================================\n",
            " input_6 (InputLayer)           [(None,)]            0           []                               \n",
            "                                                                                                  \n",
            " input_4 (InputLayer)           [(None,)]            0           []                               \n",
            "                                                                                                  \n",
            " tf.math.reduce_max_1 (TFOpLamb  ()                  0           ['input_6[0][0]']                \n",
            " da)                                                                                              \n",
            "                                                                                                  \n",
            " embedding_1 (Embedding)        (None, 80)           40000       ['input_4[0][0]']                \n",
            "                                                                                                  \n",
            " input_5 (InputLayer)           [(None, 2)]          0           []                               \n",
            "                                                                                                  \n",
            " tf.__operators__.add_1 (TFOpLa  ()                  0           ['tf.math.reduce_max_1[0][0]']   \n",
            " mbda)                                                                                            \n",
            "                                                                                                  \n",
            " gnn_1 (GNN)                    (None, 40)           34640       ['embedding_1[0][0]',            \n",
            "                                                                  'input_5[0][0]',                \n",
            "                                                                  'input_6[0][0]',                \n",
            "                                                                  'tf.__operators__.add_1[0][0]'] \n",
            "                                                                                                  \n",
            " tf.math.segment_mean_1 (TFOpLa  (None, 40)          0           ['gnn_1[0][0]',                  \n",
            " mbda)                                                            'input_6[0][0]']                \n",
            "                                                                                                  \n",
            " dense_1 (Dense)                (None, 1)            41          ['tf.math.segment_mean_1[0][0]'] \n",
            "                                                                                                  \n",
            "==================================================================================================\n",
            "Total params: 74,681\n",
            "Trainable params: 74,681\n",
            "Non-trainable params: 0\n",
            "__________________________________________________________________________________________________\n"
          ]
        }
      ],
      "source": [
        "data = keras.Input(batch_shape=(None,))\n",
        "\n",
        "edge = keras.Input(batch_shape=(None, 2), dtype=tf.int32)\n",
        "node2graph = keras.Input(batch_shape=(None,), dtype=tf.int32)\n",
        "embeded = Embedding(tokenizer.num_words, 80)(data)\n",
        "\n",
        "\n",
        "num_graph = tf.reduce_max(node2graph)+1  \n",
        "\n",
        "gnn_input = GNNInput(\n",
        "    node_features=embeded,\n",
        "    adjacency_lists=(edge,),\n",
        "    node_to_graph_map=node2graph, \n",
        "    num_graphs=num_graph,\n",
        ")\n",
        "\n",
        "params = GNN.get_default_hyperparameters()\n",
        "params[\"hidden_dim\"] = 40\n",
        "gnn_layer = GNN(params)  \n",
        "gnn_out = gnn_layer(gnn_input) \n",
        "\n",
        "print('gnn_out', gnn_out)           \n",
        "\n",
        "avg = segment_mean(\n",
        "    data=gnn_out,\n",
        "    segment_ids=node2graph\n",
        "    )\n",
        "\n",
        "print('mean:', avg)\n",
        "\n",
        "pred = Dense(1, activation='sigmoid')(avg)\n",
        "print('pred:', pred)\n",
        "\n",
        "model = Model(\n",
        "    inputs={\n",
        "        'data': data, \n",
        "        'edges': edge,\n",
        "        'node2grah': node2graph,\n",
        "    },\n",
        "    outputs=pred\n",
        ")\n",
        "model.summary()"
      ]
    },
    {
      "cell_type": "code",
      "execution_count": null,
      "metadata": {
        "id": "MBbmmo-PyRel"
      },
      "outputs": [],
      "source": [
        "model.compile(\n",
        "    optimizer = \"adam\",\n",
        "    loss='BinaryCrossentropy',\n",
        "    metrics=['AUC']\n",
        ")"
      ]
    },
    {
      "cell_type": "code",
      "execution_count": null,
      "metadata": {
        "id": "Z5c2VwP-ycpz",
        "outputId": "0e1ecef3-6faf-4858-a30a-274b14da4d25"
      },
      "outputs": [
        {
          "name": "stdout",
          "output_type": "stream",
          "text": [
            "Epoch 1/30\n",
            "1265/1265 [==============================] - 20s 14ms/step - loss: 0.6196 - auc: 0.7159 - val_loss: 0.5928 - val_auc: 0.7495\n",
            "Epoch 2/30\n",
            "1265/1265 [==============================] - 18s 14ms/step - loss: 0.5856 - auc: 0.7565 - val_loss: 0.5774 - val_auc: 0.7739\n",
            "Epoch 3/30\n",
            "1265/1265 [==============================] - 18s 14ms/step - loss: 0.5685 - auc: 0.7764 - val_loss: 0.5663 - val_auc: 0.7829\n",
            "Epoch 4/30\n",
            "1265/1265 [==============================] - 17s 14ms/step - loss: 0.5503 - auc: 0.7945 - val_loss: 0.5488 - val_auc: 0.7961\n",
            "Epoch 5/30\n",
            "1265/1265 [==============================] - 17s 14ms/step - loss: 0.5370 - auc: 0.8066 - val_loss: 0.5358 - val_auc: 0.8127\n",
            "Epoch 6/30\n",
            "1265/1265 [==============================] - 18s 14ms/step - loss: 0.5239 - auc: 0.8180 - val_loss: 0.5197 - val_auc: 0.8232\n",
            "Epoch 7/30\n",
            "1265/1265 [==============================] - 17s 14ms/step - loss: 0.5109 - auc: 0.8287 - val_loss: 0.5065 - val_auc: 0.8307\n",
            "Epoch 8/30\n",
            "1265/1265 [==============================] - 17s 14ms/step - loss: 0.5010 - auc: 0.8362 - val_loss: 0.4928 - val_auc: 0.8426\n",
            "Epoch 9/30\n",
            "1265/1265 [==============================] - 18s 14ms/step - loss: 0.4896 - auc: 0.8445 - val_loss: 0.4914 - val_auc: 0.8426\n",
            "Epoch 10/30\n",
            "1265/1265 [==============================] - 18s 14ms/step - loss: 0.4781 - auc: 0.8522 - val_loss: 0.4759 - val_auc: 0.8547\n",
            "Epoch 11/30\n",
            "1265/1265 [==============================] - 18s 14ms/step - loss: 0.4666 - auc: 0.8605 - val_loss: 0.4616 - val_auc: 0.8646\n",
            "Epoch 12/30\n",
            "1265/1265 [==============================] - 18s 14ms/step - loss: 0.4567 - auc: 0.8670 - val_loss: 0.4545 - val_auc: 0.8691\n",
            "Epoch 13/30\n",
            "1265/1265 [==============================] - 18s 14ms/step - loss: 0.4466 - auc: 0.8738 - val_loss: 0.4423 - val_auc: 0.8769\n",
            "Epoch 14/30\n",
            "1265/1265 [==============================] - 17s 14ms/step - loss: 0.4353 - auc: 0.8807 - val_loss: 0.4236 - val_auc: 0.8875\n",
            "Epoch 15/30\n",
            "1265/1265 [==============================] - 17s 14ms/step - loss: 0.4264 - auc: 0.8862 - val_loss: 0.4247 - val_auc: 0.8899\n",
            "Epoch 16/30\n",
            "1265/1265 [==============================] - 18s 14ms/step - loss: 0.4189 - auc: 0.8902 - val_loss: 0.4212 - val_auc: 0.8920\n",
            "Epoch 17/30\n",
            "1265/1265 [==============================] - 17s 14ms/step - loss: 0.4106 - auc: 0.8951 - val_loss: 0.4003 - val_auc: 0.9016\n",
            "Epoch 18/30\n",
            "1265/1265 [==============================] - 17s 14ms/step - loss: 0.4016 - auc: 0.8996 - val_loss: 0.3878 - val_auc: 0.9079\n",
            "Epoch 19/30\n",
            "1265/1265 [==============================] - 17s 14ms/step - loss: 0.3962 - auc: 0.9025 - val_loss: 0.4007 - val_auc: 0.9022\n",
            "Epoch 20/30\n",
            "1265/1265 [==============================] - 17s 14ms/step - loss: 0.3851 - auc: 0.9083 - val_loss: 0.3832 - val_auc: 0.9097\n",
            "Epoch 21/30\n",
            "1265/1265 [==============================] - 18s 14ms/step - loss: 0.3785 - auc: 0.9118 - val_loss: 0.3824 - val_auc: 0.9140\n",
            "Epoch 22/30\n",
            "1265/1265 [==============================] - 18s 14ms/step - loss: 0.3704 - auc: 0.9156 - val_loss: 0.3876 - val_auc: 0.9093\n",
            "Epoch 23/30\n",
            "1265/1265 [==============================] - 18s 14ms/step - loss: 0.3645 - auc: 0.9179 - val_loss: 0.3811 - val_auc: 0.9201\n",
            "Epoch 24/30\n",
            "1265/1265 [==============================] - 17s 14ms/step - loss: 0.3609 - auc: 0.9198 - val_loss: 0.3686 - val_auc: 0.9167\n",
            "Epoch 25/30\n",
            "1265/1265 [==============================] - 17s 14ms/step - loss: 0.3545 - auc: 0.9227 - val_loss: 0.3449 - val_auc: 0.9273\n",
            "Epoch 26/30\n",
            "1265/1265 [==============================] - 17s 14ms/step - loss: 0.3490 - auc: 0.9250 - val_loss: 0.3660 - val_auc: 0.9205\n",
            "Epoch 27/30\n",
            "1265/1265 [==============================] - 18s 14ms/step - loss: 0.3449 - auc: 0.9269 - val_loss: 0.3640 - val_auc: 0.9219\n",
            "Epoch 28/30\n",
            "1265/1265 [==============================] - 17s 14ms/step - loss: 0.3420 - auc: 0.9282 - val_loss: 0.3344 - val_auc: 0.9333\n",
            "Epoch 29/30\n",
            "1265/1265 [==============================] - 17s 14ms/step - loss: 0.3330 - auc: 0.9320 - val_loss: 0.3629 - val_auc: 0.9269\n",
            "Epoch 30/30\n",
            "1265/1265 [==============================] - 17s 14ms/step - loss: 0.3282 - auc: 0.9338 - val_loss: 0.3421 - val_auc: 0.9353\n"
          ]
        }
      ],
      "source": [
        "batch_size = 32\n",
        "num_batchs = math.ceil(len(training_set) / batch_size)\n",
        "num_batchs_validation = math.ceil(len(validation_set) / batch_size)\n",
        "hist = model.fit(\n",
        "    gen_batch(\n",
        "        training_set, batch_size=batch_size, repeat=True\n",
        "    ),\n",
        "    steps_per_epoch=num_batchs,\n",
        "    epochs=30,\n",
        "    validation_data=gen_batch(\n",
        "        validation_set, batch_size=32, repeat=True\n",
        "    ),\n",
        "    validation_steps=num_batchs_validation,\n",
        "    verbose=1\n",
        ")\n"
      ]
    },
    {
      "cell_type": "code",
      "execution_count": null,
      "metadata": {
        "id": "4-D5CvXMyeAM",
        "outputId": "54983a76-f777-4b7c-e2f6-7407b30b2856"
      },
      "outputs": [
        {
          "name": "stdout",
          "output_type": "stream",
          "text": [
            "771/771 [==============================] - 3s 3ms/step\n"
          ]
        }
      ],
      "source": [
        "y_pred = model.predict(\n",
        "    gen_batch(testing_set, batch_size=16, shuffle=False)\n",
        ")\n",
        "y_pred = np.reshape(y_pred, -1)"
      ]
    },
    {
      "cell_type": "code",
      "execution_count": null,
      "metadata": {
        "id": "iewvqJI9yf99"
      },
      "outputs": [],
      "source": [
        "submission = pd.DataFrame({'label':y_pred})\n",
        "submission.index.name = 'id'\n",
        "submission.to_csv('Trial_2.csv')"
      ]
    },
    {
      "cell_type": "markdown",
      "metadata": {
        "id": "3D6KVs3g-VJg"
      },
      "source": [
        "On Kaggle It Got 0.81 Thats not very good so lets try the others"
      ]
    },
    {
      "cell_type": "markdown",
      "metadata": {
        "id": "kbxr60pV-VJg"
      },
      "source": [
        "## Trial 3 Using Upsampling to fix the Data Imbalance And Changing GGNN Hyperparameters"
      ]
    },
    {
      "cell_type": "code",
      "execution_count": null,
      "metadata": {
        "id": "PzHH8oXOynto",
        "outputId": "7da1461b-af8c-433a-a6f9-d50e8ed5675f"
      },
      "outputs": [
        {
          "name": "stdout",
          "output_type": "stream",
          "text": [
            "gnn_out KerasTensor(type_spec=TensorSpec(shape=(None, 32), dtype=tf.float32, name=None), name='gnn_2/StatefulPartitionedCall:0', description=\"created by layer 'gnn_2'\")\n",
            "Model: \"model_2\"\n",
            "__________________________________________________________________________________________________\n",
            " Layer (type)                   Output Shape         Param #     Connected to                     \n",
            "==================================================================================================\n",
            " input_9 (InputLayer)           [(None,)]            0           []                               \n",
            "                                                                                                  \n",
            " input_7 (InputLayer)           [(None,)]            0           []                               \n",
            "                                                                                                  \n",
            " tf.math.reduce_max_2 (TFOpLamb  ()                  0           ['input_9[0][0]']                \n",
            " da)                                                                                              \n",
            "                                                                                                  \n",
            " embedding_2 (Embedding)        (None, 80)           40000       ['input_7[0][0]']                \n",
            "                                                                                                  \n",
            " input_8 (InputLayer)           [(None, 2)]          0           []                               \n",
            "                                                                                                  \n",
            " tf.__operators__.add_2 (TFOpLa  ()                  0           ['tf.math.reduce_max_2[0][0]']   \n",
            " mbda)                                                                                            \n",
            "                                                                                                  \n",
            " gnn_2 (GNN)                    (None, 32)           81152       ['embedding_2[0][0]',            \n",
            "                                                                  'input_8[0][0]',                \n",
            "                                                                  'input_9[0][0]',                \n",
            "                                                                  'tf.__operators__.add_2[0][0]'] \n",
            "                                                                                                  \n",
            " tf.math.segment_mean_2 (TFOpLa  (None, 32)          0           ['gnn_2[0][0]',                  \n",
            " mbda)                                                            'input_9[0][0]']                \n",
            "                                                                                                  \n",
            " dense_2 (Dense)                (None, 128)          4224        ['tf.math.segment_mean_2[0][0]'] \n",
            "                                                                                                  \n",
            " dense_3 (Dense)                (None, 64)           8256        ['dense_2[0][0]']                \n",
            "                                                                                                  \n",
            " dense_4 (Dense)                (None, 1)            65          ['dense_3[0][0]']                \n",
            "                                                                                                  \n",
            "==================================================================================================\n",
            "Total params: 133,697\n",
            "Trainable params: 133,697\n",
            "Non-trainable params: 0\n",
            "__________________________________________________________________________________________________\n"
          ]
        }
      ],
      "source": [
        "data = keras.Input(batch_shape=(None,))\n",
        "\n",
        "edge = keras.Input(batch_shape=(None, 2), dtype=tf.int32)\n",
        "node2graph = keras.Input(batch_shape=(None,), dtype=tf.int32)\n",
        "\n",
        "embeded = Embedding(tokenizer.num_words, 80)(data)\n",
        "\n",
        "num_graph = tf.reduce_max(node2graph)+1  \n",
        "\n",
        "gnn_input = GNNInput(\n",
        "    node_features=embeded,\n",
        "    adjacency_lists=(edge,),\n",
        "    node_to_graph_map=node2graph, \n",
        "    num_graphs=num_graph,\n",
        ")\n",
        "\n",
        "params = GNN.get_default_hyperparameters()\n",
        "params[\"message_calculation_class\"] = 'GGNN'\n",
        "params[\"hidden_dim\"] = 32\n",
        "params[\"num_layers\"] = 6\n",
        "\n",
        "\n",
        "gnn_layer = GNN(params) \n",
        "\n",
        "gnn_out = gnn_layer(gnn_input)\n",
        "\n",
        "print('gnn_out', gnn_out)           \n",
        "\n",
        "avg = segment_mean(\n",
        "    data=gnn_out,\n",
        "    segment_ids=node2graph\n",
        "    )\n",
        "\n",
        "l1 = Dense(128,activation='relu')(avg)\n",
        "l2 = Dense(64,activation='relu')(l1)\n",
        "pred = Dense(1, activation='sigmoid')(l2)\n",
        "\n",
        "\n",
        "model2 = Model(\n",
        "    inputs={\n",
        "        'data': data, \n",
        "        'edges': edge,\n",
        "        'node2grah': node2graph,\n",
        "    },\n",
        "    outputs=pred\n",
        ")\n",
        "model2.summary()"
      ]
    },
    {
      "cell_type": "code",
      "execution_count": null,
      "metadata": {
        "id": "D4QlEYYj-VJh"
      },
      "outputs": [],
      "source": [
        "model2.compile(\n",
        "    optimizer = 'adam', \n",
        "    loss='BinaryCrossentropy',\n",
        "    metrics=['AUC']\n",
        ")"
      ]
    },
    {
      "cell_type": "code",
      "execution_count": null,
      "metadata": {
        "id": "ZqwfhTFi-VJh",
        "outputId": "b754cf20-04f1-46d7-bbee-d27bf3d631f5"
      },
      "outputs": [
        {
          "name": "stdout",
          "output_type": "stream",
          "text": [
            "Epoch 1/50\n",
            "633/633 [==============================] - 59s 86ms/step - loss: 0.6332 - auc: 0.6908 - val_loss: 0.5823 - val_auc: 0.7616\n",
            "Epoch 2/50\n",
            "633/633 [==============================] - 53s 84ms/step - loss: 0.5754 - auc: 0.7648 - val_loss: 0.5514 - val_auc: 0.7910\n",
            "Epoch 3/50\n",
            "633/633 [==============================] - 54s 85ms/step - loss: 0.5500 - auc: 0.7916 - val_loss: 0.5259 - val_auc: 0.8162\n",
            "Epoch 4/50\n",
            "633/633 [==============================] - 53s 84ms/step - loss: 0.5230 - auc: 0.8183 - val_loss: 0.5071 - val_auc: 0.8340\n",
            "Epoch 5/50\n",
            "633/633 [==============================] - 53s 83ms/step - loss: 0.5042 - auc: 0.8334 - val_loss: 0.4946 - val_auc: 0.8423\n",
            "Epoch 6/50\n",
            "633/633 [==============================] - 52s 83ms/step - loss: 0.4811 - auc: 0.8506 - val_loss: 0.4588 - val_auc: 0.8707\n",
            "Epoch 7/50\n",
            "633/633 [==============================] - 53s 83ms/step - loss: 0.4519 - auc: 0.8698 - val_loss: 0.4183 - val_auc: 0.8900\n",
            "Epoch 8/50\n",
            "633/633 [==============================] - 53s 84ms/step - loss: 0.4200 - auc: 0.8888 - val_loss: 0.3982 - val_auc: 0.9006\n",
            "Epoch 9/50\n",
            "633/633 [==============================] - 53s 84ms/step - loss: 0.3957 - auc: 0.9019 - val_loss: 0.3804 - val_auc: 0.9147\n",
            "Epoch 10/50\n",
            "633/633 [==============================] - 54s 86ms/step - loss: 0.3726 - auc: 0.9131 - val_loss: 0.3573 - val_auc: 0.9250\n",
            "Epoch 11/50\n",
            "633/633 [==============================] - 54s 86ms/step - loss: 0.3509 - auc: 0.9227 - val_loss: 0.3261 - val_auc: 0.9326\n",
            "Epoch 12/50\n",
            "633/633 [==============================] - 55s 86ms/step - loss: 0.3321 - auc: 0.9305 - val_loss: 0.3136 - val_auc: 0.9380\n",
            "Epoch 13/50\n",
            "633/633 [==============================] - 53s 84ms/step - loss: 0.3122 - auc: 0.9382 - val_loss: 0.2937 - val_auc: 0.9460\n",
            "Epoch 14/50\n",
            "633/633 [==============================] - 53s 84ms/step - loss: 0.2961 - auc: 0.9439 - val_loss: 0.2836 - val_auc: 0.9508\n",
            "Epoch 15/50\n",
            "633/633 [==============================] - 53s 84ms/step - loss: 0.2792 - auc: 0.9492 - val_loss: 0.2547 - val_auc: 0.9580\n",
            "Epoch 16/50\n",
            "633/633 [==============================] - 53s 84ms/step - loss: 0.2604 - auc: 0.9552 - val_loss: 0.2449 - val_auc: 0.9586\n",
            "Epoch 17/50\n",
            "633/633 [==============================] - 54s 85ms/step - loss: 0.2532 - auc: 0.9572 - val_loss: 0.2305 - val_auc: 0.9620\n",
            "Epoch 18/50\n",
            "633/633 [==============================] - 53s 84ms/step - loss: 0.2391 - auc: 0.9614 - val_loss: 0.2295 - val_auc: 0.9644\n",
            "Epoch 19/50\n",
            "633/633 [==============================] - 53s 84ms/step - loss: 0.2247 - auc: 0.9651 - val_loss: 0.2131 - val_auc: 0.9667\n",
            "Epoch 20/50\n",
            "633/633 [==============================] - 53s 83ms/step - loss: 0.2162 - auc: 0.9669 - val_loss: 0.2133 - val_auc: 0.9673\n",
            "Epoch 21/50\n",
            "633/633 [==============================] - 53s 84ms/step - loss: 0.2055 - auc: 0.9698 - val_loss: 0.2034 - val_auc: 0.9697\n",
            "Epoch 22/50\n",
            "633/633 [==============================] - 53s 83ms/step - loss: 0.2012 - auc: 0.9709 - val_loss: 0.1989 - val_auc: 0.9713\n",
            "Epoch 23/50\n",
            "633/633 [==============================] - 52s 82ms/step - loss: 0.1902 - auc: 0.9737 - val_loss: 0.1927 - val_auc: 0.9737\n",
            "Epoch 24/50\n",
            "633/633 [==============================] - 52s 82ms/step - loss: 0.1805 - auc: 0.9755 - val_loss: 0.1778 - val_auc: 0.9748\n",
            "Epoch 25/50\n",
            "633/633 [==============================] - 52s 82ms/step - loss: 0.1770 - auc: 0.9763 - val_loss: 0.1965 - val_auc: 0.9749\n",
            "Epoch 26/50\n",
            "633/633 [==============================] - 52s 82ms/step - loss: 0.1677 - auc: 0.9782 - val_loss: 0.1674 - val_auc: 0.9788\n",
            "Epoch 27/50\n",
            "633/633 [==============================] - 52s 81ms/step - loss: 0.1575 - auc: 0.9801 - val_loss: 0.1711 - val_auc: 0.9783\n",
            "Epoch 28/50\n",
            "633/633 [==============================] - 52s 82ms/step - loss: 0.1541 - auc: 0.9814 - val_loss: 0.1727 - val_auc: 0.9754\n",
            "Epoch 29/50\n",
            "633/633 [==============================] - 52s 82ms/step - loss: 0.1546 - auc: 0.9813 - val_loss: 0.1497 - val_auc: 0.9800\n",
            "Epoch 30/50\n",
            "633/633 [==============================] - 52s 82ms/step - loss: 0.1481 - auc: 0.9826 - val_loss: 0.1451 - val_auc: 0.9806\n",
            "Epoch 31/50\n",
            "633/633 [==============================] - 52s 82ms/step - loss: 0.1391 - auc: 0.9841 - val_loss: 0.1378 - val_auc: 0.9827\n",
            "Epoch 32/50\n",
            "633/633 [==============================] - 52s 82ms/step - loss: 0.1364 - auc: 0.9846 - val_loss: 0.1486 - val_auc: 0.9807\n",
            "Epoch 33/50\n",
            "633/633 [==============================] - 52s 82ms/step - loss: 0.1357 - auc: 0.9843 - val_loss: 0.1711 - val_auc: 0.9819\n",
            "Epoch 34/50\n",
            "632/633 [============================>.] - ETA: 0s - loss: 0.1259 - auc: 0.9867Restoring model weights from the end of the best epoch: 31.\n",
            "633/633 [==============================] - 52s 82ms/step - loss: 0.1258 - auc: 0.9867 - val_loss: 0.1754 - val_auc: 0.9819\n",
            "Epoch 34: early stopping\n"
          ]
        }
      ],
      "source": [
        "batch_size = 64\n",
        "num_batchs = math.ceil(len(training_set) / batch_size)\n",
        "num_batchs_validation = math.ceil(len(validation_set) / batch_size)\n",
        "\n",
        "early_stop = EarlyStopping(monitor='val_loss', patience=3, verbose=1,restore_best_weights=True)\n",
        "\n",
        "hist = model2.fit(\n",
        "    gen_batch(\n",
        "        training_set, batch_size=batch_size, repeat=True\n",
        "    ),\n",
        "    steps_per_epoch=num_batchs,\n",
        "    epochs=50,\n",
        "    validation_data=gen_batch(\n",
        "        validation_set, batch_size=64, repeat=True\n",
        "    ),\n",
        "    validation_steps=num_batchs_validation,\n",
        "    verbose=1,callbacks=[early_stop]\n",
        ")"
      ]
    },
    {
      "cell_type": "code",
      "execution_count": null,
      "metadata": {
        "id": "8Lvou8B5-VJh",
        "outputId": "883b7ec7-4d38-44f6-9dc1-77057f849ad8"
      },
      "outputs": [
        {
          "name": "stdout",
          "output_type": "stream",
          "text": [
            "193/193 [==============================] - 5s 22ms/step\n"
          ]
        }
      ],
      "source": [
        "#make a prediction by using the model\n",
        "y_pred_2 = model2.predict(\n",
        "    gen_batch(testing_set, batch_size=64, shuffle=False)\n",
        ")\n",
        "y_pred_2 = np.reshape(y_pred_2, -1)"
      ]
    },
    {
      "cell_type": "code",
      "execution_count": null,
      "metadata": {
        "id": "iK52rhxL-VJh"
      },
      "outputs": [],
      "source": [
        "submission = pd.DataFrame({'label':y_pred_2})\n",
        "submission.index.name = 'id'\n",
        "submission.to_csv('trial_3_GGNN.csv')"
      ]
    },
    {
      "cell_type": "markdown",
      "metadata": {
        "id": "VVGzDFq9-VJh"
      },
      "source": [
        "On Kaggle It Got 0.862 Thats actually very good but still will try the other HP first. So lets try RandomOverSample and see if it does better on same model"
      ]
    },
    {
      "cell_type": "markdown",
      "metadata": {
        "id": "xglDXdST-VJh"
      },
      "source": [
        "## Trial 4 Using RandomOverSample to fix the Data Imbalance And Changing GGNN Hyperparameters"
      ]
    },
    {
      "cell_type": "code",
      "execution_count": null,
      "metadata": {
        "colab": {
          "referenced_widgets": [
            "10c59625271242e88060622c1b0bdc57"
          ]
        },
        "id": "Rb_UZE6h-VJi",
        "outputId": "34a13317-f78e-4f48-bd04-f01ecafef9f6"
      },
      "outputs": [
        {
          "data": {
            "application/vnd.jupyter.widget-view+json": {
              "model_id": "10c59625271242e88060622c1b0bdc57",
              "version_major": 2,
              "version_minor": 0
            },
            "text/plain": [
              "  0%|          | 0/25024 [00:00<?, ?it/s]"
            ]
          },
          "metadata": {},
          "output_type": "display_data"
        }
      ],
      "source": [
        "training_set4 = read_sdf('train.sdf')"
      ]
    },
    {
      "cell_type": "code",
      "execution_count": null,
      "metadata": {
        "id": "DaYxNWsW-VJi",
        "outputId": "9e363f58-5cd1-437c-93fe-676a641a32ee"
      },
      "outputs": [
        {
          "name": "stderr",
          "output_type": "stream",
          "text": [
            "C:\\Users\\DeKaiTo\\AppData\\Local\\Temp/ipykernel_16828/1118175248.py:1: VisibleDeprecationWarning: Creating an ndarray from ragged nested sequences (which is a list-or-tuple of lists-or-tuples-or ndarrays with different lengths or shapes) is deprecated. If you meant to do this, you must specify 'dtype=object' when creating the ndarray.\n",
            "  unique, counts = np.unique(np.array(training_set4)[:,2], return_counts=True)\n"
          ]
        },
        {
          "data": {
            "image/png": "[encoded data removed]",
            "text/plain": [
              "<Figure size 432x288 with 1 Axes>"
            ]
          },
          "metadata": {
            "needs_background": "light"
          },
          "output_type": "display_data"
        }
      ],
      "source": [
        "unique, counts = np.unique(np.array(training_set4)[:,2], return_counts=True)\n",
        "\n",
        "sns.barplot(x=unique, y=counts)\n",
        "plt.xlabel('target')\n",
        "plt.ylabel('Counts')\n",
        "plt.title('Counts of target')\n",
        "plt.show()"
      ]
    },
    {
      "cell_type": "code",
      "execution_count": null,
      "metadata": {
        "id": "wCZZoVHi-VJi",
        "outputId": "d1376eb4-f8cd-44f0-da87-c243c08135b4"
      },
      "outputs": [
        {
          "name": "stderr",
          "output_type": "stream",
          "text": [
            "C:\\Users\\DeKaiTo\\AppData\\Local\\Temp/ipykernel_16828/1998894208.py:2: VisibleDeprecationWarning: Creating an ndarray from ragged nested sequences (which is a list-or-tuple of lists-or-tuples-or ndarrays with different lengths or shapes) is deprecated. If you meant to do this, you must specify 'dtype=object' when creating the ndarray.\n",
            "  data2 = pd.DataFrame(np.array(training_set4)[:,:], columns = ['0', '1', 'target'])\n"
          ]
        }
      ],
      "source": [
        "#convert the data from List to DataFrame to make upsampling\n",
        "data2 = pd.DataFrame(np.array(training_set4)[:,:], columns = ['0', '1', 'target'])\n",
        "data2['target'] = data2['target'].astype(int)"
      ]
    },
    {
      "cell_type": "code",
      "execution_count": null,
      "metadata": {
        "id": "oKX4zxHe-VJi"
      },
      "outputs": [],
      "source": [
        "from imblearn.over_sampling import RandomOverSampler\n",
        "\n",
        "ros = RandomOverSampler(random_state=44)\n",
        "resampling = data2.copy()\n",
        "X_resampled, y_resampled = ros.fit_resample(resampling.drop('target', axis=1), resampling['target'])\n",
        "data_upsampled = pd.concat([X_resampled, y_resampled], axis=1)"
      ]
    },
    {
      "cell_type": "code",
      "execution_count": null,
      "metadata": {
        "id": "004ECaCa-VJi",
        "outputId": "0634a45d-1552-4345-f94f-26ebb6b0e3bc"
      },
      "outputs": [
        {
          "data": {
            "text/plain": [
              "0    23806\n",
              "1    23806\n",
              "Name: target, dtype: int64"
            ]
          },
          "execution_count": 19,
          "metadata": {},
          "output_type": "execute_result"
        }
      ],
      "source": [
        "data_upsampled['target'].value_counts()"
      ]
    },
    {
      "cell_type": "code",
      "execution_count": null,
      "metadata": {
        "id": "epvLNAgT-VJi"
      },
      "outputs": [],
      "source": [
        "#converting the upsampled DataFrame into list\n",
        "training_set4 = data_upsampled.values.tolist()"
      ]
    },
    {
      "cell_type": "code",
      "execution_count": null,
      "metadata": {
        "id": "jAU5VUmi-VJi"
      },
      "outputs": [],
      "source": [
        "training_set4, validation_set4 = train_test_split(training_set4, test_size=0.2)"
      ]
    },
    {
      "cell_type": "code",
      "execution_count": null,
      "metadata": {
        "id": "G7hFrZMR-VJi"
      },
      "outputs": [],
      "source": [
        "#vocabulary size\n",
        "max_vocab = 500\n",
        "# maximum length of the tokenized vector\n",
        "max_len = 100 \n",
        "\n",
        "# build vocabulary from training set only for nodes characters\n",
        "all_nodes3 = [s[0] for s in training_set4]\n",
        "\n",
        "#training tokenizer\n",
        "tokenizer3 = Tokenizer(num_words = max_vocab)\n",
        "tokenizer3.fit_on_texts(all_nodes)"
      ]
    },
    {
      "cell_type": "code",
      "execution_count": null,
      "metadata": {
        "id": "SPDUqgxk-VJj",
        "outputId": "c514257f-0e7f-4e61-ba7e-89b70c66f4d9"
      },
      "outputs": [
        {
          "name": "stdout",
          "output_type": "stream",
          "text": [
            "gnn_out KerasTensor(type_spec=TensorSpec(shape=(None, 32), dtype=tf.float32, name=None), name='gnn/StatefulPartitionedCall:0', description=\"created by layer 'gnn'\")\n",
            "Model: \"model\"\n",
            "__________________________________________________________________________________________________\n",
            " Layer (type)                   Output Shape         Param #     Connected to                     \n",
            "==================================================================================================\n",
            " input_3 (InputLayer)           [(None,)]            0           []                               \n",
            "                                                                                                  \n",
            " input_1 (InputLayer)           [(None,)]            0           []                               \n",
            "                                                                                                  \n",
            " tf.math.reduce_max (TFOpLambda  ()                  0           ['input_3[0][0]']                \n",
            " )                                                                                                \n",
            "                                                                                                  \n",
            " embedding (Embedding)          (None, 80)           40000       ['input_1[0][0]']                \n",
            "                                                                                                  \n",
            " input_2 (InputLayer)           [(None, 2)]          0           []                               \n",
            "                                                                                                  \n",
            " tf.__operators__.add (TFOpLamb  ()                  0           ['tf.math.reduce_max[0][0]']     \n",
            " da)                                                                                              \n",
            "                                                                                                  \n",
            " gnn (GNN)                      (None, 32)           81152       ['embedding[0][0]',              \n",
            "                                                                  'input_2[0][0]',                \n",
            "                                                                  'input_3[0][0]',                \n",
            "                                                                  'tf.__operators__.add[0][0]']   \n",
            "                                                                                                  \n",
            " tf.math.segment_mean (TFOpLamb  (None, 32)          0           ['gnn[0][0]',                    \n",
            " da)                                                              'input_3[0][0]']                \n",
            "                                                                                                  \n",
            " dense (Dense)                  (None, 128)          4224        ['tf.math.segment_mean[0][0]']   \n",
            "                                                                                                  \n",
            " dense_1 (Dense)                (None, 64)           8256        ['dense[0][0]']                  \n",
            "                                                                                                  \n",
            " dense_2 (Dense)                (None, 1)            65          ['dense_1[0][0]']                \n",
            "                                                                                                  \n",
            "==================================================================================================\n",
            "Total params: 133,697\n",
            "Trainable params: 133,697\n",
            "Non-trainable params: 0\n",
            "__________________________________________________________________________________________________\n"
          ]
        }
      ],
      "source": [
        "data = keras.Input(batch_shape=(None,))\n",
        "\n",
        "edge = keras.Input(batch_shape=(None, 2), dtype=tf.int32)\n",
        "node2graph = keras.Input(batch_shape=(None,), dtype=tf.int32)\n",
        "\n",
        "embeded = Embedding(tokenizer3.num_words, 80)(data)\n",
        "\n",
        "num_graph = tf.reduce_max(node2graph)+1  \n",
        "\n",
        "gnn_input = GNNInput(\n",
        "    node_features=embeded,\n",
        "    adjacency_lists=(edge,),\n",
        "    node_to_graph_map=node2graph, \n",
        "    num_graphs=num_graph,\n",
        ")\n",
        "\n",
        "params = GNN.get_default_hyperparameters()\n",
        "params[\"message_calculation_class\"] = 'GGNN'\n",
        "params[\"hidden_dim\"] = 32\n",
        "params[\"num_layers\"] = 6\n",
        "\n",
        "\n",
        "gnn_layer = GNN(params) \n",
        "\n",
        "gnn_out = gnn_layer(gnn_input)\n",
        "\n",
        "print('gnn_out', gnn_out)           \n",
        "\n",
        "avg = segment_mean(\n",
        "    data=gnn_out,\n",
        "    segment_ids=node2graph\n",
        "    )\n",
        "\n",
        "l1 = Dense(128,activation='relu')(avg)\n",
        "l2 = Dense(64,activation='relu')(l1)\n",
        "pred = Dense(1, activation='sigmoid')(l2)\n",
        "\n",
        "\n",
        "model3 = Model(\n",
        "    inputs={\n",
        "        'data': data, \n",
        "        'edges': edge,\n",
        "        'node2grah': node2graph,\n",
        "    },\n",
        "    outputs=pred\n",
        ")\n",
        "model3.summary()"
      ]
    },
    {
      "cell_type": "code",
      "execution_count": null,
      "metadata": {
        "id": "Uz4o9dhP-VJj"
      },
      "outputs": [],
      "source": [
        "model3.compile(\n",
        "    optimizer = 'adam', \n",
        "    loss='BinaryCrossentropy',\n",
        "    metrics=['AUC']\n",
        ")"
      ]
    },
    {
      "cell_type": "code",
      "execution_count": null,
      "metadata": {
        "id": "gKC6aDAb-VJj",
        "outputId": "8f1a0cba-f78f-4251-ce77-1a8a9c0ca423"
      },
      "outputs": [
        {
          "name": "stdout",
          "output_type": "stream",
          "text": [
            "Epoch 1/50\n",
            "596/596 [==============================] - 58s 90ms/step - loss: 0.6276 - auc: 0.6984 - val_loss: 0.5900 - val_auc: 0.7526 - lr: 0.0010\n",
            "Epoch 2/50\n",
            "596/596 [==============================] - 51s 86ms/step - loss: 0.5695 - auc: 0.7691 - val_loss: 0.5477 - val_auc: 0.7947 - lr: 0.0010\n",
            "Epoch 3/50\n",
            "596/596 [==============================] - 51s 85ms/step - loss: 0.5259 - auc: 0.8153 - val_loss: 0.5134 - val_auc: 0.8351 - lr: 0.0010\n",
            "Epoch 4/50\n",
            "596/596 [==============================] - 52s 87ms/step - loss: 0.4798 - auc: 0.8512 - val_loss: 0.4668 - val_auc: 0.8625 - lr: 0.0010\n",
            "Epoch 5/50\n",
            "596/596 [==============================] - 53s 89ms/step - loss: 0.4496 - auc: 0.8713 - val_loss: 0.4358 - val_auc: 0.8819 - lr: 0.0010\n",
            "Epoch 6/50\n",
            "596/596 [==============================] - 54s 90ms/step - loss: 0.4146 - auc: 0.8915 - val_loss: 0.4087 - val_auc: 0.9029 - lr: 0.0010\n",
            "Epoch 7/50\n",
            "596/596 [==============================] - 55s 93ms/step - loss: 0.3848 - auc: 0.9069 - val_loss: 0.3743 - val_auc: 0.9133 - lr: 0.0010\n",
            "Epoch 8/50\n",
            "596/596 [==============================] - 53s 88ms/step - loss: 0.3594 - auc: 0.9184 - val_loss: 0.3562 - val_auc: 0.9201 - lr: 0.0010\n",
            "Epoch 9/50\n",
            "596/596 [==============================] - 53s 89ms/step - loss: 0.3454 - auc: 0.9251 - val_loss: 0.3226 - val_auc: 0.9357 - lr: 0.0010\n",
            "Epoch 10/50\n",
            "596/596 [==============================] - 53s 90ms/step - loss: 0.3216 - auc: 0.9346 - val_loss: 0.3210 - val_auc: 0.9376 - lr: 0.0010\n",
            "Epoch 11/50\n",
            "596/596 [==============================] - 49s 82ms/step - loss: 0.3046 - auc: 0.9409 - val_loss: 0.2906 - val_auc: 0.9455 - lr: 0.0010\n",
            "Epoch 12/50\n",
            "596/596 [==============================] - 49s 83ms/step - loss: 0.2952 - auc: 0.9440 - val_loss: 0.2855 - val_auc: 0.9491 - lr: 0.0010\n",
            "Epoch 13/50\n",
            "596/596 [==============================] - 50s 83ms/step - loss: 0.2829 - auc: 0.9482 - val_loss: 0.2680 - val_auc: 0.9531 - lr: 0.0010\n",
            "Epoch 14/50\n",
            "596/596 [==============================] - 48s 80ms/step - loss: 0.2675 - auc: 0.9531 - val_loss: 0.2563 - val_auc: 0.9574 - lr: 0.0010\n",
            "Epoch 15/50\n",
            "596/596 [==============================] - 49s 83ms/step - loss: 0.2605 - auc: 0.9550 - val_loss: 0.2436 - val_auc: 0.9595 - lr: 0.0010\n",
            "Epoch 16/50\n",
            "596/596 [==============================] - 48s 80ms/step - loss: 0.2466 - auc: 0.9590 - val_loss: 0.2553 - val_auc: 0.9587 - lr: 0.0010\n",
            "Epoch 17/50\n",
            "596/596 [==============================] - 46s 78ms/step - loss: 0.2362 - auc: 0.9622 - val_loss: 0.2280 - val_auc: 0.9661 - lr: 0.0010\n",
            "Epoch 18/50\n",
            "596/596 [==============================] - 46s 77ms/step - loss: 0.2289 - auc: 0.9641 - val_loss: 0.2079 - val_auc: 0.9695 - lr: 0.0010\n",
            "Epoch 19/50\n",
            "596/596 [==============================] - 46s 77ms/step - loss: 0.2190 - auc: 0.9673 - val_loss: 0.2076 - val_auc: 0.9693 - lr: 0.0010\n",
            "Epoch 20/50\n",
            "596/596 [==============================] - 46s 77ms/step - loss: 0.2125 - auc: 0.9684 - val_loss: 0.2217 - val_auc: 0.9707 - lr: 0.0010\n",
            "Epoch 21/50\n",
            "596/596 [==============================] - 46s 77ms/step - loss: 0.2047 - auc: 0.9702 - val_loss: 0.1952 - val_auc: 0.9723 - lr: 0.0010\n",
            "Epoch 22/50\n",
            "596/596 [==============================] - 47s 78ms/step - loss: 0.1957 - auc: 0.9726 - val_loss: 0.2126 - val_auc: 0.9720 - lr: 0.0010\n",
            "Epoch 23/50\n",
            "596/596 [==============================] - 47s 79ms/step - loss: 0.1887 - auc: 0.9746 - val_loss: 0.1776 - val_auc: 0.9754 - lr: 0.0010\n",
            "Epoch 24/50\n",
            "596/596 [==============================] - 47s 79ms/step - loss: 0.1787 - auc: 0.9766 - val_loss: 0.2131 - val_auc: 0.9734 - lr: 0.0010\n",
            "Epoch 25/50\n",
            "596/596 [==============================] - 48s 80ms/step - loss: 0.1737 - auc: 0.9775 - val_loss: 0.1738 - val_auc: 0.9766 - lr: 0.0010\n",
            "Epoch 26/50\n",
            "596/596 [==============================] - 47s 78ms/step - loss: 0.1714 - auc: 0.9778 - val_loss: 0.1799 - val_auc: 0.9774 - lr: 0.0010\n",
            "Epoch 27/50\n",
            "596/596 [==============================] - 48s 80ms/step - loss: 0.1662 - auc: 0.9794 - val_loss: 0.1630 - val_auc: 0.9788 - lr: 0.0010\n",
            "Epoch 28/50\n",
            "596/596 [==============================] - 48s 80ms/step - loss: 0.1567 - auc: 0.9812 - val_loss: 0.2289 - val_auc: 0.9747 - lr: 0.0010\n",
            "Epoch 29/50\n",
            "596/596 [==============================] - 48s 81ms/step - loss: 0.1534 - auc: 0.9816 - val_loss: 0.1568 - val_auc: 0.9795 - lr: 0.0010\n",
            "Epoch 30/50\n",
            "596/596 [==============================] - 48s 80ms/step - loss: 0.1520 - auc: 0.9822 - val_loss: 0.1551 - val_auc: 0.9810 - lr: 0.0010\n",
            "Epoch 31/50\n",
            "596/596 [==============================] - 48s 81ms/step - loss: 0.1448 - auc: 0.9837 - val_loss: 0.1513 - val_auc: 0.9832 - lr: 0.0010\n",
            "Epoch 32/50\n",
            "596/596 [==============================] - 46s 77ms/step - loss: 0.1403 - auc: 0.9844 - val_loss: 0.1895 - val_auc: 0.9770 - lr: 0.0010\n",
            "Epoch 33/50\n",
            "595/596 [============================>.] - ETA: 0s - loss: 0.1424 - auc: 0.9841\n",
            "Epoch 33: ReduceLROnPlateau reducing learning rate to 0.00020000000949949026.\n",
            "596/596 [==============================] - 46s 78ms/step - loss: 0.1424 - auc: 0.9841 - val_loss: 0.1634 - val_auc: 0.9837 - lr: 0.0010\n",
            "Epoch 34/50\n",
            "596/596 [==============================] - 46s 78ms/step - loss: 0.1088 - auc: 0.9897 - val_loss: 0.1274 - val_auc: 0.9862 - lr: 2.0000e-04\n",
            "Epoch 35/50\n",
            "596/596 [==============================] - 46s 78ms/step - loss: 0.0996 - auc: 0.9908 - val_loss: 0.1296 - val_auc: 0.9860 - lr: 2.0000e-04\n",
            "Epoch 36/50\n",
            "596/596 [==============================] - 47s 80ms/step - loss: 0.0954 - auc: 0.9913 - val_loss: 0.1267 - val_auc: 0.9863 - lr: 2.0000e-04\n",
            "Epoch 37/50\n",
            "596/596 [==============================] - 48s 81ms/step - loss: 0.0942 - auc: 0.9918 - val_loss: 0.1272 - val_auc: 0.9868 - lr: 2.0000e-04\n",
            "Epoch 38/50\n",
            "595/596 [============================>.] - ETA: 0s - loss: 0.0922 - auc: 0.9919\n",
            "Epoch 38: ReduceLROnPlateau reducing learning rate to 5e-05.\n",
            "596/596 [==============================] - 46s 78ms/step - loss: 0.0922 - auc: 0.9919 - val_loss: 0.1291 - val_auc: 0.9863 - lr: 2.0000e-04\n",
            "Epoch 39/50\n",
            "596/596 [==============================] - 48s 80ms/step - loss: 0.0850 - auc: 0.9926 - val_loss: 0.1149 - val_auc: 0.9882 - lr: 5.0000e-05\n",
            "Epoch 40/50\n",
            "596/596 [==============================] - 48s 80ms/step - loss: 0.0832 - auc: 0.9929 - val_loss: 0.1228 - val_auc: 0.9865 - lr: 5.0000e-05\n",
            "Epoch 41/50\n",
            "596/596 [==============================] - 48s 81ms/step - loss: 0.0837 - auc: 0.9930 - val_loss: 0.1275 - val_auc: 0.9864 - lr: 5.0000e-05\n",
            "Epoch 42/50\n",
            "596/596 [==============================] - 47s 79ms/step - loss: 0.0846 - auc: 0.9928 - val_loss: 0.1174 - val_auc: 0.9884 - lr: 5.0000e-05\n",
            "Epoch 43/50\n",
            "596/596 [==============================] - 46s 78ms/step - loss: 0.0813 - auc: 0.9933 - val_loss: 0.1167 - val_auc: 0.9874 - lr: 5.0000e-05\n",
            "Epoch 44/50\n",
            "595/596 [============================>.] - ETA: 0s - loss: 0.0817 - auc: 0.9932Restoring model weights from the end of the best epoch: 39.\n",
            "596/596 [==============================] - 48s 81ms/step - loss: 0.0817 - auc: 0.9932 - val_loss: 0.1235 - val_auc: 0.9871 - lr: 5.0000e-05\n",
            "Epoch 44: early stopping\n"
          ]
        }
      ],
      "source": [
        "batch_size = 64\n",
        "num_batchs = math.ceil(len(training_set4) / batch_size)\n",
        "num_batchs_validation = math.ceil(len(validation_set4) / batch_size)\n",
        "\n",
        "early_stop = EarlyStopping(monitor='val_loss', patience=5, verbose=1,restore_best_weights=True)\n",
        "reduce_lr = ReduceLROnPlateau(monitor='val_loss', factor=0.2, patience=2, verbose=1, min_lr=0.00005)\n",
        "hist = model3.fit(\n",
        "    gen_batch(\n",
        "        training_set4, batch_size=batch_size, repeat=True\n",
        "    ),\n",
        "    steps_per_epoch=num_batchs,\n",
        "    epochs=50,\n",
        "    validation_data=gen_batch(\n",
        "        validation_set4, batch_size=64, repeat=True\n",
        "    ),\n",
        "    validation_steps=num_batchs_validation,\n",
        "    verbose=1,callbacks=[early_stop, reduce_lr]\n",
        ")\n"
      ]
    },
    {
      "cell_type": "code",
      "execution_count": null,
      "metadata": {
        "id": "x15--g4F-VJj",
        "outputId": "f3be9207-e865-46c9-87bc-249f6ae4e4f5"
      },
      "outputs": [
        {
          "name": "stdout",
          "output_type": "stream",
          "text": [
            "193/193 [==============================] - 4s 23ms/step\n"
          ]
        }
      ],
      "source": [
        "#make a prediction by using the model\n",
        "y_pred_4 = model3.predict(\n",
        "    gen_batch(testing_set, batch_size=64, shuffle=False)\n",
        ")\n",
        "y_pred_4 = np.reshape(y_pred_4, -1)"
      ]
    },
    {
      "cell_type": "code",
      "execution_count": null,
      "metadata": {
        "id": "fAIQ7Zwp-VJj"
      },
      "outputs": [],
      "source": [
        "submission = pd.DataFrame({'label':y_pred_4})\n",
        "submission.index.name = 'id'\n",
        "submission.to_csv('trial_4_Random_GGNN.csv')"
      ]
    },
    {
      "cell_type": "markdown",
      "metadata": {
        "id": "MOmayOSn-VJj"
      },
      "source": [
        "It Was better on kaggle With 0.8727 so Will go with randomOversample and try different HP"
      ]
    },
    {
      "cell_type": "markdown",
      "metadata": {
        "id": "fh04d2JO-VJj"
      },
      "source": [
        "## Trial 5 Using RandomOverSample to fix the Data Imbalance And Changing RGCN Hyperparameters"
      ]
    },
    {
      "cell_type": "code",
      "execution_count": null,
      "metadata": {
        "id": "xWJbWbVo-VJk",
        "outputId": "3660d0b1-d90c-4aa8-fdb1-25dbb07270c4"
      },
      "outputs": [
        {
          "name": "stdout",
          "output_type": "stream",
          "text": [
            "gnn_out KerasTensor(type_spec=TensorSpec(shape=(None, 32), dtype=tf.float32, name=None), name='gnn_1/StatefulPartitionedCall:0', description=\"created by layer 'gnn_1'\")\n",
            "Model: \"model_1\"\n",
            "__________________________________________________________________________________________________\n",
            " Layer (type)                   Output Shape         Param #     Connected to                     \n",
            "==================================================================================================\n",
            " input_6 (InputLayer)           [(None,)]            0           []                               \n",
            "                                                                                                  \n",
            " input_4 (InputLayer)           [(None,)]            0           []                               \n",
            "                                                                                                  \n",
            " tf.math.reduce_max_1 (TFOpLamb  ()                  0           ['input_6[0][0]']                \n",
            " da)                                                                                              \n",
            "                                                                                                  \n",
            " embedding_1 (Embedding)        (None, 80)           40000       ['input_4[0][0]']                \n",
            "                                                                                                  \n",
            " input_5 (InputLayer)           [(None, 2)]          0           []                               \n",
            "                                                                                                  \n",
            " tf.__operators__.add_1 (TFOpLa  ()                  0           ['tf.math.reduce_max_1[0][0]']   \n",
            " mbda)                                                                                            \n",
            "                                                                                                  \n",
            " gnn_1 (GNN)                    (None, 32)           43136       ['embedding_1[0][0]',            \n",
            "                                                                  'input_5[0][0]',                \n",
            "                                                                  'input_6[0][0]',                \n",
            "                                                                  'tf.__operators__.add_1[0][0]'] \n",
            "                                                                                                  \n",
            " tf.math.segment_mean_1 (TFOpLa  (None, 32)          0           ['gnn_1[0][0]',                  \n",
            " mbda)                                                            'input_6[0][0]']                \n",
            "                                                                                                  \n",
            " dense_3 (Dense)                (None, 128)          4224        ['tf.math.segment_mean_1[0][0]'] \n",
            "                                                                                                  \n",
            " dense_4 (Dense)                (None, 64)           8256        ['dense_3[0][0]']                \n",
            "                                                                                                  \n",
            " dense_5 (Dense)                (None, 1)            65          ['dense_4[0][0]']                \n",
            "                                                                                                  \n",
            "==================================================================================================\n",
            "Total params: 95,681\n",
            "Trainable params: 95,681\n",
            "Non-trainable params: 0\n",
            "__________________________________________________________________________________________________\n"
          ]
        }
      ],
      "source": [
        "data = keras.Input(batch_shape=(None,))\n",
        "\n",
        "edge = keras.Input(batch_shape=(None, 2), dtype=tf.int32)\n",
        "node2graph = keras.Input(batch_shape=(None,), dtype=tf.int32)\n",
        "\n",
        "embeded = Embedding(tokenizer3.num_words, 80)(data)\n",
        "\n",
        "num_graph = tf.reduce_max(node2graph)+1  \n",
        "\n",
        "gnn_input = GNNInput(\n",
        "    node_features=embeded,\n",
        "    adjacency_lists=(edge,),\n",
        "    node_to_graph_map=node2graph, \n",
        "    num_graphs=num_graph,\n",
        ")\n",
        "\n",
        "params = GNN.get_default_hyperparameters()\n",
        "params[\"message_calculation_class\"] = 'RGCN'\n",
        "params[\"hidden_dim\"] = 32\n",
        "params[\"num_layers\"] = 6\n",
        "\n",
        "\n",
        "gnn_layer = GNN(params) \n",
        "\n",
        "gnn_out = gnn_layer(gnn_input)\n",
        "\n",
        "print('gnn_out', gnn_out)           \n",
        "\n",
        "avg = segment_mean(\n",
        "    data=gnn_out,\n",
        "    segment_ids=node2graph\n",
        "    )\n",
        "\n",
        "l1 = Dense(128,activation='relu')(avg)\n",
        "l2 = Dense(64,activation='relu')(l1)\n",
        "pred = Dense(1, activation='sigmoid')(l2)\n",
        "\n",
        "\n",
        "model4 = Model(\n",
        "    inputs={\n",
        "        'data': data, \n",
        "        'edges': edge,\n",
        "        'node2grah': node2graph,\n",
        "    },\n",
        "    outputs=pred\n",
        ")\n",
        "model4.summary()"
      ]
    },
    {
      "cell_type": "code",
      "execution_count": null,
      "metadata": {
        "id": "Cm9HTckp-VJk"
      },
      "outputs": [],
      "source": [
        "model4.compile(\n",
        "    optimizer = 'adam', \n",
        "    loss='BinaryCrossentropy',\n",
        "    metrics=['AUC']\n",
        ")"
      ]
    },
    {
      "cell_type": "code",
      "execution_count": null,
      "metadata": {
        "id": "ZM3bU30u-VJk",
        "outputId": "db8cbddf-1ac3-46c3-fa5c-000c7684e115"
      },
      "outputs": [
        {
          "name": "stdout",
          "output_type": "stream",
          "text": [
            "Epoch 1/50\n",
            "596/596 [==============================] - 28s 41ms/step - loss: 0.6269 - auc: 0.6985 - val_loss: 0.6215 - val_auc: 0.7250 - lr: 0.0010\n",
            "Epoch 2/50\n",
            "596/596 [==============================] - 25s 41ms/step - loss: 0.5933 - auc: 0.7400 - val_loss: 0.5849 - val_auc: 0.7530 - lr: 0.0010\n",
            "Epoch 3/50\n",
            "596/596 [==============================] - 24s 41ms/step - loss: 0.5779 - auc: 0.7561 - val_loss: 0.5814 - val_auc: 0.7673 - lr: 0.0010\n",
            "Epoch 4/50\n",
            "596/596 [==============================] - 24s 40ms/step - loss: 0.5658 - auc: 0.7703 - val_loss: 0.5636 - val_auc: 0.7802 - lr: 0.0010\n",
            "Epoch 5/50\n",
            "596/596 [==============================] - 24s 40ms/step - loss: 0.5567 - auc: 0.7816 - val_loss: 0.5528 - val_auc: 0.7895 - lr: 0.0010\n",
            "Epoch 6/50\n",
            "596/596 [==============================] - 25s 42ms/step - loss: 0.5466 - auc: 0.7926 - val_loss: 0.5525 - val_auc: 0.7978 - lr: 0.0010\n",
            "Epoch 7/50\n",
            "596/596 [==============================] - 25s 42ms/step - loss: 0.5339 - auc: 0.8063 - val_loss: 0.5320 - val_auc: 0.8136 - lr: 0.0010\n",
            "Epoch 8/50\n",
            "596/596 [==============================] - 25s 42ms/step - loss: 0.5261 - auc: 0.8146 - val_loss: 0.5354 - val_auc: 0.8204 - lr: 0.0010\n",
            "Epoch 9/50\n",
            "596/596 [==============================] - 25s 42ms/step - loss: 0.5155 - auc: 0.8235 - val_loss: 0.5291 - val_auc: 0.8187 - lr: 0.0010\n",
            "Epoch 10/50\n",
            "596/596 [==============================] - 24s 41ms/step - loss: 0.5109 - auc: 0.8275 - val_loss: 0.5187 - val_auc: 0.8302 - lr: 0.0010\n",
            "Epoch 11/50\n",
            "596/596 [==============================] - 25s 42ms/step - loss: 0.4996 - auc: 0.8363 - val_loss: 0.5101 - val_auc: 0.8324 - lr: 0.0010\n",
            "Epoch 12/50\n",
            "596/596 [==============================] - 25s 42ms/step - loss: 0.4925 - auc: 0.8419 - val_loss: 0.4957 - val_auc: 0.8438 - lr: 0.0010\n",
            "Epoch 13/50\n",
            "596/596 [==============================] - 25s 43ms/step - loss: 0.4843 - auc: 0.8480 - val_loss: 0.4948 - val_auc: 0.8437 - lr: 0.0010\n",
            "Epoch 14/50\n",
            "596/596 [==============================] - 24s 41ms/step - loss: 0.4766 - auc: 0.8533 - val_loss: 0.4723 - val_auc: 0.8574 - lr: 0.0010\n",
            "Epoch 15/50\n",
            "596/596 [==============================] - 24s 41ms/step - loss: 0.4692 - auc: 0.8585 - val_loss: 0.4691 - val_auc: 0.8606 - lr: 0.0010\n",
            "Epoch 16/50\n",
            "596/596 [==============================] - 25s 42ms/step - loss: 0.4598 - auc: 0.8646 - val_loss: 0.4511 - val_auc: 0.8701 - lr: 0.0010\n",
            "Epoch 17/50\n",
            "596/596 [==============================] - 24s 41ms/step - loss: 0.4520 - auc: 0.8698 - val_loss: 0.4419 - val_auc: 0.8768 - lr: 0.0010\n",
            "Epoch 18/50\n",
            "596/596 [==============================] - 24s 40ms/step - loss: 0.4420 - auc: 0.8759 - val_loss: 0.4441 - val_auc: 0.8772 - lr: 0.0010\n",
            "Epoch 19/50\n",
            "596/596 [==============================] - 25s 41ms/step - loss: 0.4399 - auc: 0.8770 - val_loss: 0.4261 - val_auc: 0.8851 - lr: 0.0010\n",
            "Epoch 20/50\n",
            "596/596 [==============================] - 24s 40ms/step - loss: 0.4295 - auc: 0.8831 - val_loss: 0.4344 - val_auc: 0.8877 - lr: 0.0010\n",
            "Epoch 21/50\n",
            "595/596 [============================>.] - ETA: 0s - loss: 0.4201 - auc: 0.8884\n",
            "Epoch 21: ReduceLROnPlateau reducing learning rate to 0.00020000000949949026.\n",
            "596/596 [==============================] - 25s 41ms/step - loss: 0.4201 - auc: 0.8884 - val_loss: 0.4278 - val_auc: 0.8845 - lr: 0.0010\n",
            "Epoch 22/50\n",
            "596/596 [==============================] - 25s 42ms/step - loss: 0.4006 - auc: 0.8991 - val_loss: 0.3990 - val_auc: 0.8995 - lr: 2.0000e-04\n",
            "Epoch 23/50\n",
            "596/596 [==============================] - 26s 44ms/step - loss: 0.3925 - auc: 0.9031 - val_loss: 0.3889 - val_auc: 0.9056 - lr: 2.0000e-04\n",
            "Epoch 24/50\n",
            "596/596 [==============================] - 25s 42ms/step - loss: 0.3914 - auc: 0.9036 - val_loss: 0.3901 - val_auc: 0.9053 - lr: 2.0000e-04\n",
            "Epoch 25/50\n",
            "596/596 [==============================] - ETA: 0s - loss: 0.3867 - auc: 0.9060\n",
            "Epoch 25: ReduceLROnPlateau reducing learning rate to 5e-05.\n",
            "596/596 [==============================] - 24s 41ms/step - loss: 0.3867 - auc: 0.9060 - val_loss: 0.3990 - val_auc: 0.9028 - lr: 2.0000e-04\n",
            "Epoch 26/50\n",
            "596/596 [==============================] - 24s 40ms/step - loss: 0.3801 - auc: 0.9093 - val_loss: 0.3805 - val_auc: 0.9088 - lr: 5.0000e-05\n",
            "Epoch 27/50\n",
            "596/596 [==============================] - 25s 42ms/step - loss: 0.3795 - auc: 0.9095 - val_loss: 0.3874 - val_auc: 0.9056 - lr: 5.0000e-05\n",
            "Epoch 28/50\n",
            "596/596 [==============================] - 25s 43ms/step - loss: 0.3792 - auc: 0.9096 - val_loss: 0.3716 - val_auc: 0.9134 - lr: 5.0000e-05\n",
            "Epoch 29/50\n",
            "596/596 [==============================] - 24s 41ms/step - loss: 0.3761 - auc: 0.9110 - val_loss: 0.3878 - val_auc: 0.9048 - lr: 5.0000e-05\n",
            "Epoch 30/50\n",
            "596/596 [==============================] - 25s 42ms/step - loss: 0.3765 - auc: 0.9108 - val_loss: 0.3814 - val_auc: 0.9087 - lr: 5.0000e-05\n",
            "Epoch 31/50\n",
            "596/596 [==============================] - 24s 41ms/step - loss: 0.3758 - auc: 0.9112 - val_loss: 0.3778 - val_auc: 0.9102 - lr: 5.0000e-05\n",
            "Epoch 32/50\n",
            "596/596 [==============================] - 25s 42ms/step - loss: 0.3768 - auc: 0.9107 - val_loss: 0.3791 - val_auc: 0.9096 - lr: 5.0000e-05\n",
            "Epoch 33/50\n",
            "595/596 [============================>.] - ETA: 0s - loss: 0.3771 - auc: 0.9104Restoring model weights from the end of the best epoch: 28.\n",
            "596/596 [==============================] - 25s 43ms/step - loss: 0.3771 - auc: 0.9105 - val_loss: 0.3727 - val_auc: 0.9128 - lr: 5.0000e-05\n",
            "Epoch 33: early stopping\n"
          ]
        }
      ],
      "source": [
        "batch_size = 64\n",
        "num_batchs = math.ceil(len(training_set4) / batch_size)\n",
        "num_batchs_validation = math.ceil(len(validation_set4) / batch_size)\n",
        "\n",
        "early_stop = EarlyStopping(monitor='val_loss', patience=5, verbose=1,restore_best_weights=True)\n",
        "reduce_lr = ReduceLROnPlateau(monitor='val_loss', factor=0.2, patience=2, verbose=1, min_lr=0.00005)\n",
        "hist = model4.fit(\n",
        "    gen_batch(\n",
        "        training_set4, batch_size=batch_size, repeat=True\n",
        "    ),\n",
        "    steps_per_epoch=num_batchs,\n",
        "    epochs=50,\n",
        "    validation_data=gen_batch(\n",
        "        validation_set4, batch_size=64, repeat=True\n",
        "    ),\n",
        "    validation_steps=num_batchs_validation,\n",
        "    verbose=1,callbacks=[early_stop, reduce_lr]\n",
        ")\n"
      ]
    },
    {
      "cell_type": "markdown",
      "metadata": {
        "id": "Ne1zQVgg-VJk"
      },
      "source": [
        "Not That Great the GGNN Was better, But lets try the other HP"
      ]
    },
    {
      "cell_type": "markdown",
      "metadata": {
        "id": "8BgL3DT--VJk"
      },
      "source": [
        "## Trial 6 Using RandomOverSample to fix the Data Imbalance And Changing RGAT Hyperparameters"
      ]
    },
    {
      "cell_type": "code",
      "execution_count": null,
      "metadata": {
        "id": "-SFgQ1qO-VJk",
        "outputId": "3892e2c8-3e80-405e-8e80-553f0235e876"
      },
      "outputs": [
        {
          "name": "stdout",
          "output_type": "stream",
          "text": [
            "gnn_out KerasTensor(type_spec=TensorSpec(shape=(None, 32), dtype=tf.float32, name=None), name='gnn_2/StatefulPartitionedCall:0', description=\"created by layer 'gnn_2'\")\n",
            "Model: \"model_2\"\n",
            "__________________________________________________________________________________________________\n",
            " Layer (type)                   Output Shape         Param #     Connected to                     \n",
            "==================================================================================================\n",
            " input_9 (InputLayer)           [(None,)]            0           []                               \n",
            "                                                                                                  \n",
            " input_7 (InputLayer)           [(None,)]            0           []                               \n",
            "                                                                                                  \n",
            " tf.math.reduce_max_2 (TFOpLamb  ()                  0           ['input_9[0][0]']                \n",
            " da)                                                                                              \n",
            "                                                                                                  \n",
            " embedding_2 (Embedding)        (None, 80)           40000       ['input_7[0][0]']                \n",
            "                                                                                                  \n",
            " input_8 (InputLayer)           [(None, 2)]          0           []                               \n",
            "                                                                                                  \n",
            " tf.__operators__.add_2 (TFOpLa  ()                  0           ['tf.math.reduce_max_2[0][0]']   \n",
            " mbda)                                                                                            \n",
            "                                                                                                  \n",
            " gnn_2 (GNN)                    (None, 32)           43520       ['embedding_2[0][0]',            \n",
            "                                                                  'input_8[0][0]',                \n",
            "                                                                  'input_9[0][0]',                \n",
            "                                                                  'tf.__operators__.add_2[0][0]'] \n",
            "                                                                                                  \n",
            " tf.math.segment_mean_2 (TFOpLa  (None, 32)          0           ['gnn_2[0][0]',                  \n",
            " mbda)                                                            'input_9[0][0]']                \n",
            "                                                                                                  \n",
            " dense_6 (Dense)                (None, 128)          4224        ['tf.math.segment_mean_2[0][0]'] \n",
            "                                                                                                  \n",
            " dense_7 (Dense)                (None, 64)           8256        ['dense_6[0][0]']                \n",
            "                                                                                                  \n",
            " dense_8 (Dense)                (None, 1)            65          ['dense_7[0][0]']                \n",
            "                                                                                                  \n",
            "==================================================================================================\n",
            "Total params: 96,065\n",
            "Trainable params: 96,065\n",
            "Non-trainable params: 0\n",
            "__________________________________________________________________________________________________\n"
          ]
        }
      ],
      "source": [
        "data = keras.Input(batch_shape=(None,))\n",
        "\n",
        "edge = keras.Input(batch_shape=(None, 2), dtype=tf.int32)\n",
        "node2graph = keras.Input(batch_shape=(None,), dtype=tf.int32)\n",
        "\n",
        "embeded = Embedding(tokenizer3.num_words, 80)(data)\n",
        "\n",
        "num_graph = tf.reduce_max(node2graph)+1  \n",
        "\n",
        "gnn_input = GNNInput(\n",
        "    node_features=embeded,\n",
        "    adjacency_lists=(edge,),\n",
        "    node_to_graph_map=node2graph, \n",
        "    num_graphs=num_graph,\n",
        ")\n",
        "\n",
        "params = GNN.get_default_hyperparameters()\n",
        "params[\"message_calculation_class\"] = 'RGAT'\n",
        "params[\"hidden_dim\"] = 32\n",
        "params[\"num_layers\"] = 6\n",
        "params[\"num_heads\"] = 8\n",
        "\n",
        "\n",
        "gnn_layer = GNN(params) \n",
        "\n",
        "gnn_out = gnn_layer(gnn_input)\n",
        "\n",
        "print('gnn_out', gnn_out)           \n",
        "\n",
        "avg = segment_mean(\n",
        "    data=gnn_out,\n",
        "    segment_ids=node2graph\n",
        "    )\n",
        "\n",
        "l1 = Dense(128,activation='relu')(avg)\n",
        "l2 = Dense(64,activation='relu')(l1)\n",
        "pred = Dense(1, activation='sigmoid')(l2)\n",
        "\n",
        "\n",
        "model5 = Model(\n",
        "    inputs={\n",
        "        'data': data, \n",
        "        'edges': edge,\n",
        "        'node2grah': node2graph,\n",
        "    },\n",
        "    outputs=pred\n",
        ")\n",
        "model5.compile(\n",
        "    optimizer = 'adam', \n",
        "    loss='BinaryCrossentropy',\n",
        "    metrics=['AUC']\n",
        ")\n",
        "model5.summary()"
      ]
    },
    {
      "cell_type": "code",
      "execution_count": null,
      "metadata": {
        "id": "IoDQe9Hp-VJk",
        "outputId": "b8bf443f-bd75-419f-edce-2cf7dbed7b76"
      },
      "outputs": [
        {
          "name": "stdout",
          "output_type": "stream",
          "text": [
            "Epoch 1/50\n",
            "596/596 [==============================] - 43s 58ms/step - loss: 0.6312 - auc: 0.6944 - val_loss: 0.6091 - val_auc: 0.7334 - lr: 0.0010\n",
            "Epoch 2/50\n",
            "596/596 [==============================] - 33s 56ms/step - loss: 0.5983 - auc: 0.7382 - val_loss: 0.5933 - val_auc: 0.7455 - lr: 0.0010\n",
            "Epoch 3/50\n",
            "596/596 [==============================] - 33s 55ms/step - loss: 0.5806 - auc: 0.7590 - val_loss: 0.5704 - val_auc: 0.7718 - lr: 0.0010\n",
            "Epoch 4/50\n",
            "596/596 [==============================] - 33s 56ms/step - loss: 0.5572 - auc: 0.7838 - val_loss: 0.5558 - val_auc: 0.7879 - lr: 0.0010\n",
            "Epoch 5/50\n",
            "596/596 [==============================] - 33s 55ms/step - loss: 0.5385 - auc: 0.8020 - val_loss: 0.5359 - val_auc: 0.8041 - lr: 0.0010\n",
            "Epoch 6/50\n",
            "596/596 [==============================] - 34s 57ms/step - loss: 0.5205 - auc: 0.8171 - val_loss: 0.5137 - val_auc: 0.8236 - lr: 0.0010\n",
            "Epoch 7/50\n",
            "596/596 [==============================] - 33s 55ms/step - loss: 0.5103 - auc: 0.8263 - val_loss: 0.5060 - val_auc: 0.8323 - lr: 0.0010\n",
            "Epoch 8/50\n",
            "596/596 [==============================] - 33s 55ms/step - loss: 0.4943 - auc: 0.8389 - val_loss: 0.4810 - val_auc: 0.8503 - lr: 0.0010\n",
            "Epoch 9/50\n",
            "596/596 [==============================] - 33s 55ms/step - loss: 0.4808 - auc: 0.8489 - val_loss: 0.4706 - val_auc: 0.8592 - lr: 0.0010\n",
            "Epoch 10/50\n",
            "596/596 [==============================] - 33s 56ms/step - loss: 0.4655 - auc: 0.8600 - val_loss: 0.4708 - val_auc: 0.8646 - lr: 0.0010\n",
            "Epoch 11/50\n",
            "596/596 [==============================] - 32s 54ms/step - loss: 0.4527 - auc: 0.8687 - val_loss: 0.4527 - val_auc: 0.8778 - lr: 0.0010\n",
            "Epoch 12/50\n",
            "596/596 [==============================] - 33s 55ms/step - loss: 0.4404 - auc: 0.8767 - val_loss: 0.4439 - val_auc: 0.8752 - lr: 0.0010\n",
            "Epoch 13/50\n",
            "596/596 [==============================] - 35s 59ms/step - loss: 0.4293 - auc: 0.8835 - val_loss: 0.4131 - val_auc: 0.8972 - lr: 0.0010\n",
            "Epoch 14/50\n",
            "596/596 [==============================] - 35s 58ms/step - loss: 0.4191 - auc: 0.8895 - val_loss: 0.4149 - val_auc: 0.8950 - lr: 0.0010\n",
            "Epoch 15/50\n",
            "596/596 [==============================] - 33s 56ms/step - loss: 0.4086 - auc: 0.8955 - val_loss: 0.3935 - val_auc: 0.9048 - lr: 0.0010\n",
            "Epoch 16/50\n",
            "596/596 [==============================] - 35s 59ms/step - loss: 0.3971 - auc: 0.9015 - val_loss: 0.3935 - val_auc: 0.9046 - lr: 0.0010\n",
            "Epoch 17/50\n",
            "595/596 [============================>.] - ETA: 0s - loss: 0.3855 - auc: 0.9073\n",
            "Epoch 17: ReduceLROnPlateau reducing learning rate to 0.00020000000949949026.\n",
            "596/596 [==============================] - 34s 57ms/step - loss: 0.3855 - auc: 0.9073 - val_loss: 0.3962 - val_auc: 0.9130 - lr: 0.0010\n",
            "Epoch 18/50\n",
            "596/596 [==============================] - 34s 58ms/step - loss: 0.3599 - auc: 0.9198 - val_loss: 0.3533 - val_auc: 0.9231 - lr: 2.0000e-04\n",
            "Epoch 19/50\n",
            "596/596 [==============================] - 33s 55ms/step - loss: 0.3497 - auc: 0.9244 - val_loss: 0.3445 - val_auc: 0.9280 - lr: 2.0000e-04\n",
            "Epoch 20/50\n",
            "596/596 [==============================] - 33s 55ms/step - loss: 0.3469 - auc: 0.9254 - val_loss: 0.3453 - val_auc: 0.9265 - lr: 2.0000e-04\n",
            "Epoch 21/50\n",
            "596/596 [==============================] - 33s 55ms/step - loss: 0.3394 - auc: 0.9290 - val_loss: 0.3423 - val_auc: 0.9277 - lr: 2.0000e-04\n",
            "Epoch 22/50\n",
            "596/596 [==============================] - 34s 57ms/step - loss: 0.3418 - auc: 0.9276 - val_loss: 0.3335 - val_auc: 0.9316 - lr: 2.0000e-04\n",
            "Epoch 23/50\n",
            "596/596 [==============================] - 34s 56ms/step - loss: 0.3364 - auc: 0.9299 - val_loss: 0.3384 - val_auc: 0.9287 - lr: 2.0000e-04\n",
            "Epoch 24/50\n",
            "596/596 [==============================] - 33s 56ms/step - loss: 0.3326 - auc: 0.9315 - val_loss: 0.3261 - val_auc: 0.9338 - lr: 2.0000e-04\n",
            "Epoch 25/50\n",
            "596/596 [==============================] - 33s 56ms/step - loss: 0.3312 - auc: 0.9320 - val_loss: 0.3300 - val_auc: 0.9329 - lr: 2.0000e-04\n",
            "Epoch 26/50\n",
            "595/596 [============================>.] - ETA: 0s - loss: 0.3279 - auc: 0.9333\n",
            "Epoch 26: ReduceLROnPlateau reducing learning rate to 0.0001.\n",
            "596/596 [==============================] - 34s 57ms/step - loss: 0.3280 - auc: 0.9332 - val_loss: 0.3326 - val_auc: 0.9313 - lr: 2.0000e-04\n",
            "Epoch 27/50\n",
            "596/596 [==============================] - 34s 58ms/step - loss: 0.3244 - auc: 0.9347 - val_loss: 0.3261 - val_auc: 0.9344 - lr: 1.0000e-04\n",
            "Epoch 28/50\n",
            "596/596 [==============================] - 34s 58ms/step - loss: 0.3209 - auc: 0.9361 - val_loss: 0.3245 - val_auc: 0.9346 - lr: 1.0000e-04\n",
            "Epoch 29/50\n",
            "596/596 [==============================] - 33s 55ms/step - loss: 0.3170 - auc: 0.9376 - val_loss: 0.3115 - val_auc: 0.9394 - lr: 1.0000e-04\n",
            "Epoch 30/50\n",
            "596/596 [==============================] - 34s 57ms/step - loss: 0.3131 - auc: 0.9392 - val_loss: 0.3160 - val_auc: 0.9384 - lr: 1.0000e-04\n",
            "Epoch 31/50\n",
            "596/596 [==============================] - 34s 58ms/step - loss: 0.3158 - auc: 0.9380 - val_loss: 0.3147 - val_auc: 0.9380 - lr: 1.0000e-04\n",
            "Epoch 32/50\n",
            "596/596 [==============================] - 33s 56ms/step - loss: 0.3138 - auc: 0.9387 - val_loss: 0.3151 - val_auc: 0.9387 - lr: 1.0000e-04\n",
            "Epoch 33/50\n",
            "596/596 [==============================] - 33s 54ms/step - loss: 0.3159 - auc: 0.9379 - val_loss: 0.3136 - val_auc: 0.9389 - lr: 1.0000e-04\n",
            "Epoch 34/50\n",
            "596/596 [==============================] - 33s 56ms/step - loss: 0.3137 - auc: 0.9388 - val_loss: 0.3095 - val_auc: 0.9402 - lr: 1.0000e-04\n",
            "Epoch 35/50\n",
            "596/596 [==============================] - 34s 57ms/step - loss: 0.3101 - auc: 0.9402 - val_loss: 0.3053 - val_auc: 0.9422 - lr: 1.0000e-04\n",
            "Epoch 36/50\n",
            "596/596 [==============================] - 34s 57ms/step - loss: 0.3098 - auc: 0.9402 - val_loss: 0.3140 - val_auc: 0.9384 - lr: 1.0000e-04\n",
            "Epoch 37/50\n",
            "596/596 [==============================] - 34s 56ms/step - loss: 0.3084 - auc: 0.9408 - val_loss: 0.3061 - val_auc: 0.9422 - lr: 1.0000e-04\n",
            "Epoch 38/50\n",
            "596/596 [==============================] - 33s 56ms/step - loss: 0.3046 - auc: 0.9421 - val_loss: 0.2998 - val_auc: 0.9440 - lr: 1.0000e-04\n",
            "Epoch 39/50\n",
            "596/596 [==============================] - 34s 57ms/step - loss: 0.3044 - auc: 0.9422 - val_loss: 0.3100 - val_auc: 0.9401 - lr: 1.0000e-04\n",
            "Epoch 40/50\n",
            "596/596 [==============================] - 33s 56ms/step - loss: 0.3072 - auc: 0.9411 - val_loss: 0.3007 - val_auc: 0.9442 - lr: 1.0000e-04\n",
            "Epoch 41/50\n",
            "596/596 [==============================] - 34s 57ms/step - loss: 0.3025 - auc: 0.9427 - val_loss: 0.3084 - val_auc: 0.9405 - lr: 1.0000e-04\n",
            "Epoch 42/50\n",
            "596/596 [==============================] - 34s 57ms/step - loss: 0.3029 - auc: 0.9427 - val_loss: 0.2971 - val_auc: 0.9444 - lr: 1.0000e-04\n",
            "Epoch 43/50\n",
            "596/596 [==============================] - 33s 55ms/step - loss: 0.3005 - auc: 0.9435 - val_loss: 0.2971 - val_auc: 0.9461 - lr: 1.0000e-04\n",
            "Epoch 44/50\n",
            "596/596 [==============================] - 33s 55ms/step - loss: 0.3004 - auc: 0.9436 - val_loss: 0.2919 - val_auc: 0.9466 - lr: 1.0000e-04\n",
            "Epoch 45/50\n",
            "596/596 [==============================] - 33s 56ms/step - loss: 0.2990 - auc: 0.9440 - val_loss: 0.2972 - val_auc: 0.9442 - lr: 1.0000e-04\n",
            "Epoch 46/50\n",
            "596/596 [==============================] - 34s 56ms/step - loss: 0.2983 - auc: 0.9443 - val_loss: 0.3060 - val_auc: 0.9431 - lr: 1.0000e-04\n",
            "Epoch 47/50\n",
            "596/596 [==============================] - 33s 55ms/step - loss: 0.2953 - auc: 0.9454 - val_loss: 0.2923 - val_auc: 0.9461 - lr: 1.0000e-04\n",
            "Epoch 48/50\n",
            "596/596 [==============================] - 34s 58ms/step - loss: 0.2951 - auc: 0.9455 - val_loss: 0.2898 - val_auc: 0.9475 - lr: 1.0000e-04\n",
            "Epoch 49/50\n",
            "596/596 [==============================] - 34s 57ms/step - loss: 0.2953 - auc: 0.9455 - val_loss: 0.3006 - val_auc: 0.9431 - lr: 1.0000e-04\n",
            "Epoch 50/50\n",
            "596/596 [==============================] - 33s 56ms/step - loss: 0.2933 - auc: 0.9459 - val_loss: 0.2875 - val_auc: 0.9480 - lr: 1.0000e-04\n"
          ]
        }
      ],
      "source": [
        "batch_size = 64\n",
        "num_batchs = math.ceil(len(training_set4) / batch_size)\n",
        "num_batchs_validation = math.ceil(len(validation_set4) / batch_size)\n",
        "\n",
        "early_stop = EarlyStopping(monitor='val_loss', patience=5, verbose=1,restore_best_weights=True)\n",
        "reduce_lr = ReduceLROnPlateau(monitor='val_loss', factor=0.2, patience=2, verbose=1, min_lr=0.0001)\n",
        "hist = model5.fit(\n",
        "    gen_batch(\n",
        "        training_set4, batch_size=batch_size, repeat=True\n",
        "    ),\n",
        "    steps_per_epoch=num_batchs,\n",
        "    epochs=50,\n",
        "    validation_data=gen_batch(\n",
        "        validation_set4, batch_size=64, repeat=True\n",
        "    ),\n",
        "    validation_steps=num_batchs_validation,\n",
        "    verbose=1,callbacks=[early_stop, reduce_lr]\n",
        ")\n"
      ]
    },
    {
      "cell_type": "code",
      "execution_count": null,
      "metadata": {
        "id": "iQGKOUpv-VJl",
        "outputId": "4bf59e22-0ec9-4c1c-c773-125599560594"
      },
      "outputs": [
        {
          "name": "stdout",
          "output_type": "stream",
          "text": [
            "193/193 [==============================] - 4s 15ms/step\n"
          ]
        }
      ],
      "source": [
        "#make a prediction\n",
        "y_pred_5 = model5.predict(\n",
        "    gen_batch(testing_set, batch_size=64, shuffle=False)\n",
        ")\n",
        "y_pred_5 = np.reshape(y_pred_5, -1)\n",
        "submission = pd.DataFrame({'label':y_pred_5})\n",
        "submission.index.name = 'id'\n",
        "submission.to_csv('trial_6_RGAT.csv')"
      ]
    },
    {
      "cell_type": "markdown",
      "metadata": {
        "id": "2sRlXtBb-VJl"
      },
      "source": [
        "Still not better, Lets Continue"
      ]
    },
    {
      "cell_type": "markdown",
      "metadata": {
        "id": "fhtMPp7--VJl"
      },
      "source": [
        "## Trial 7 Using RandomOverSample to fix the Data Imbalance And Changing RGIN Hyperparameters"
      ]
    },
    {
      "cell_type": "code",
      "execution_count": null,
      "metadata": {
        "id": "jVh6BlaA-VJl",
        "outputId": "6fefef5d-2f76-4ab6-b155-a1cd5d948c63"
      },
      "outputs": [
        {
          "name": "stdout",
          "output_type": "stream",
          "text": [
            "gnn_out KerasTensor(type_spec=TensorSpec(shape=(None, 32), dtype=tf.float32, name=None), name='gnn_3/StatefulPartitionedCall:0', description=\"created by layer 'gnn_3'\")\n",
            "Model: \"model_3\"\n",
            "__________________________________________________________________________________________________\n",
            " Layer (type)                   Output Shape         Param #     Connected to                     \n",
            "==================================================================================================\n",
            " input_12 (InputLayer)          [(None,)]            0           []                               \n",
            "                                                                                                  \n",
            " input_10 (InputLayer)          [(None,)]            0           []                               \n",
            "                                                                                                  \n",
            " tf.math.reduce_max_3 (TFOpLamb  ()                  0           ['input_12[0][0]']               \n",
            " da)                                                                                              \n",
            "                                                                                                  \n",
            " embedding_3 (Embedding)        (None, 80)           40000       ['input_10[0][0]']               \n",
            "                                                                                                  \n",
            " input_11 (InputLayer)          [(None, 2)]          0           []                               \n",
            "                                                                                                  \n",
            " tf.__operators__.add_3 (TFOpLa  ()                  0           ['tf.math.reduce_max_3[0][0]']   \n",
            " mbda)                                                                                            \n",
            "                                                                                                  \n",
            " gnn_3 (GNN)                    (None, 32)           86144       ['embedding_3[0][0]',            \n",
            "                                                                  'input_11[0][0]',               \n",
            "                                                                  'input_12[0][0]',               \n",
            "                                                                  'tf.__operators__.add_3[0][0]'] \n",
            "                                                                                                  \n",
            " tf.math.segment_mean_3 (TFOpLa  (None, 32)          0           ['gnn_3[0][0]',                  \n",
            " mbda)                                                            'input_12[0][0]']               \n",
            "                                                                                                  \n",
            " dense_9 (Dense)                (None, 128)          4224        ['tf.math.segment_mean_3[0][0]'] \n",
            "                                                                                                  \n",
            " dense_10 (Dense)               (None, 64)           8256        ['dense_9[0][0]']                \n",
            "                                                                                                  \n",
            " dense_11 (Dense)               (None, 1)            65          ['dense_10[0][0]']               \n",
            "                                                                                                  \n",
            "==================================================================================================\n",
            "Total params: 138,689\n",
            "Trainable params: 138,689\n",
            "Non-trainable params: 0\n",
            "__________________________________________________________________________________________________\n"
          ]
        }
      ],
      "source": [
        "data = keras.Input(batch_shape=(None,))\n",
        "\n",
        "edge = keras.Input(batch_shape=(None, 2), dtype=tf.int32)\n",
        "node2graph = keras.Input(batch_shape=(None,), dtype=tf.int32)\n",
        "\n",
        "embeded = Embedding(tokenizer3.num_words, 80)(data)\n",
        "\n",
        "num_graph = tf.reduce_max(node2graph)+1  \n",
        "\n",
        "gnn_input = GNNInput(\n",
        "    node_features=embeded,\n",
        "    adjacency_lists=(edge,),\n",
        "    node_to_graph_map=node2graph, \n",
        "    num_graphs=num_graph,\n",
        ")\n",
        "\n",
        "params = GNN.get_default_hyperparameters()\n",
        "params[\"message_calculation_class\"] = 'RGIN'\n",
        "params[\"hidden_dim\"] = 32\n",
        "params[\"num_layers\"] = 6\n",
        "params[\"num_aggr_MLP_hidden_layers\"] = 6\n",
        "\n",
        "\n",
        "gnn_layer = GNN(params) \n",
        "\n",
        "gnn_out = gnn_layer(gnn_input)\n",
        "\n",
        "print('gnn_out', gnn_out)           \n",
        "\n",
        "avg = segment_mean(\n",
        "    data=gnn_out,\n",
        "    segment_ids=node2graph\n",
        "    )\n",
        "\n",
        "l1 = Dense(128,activation='relu')(avg)\n",
        "l2 = Dense(64,activation='relu')(l1)\n",
        "pred = Dense(1, activation='sigmoid')(l2)\n",
        "\n",
        "\n",
        "model6 = Model(\n",
        "    inputs={\n",
        "        'data': data, \n",
        "        'edges': edge,\n",
        "        'node2grah': node2graph,\n",
        "    },\n",
        "    outputs=pred\n",
        ")\n",
        "model6.compile(\n",
        "    optimizer = 'adam', \n",
        "    loss='BinaryCrossentropy',\n",
        "    metrics=['AUC']\n",
        ")\n",
        "model6.summary()"
      ]
    },
    {
      "cell_type": "code",
      "execution_count": null,
      "metadata": {
        "id": "R7kGTLLR-VJl",
        "outputId": "5431ada5-808a-4df5-e96e-52944b99929c"
      },
      "outputs": [
        {
          "name": "stdout",
          "output_type": "stream",
          "text": [
            "Epoch 1/50\n",
            "596/596 [==============================] - 49s 73ms/step - loss: 0.6641 - auc: 0.6296 - val_loss: 0.6462 - val_auc: 0.6596 - lr: 0.0010\n",
            "Epoch 2/50\n",
            "596/596 [==============================] - 41s 68ms/step - loss: 0.6334 - auc: 0.6862 - val_loss: 0.6519 - val_auc: 0.6951 - lr: 0.0010\n",
            "Epoch 3/50\n",
            "596/596 [==============================] - 40s 67ms/step - loss: 0.6178 - auc: 0.7104 - val_loss: 0.6169 - val_auc: 0.7211 - lr: 0.0010\n",
            "Epoch 4/50\n",
            "596/596 [==============================] - 39s 66ms/step - loss: 0.6118 - auc: 0.7195 - val_loss: 0.6098 - val_auc: 0.7231 - lr: 0.0010\n",
            "Epoch 5/50\n",
            "596/596 [==============================] - 39s 66ms/step - loss: 0.6101 - auc: 0.7221 - val_loss: 0.6076 - val_auc: 0.7297 - lr: 0.0010\n",
            "Epoch 6/50\n",
            "596/596 [==============================] - 39s 65ms/step - loss: 0.6063 - auc: 0.7274 - val_loss: 0.6035 - val_auc: 0.7306 - lr: 0.0010\n",
            "Epoch 7/50\n",
            "596/596 [==============================] - 39s 66ms/step - loss: 0.5941 - auc: 0.7396 - val_loss: 0.5956 - val_auc: 0.7450 - lr: 0.0010\n",
            "Epoch 8/50\n",
            "596/596 [==============================] - 40s 68ms/step - loss: 0.5914 - auc: 0.7450 - val_loss: 0.5878 - val_auc: 0.7563 - lr: 0.0010\n",
            "Epoch 9/50\n",
            "596/596 [==============================] - 40s 67ms/step - loss: 0.5825 - auc: 0.7548 - val_loss: 0.5817 - val_auc: 0.7576 - lr: 0.0010\n",
            "Epoch 10/50\n",
            "596/596 [==============================] - 40s 67ms/step - loss: 0.5813 - auc: 0.7541 - val_loss: 0.5813 - val_auc: 0.7571 - lr: 0.0010\n",
            "Epoch 11/50\n",
            "596/596 [==============================] - 40s 67ms/step - loss: 0.5800 - auc: 0.7571 - val_loss: 0.5843 - val_auc: 0.7658 - lr: 0.0010\n",
            "Epoch 12/50\n",
            "596/596 [==============================] - 40s 67ms/step - loss: 0.5779 - auc: 0.7596 - val_loss: 0.5801 - val_auc: 0.7662 - lr: 0.0010\n",
            "Epoch 13/50\n",
            "596/596 [==============================] - 40s 66ms/step - loss: 0.5711 - auc: 0.7676 - val_loss: 0.5791 - val_auc: 0.7615 - lr: 0.0010\n",
            "Epoch 14/50\n",
            "596/596 [==============================] - 41s 68ms/step - loss: 0.5678 - auc: 0.7727 - val_loss: 0.5677 - val_auc: 0.7780 - lr: 0.0010\n",
            "Epoch 15/50\n",
            "596/596 [==============================] - 40s 67ms/step - loss: 0.5699 - auc: 0.7699 - val_loss: 0.5726 - val_auc: 0.7714 - lr: 0.0010\n",
            "Epoch 16/50\n",
            "595/596 [============================>.] - ETA: 0s - loss: 0.6019 - auc: 0.7346\n",
            "Epoch 16: ReduceLROnPlateau reducing learning rate to 0.00020000000949949026.\n",
            "596/596 [==============================] - 40s 68ms/step - loss: 0.6019 - auc: 0.7346 - val_loss: 0.5997 - val_auc: 0.7339 - lr: 0.0010\n",
            "Epoch 17/50\n",
            "596/596 [==============================] - 39s 66ms/step - loss: 0.5858 - auc: 0.7502 - val_loss: 0.5818 - val_auc: 0.7521 - lr: 2.0000e-04\n",
            "Epoch 18/50\n",
            "596/596 [==============================] - ETA: 0s - loss: 0.5785 - auc: 0.7604\n",
            "Epoch 18: ReduceLROnPlateau reducing learning rate to 0.0001.\n",
            "596/596 [==============================] - 40s 68ms/step - loss: 0.5785 - auc: 0.7604 - val_loss: 0.5795 - val_auc: 0.7590 - lr: 2.0000e-04\n",
            "Epoch 19/50\n",
            "595/596 [============================>.] - ETA: 0s - loss: 0.5742 - auc: 0.7666Restoring model weights from the end of the best epoch: 14.\n",
            "596/596 [==============================] - 40s 67ms/step - loss: 0.5742 - auc: 0.7666 - val_loss: 0.5737 - val_auc: 0.7665 - lr: 1.0000e-04\n",
            "Epoch 19: early stopping\n"
          ]
        }
      ],
      "source": [
        "batch_size = 64\n",
        "num_batchs = math.ceil(len(training_set4) / batch_size)\n",
        "num_batchs_validation = math.ceil(len(validation_set4) / batch_size)\n",
        "\n",
        "early_stop = EarlyStopping(monitor='val_loss', patience=5, verbose=1,restore_best_weights=True)\n",
        "reduce_lr = ReduceLROnPlateau(monitor='val_loss', factor=0.2, patience=2, verbose=1, min_lr=0.0001)\n",
        "hist = model6.fit(\n",
        "    gen_batch(\n",
        "        training_set4, batch_size=batch_size, repeat=True\n",
        "    ),\n",
        "    steps_per_epoch=num_batchs,\n",
        "    epochs=50,\n",
        "    validation_data=gen_batch(\n",
        "        validation_set4, batch_size=64, repeat=True\n",
        "    ),\n",
        "    validation_steps=num_batchs_validation,\n",
        "    verbose=1,callbacks=[early_stop, reduce_lr]\n",
        ")\n"
      ]
    },
    {
      "cell_type": "markdown",
      "metadata": {
        "id": "YX-HCmhQ-VJl"
      },
      "source": [
        "57.4% AUC And 76.65% Validation_AUC\n",
        "\n",
        "\n",
        "Ouch, Moving on."
      ]
    },
    {
      "cell_type": "markdown",
      "metadata": {
        "id": "dp_cttii-VJl"
      },
      "source": [
        "## Trial 8 Using RandomOverSample to fix the Data Imbalance And Changing GNN-Edge-MLP Hyperparameters"
      ]
    },
    {
      "cell_type": "code",
      "execution_count": null,
      "metadata": {
        "id": "a-RoNlJ8-VJl",
        "outputId": "c8c8080d-b83d-4036-f969-eb07354be54b"
      },
      "outputs": [
        {
          "name": "stdout",
          "output_type": "stream",
          "text": [
            "gnn_out KerasTensor(type_spec=TensorSpec(shape=(None, 32), dtype=tf.float32, name=None), name='gnn_4/StatefulPartitionedCall:0', description=\"created by layer 'gnn_4'\")\n",
            "Model: \"model_4\"\n",
            "__________________________________________________________________________________________________\n",
            " Layer (type)                   Output Shape         Param #     Connected to                     \n",
            "==================================================================================================\n",
            " input_15 (InputLayer)          [(None,)]            0           []                               \n",
            "                                                                                                  \n",
            " input_13 (InputLayer)          [(None,)]            0           []                               \n",
            "                                                                                                  \n",
            " tf.math.reduce_max_4 (TFOpLamb  ()                  0           ['input_15[0][0]']               \n",
            " da)                                                                                              \n",
            "                                                                                                  \n",
            " embedding_4 (Embedding)        (None, 80)           40000       ['input_13[0][0]']               \n",
            "                                                                                                  \n",
            " input_14 (InputLayer)          [(None, 2)]          0           []                               \n",
            "                                                                                                  \n",
            " tf.__operators__.add_4 (TFOpLa  ()                  0           ['tf.math.reduce_max_4[0][0]']   \n",
            " mbda)                                                                                            \n",
            "                                                                                                  \n",
            " gnn_4 (GNN)                    (None, 32)           43136       ['embedding_4[0][0]',            \n",
            "                                                                  'input_14[0][0]',               \n",
            "                                                                  'input_15[0][0]',               \n",
            "                                                                  'tf.__operators__.add_4[0][0]'] \n",
            "                                                                                                  \n",
            " tf.math.segment_mean_4 (TFOpLa  (None, 32)          0           ['gnn_4[0][0]',                  \n",
            " mbda)                                                            'input_15[0][0]']               \n",
            "                                                                                                  \n",
            " dense_12 (Dense)               (None, 128)          4224        ['tf.math.segment_mean_4[0][0]'] \n",
            "                                                                                                  \n",
            " dense_13 (Dense)               (None, 64)           8256        ['dense_12[0][0]']               \n",
            "                                                                                                  \n",
            " dense_14 (Dense)               (None, 1)            65          ['dense_13[0][0]']               \n",
            "                                                                                                  \n",
            "==================================================================================================\n",
            "Total params: 95,681\n",
            "Trainable params: 95,681\n",
            "Non-trainable params: 0\n",
            "__________________________________________________________________________________________________\n"
          ]
        }
      ],
      "source": [
        "data = keras.Input(batch_shape=(None,))\n",
        "\n",
        "edge = keras.Input(batch_shape=(None, 2), dtype=tf.int32)\n",
        "node2graph = keras.Input(batch_shape=(None,), dtype=tf.int32)\n",
        "\n",
        "embeded = Embedding(tokenizer3.num_words, 80)(data)\n",
        "\n",
        "num_graph = tf.reduce_max(node2graph)+1  \n",
        "\n",
        "gnn_input = GNNInput(\n",
        "    node_features=embeded,\n",
        "    adjacency_lists=(edge,),\n",
        "    node_to_graph_map=node2graph, \n",
        "    num_graphs=num_graph,\n",
        ")\n",
        "\n",
        "params = GNN.get_default_hyperparameters()\n",
        "params[\"message_calculation_class\"] = 'gnn_edge_mlp'\n",
        "params[\"hidden_dim\"] = 32\n",
        "params[\"num_layers\"] = 6\n",
        "\n",
        "\n",
        "gnn_layer = GNN(params) \n",
        "\n",
        "gnn_out = gnn_layer(gnn_input)\n",
        "\n",
        "print('gnn_out', gnn_out)           \n",
        "\n",
        "avg = segment_mean(\n",
        "    data=gnn_out,\n",
        "    segment_ids=node2graph\n",
        "    )\n",
        "\n",
        "l1 = Dense(128,activation='relu')(avg)\n",
        "l2 = Dense(64,activation='relu')(l1)\n",
        "pred = Dense(1, activation='sigmoid')(l2)\n",
        "\n",
        "\n",
        "model7 = Model(\n",
        "    inputs={\n",
        "        'data': data, \n",
        "        'edges': edge,\n",
        "        'node2grah': node2graph,\n",
        "    },\n",
        "    outputs=pred\n",
        ")\n",
        "model7.compile(\n",
        "    optimizer = 'adam', \n",
        "    loss='BinaryCrossentropy',\n",
        "    metrics=['AUC']\n",
        ")\n",
        "model7.summary()"
      ]
    },
    {
      "cell_type": "code",
      "execution_count": null,
      "metadata": {
        "id": "2Q-lv0A7-VJm",
        "outputId": "545e7bf2-820c-4ccf-d5e0-0b0b0b8bf946"
      },
      "outputs": [
        {
          "name": "stdout",
          "output_type": "stream",
          "text": [
            "Epoch 1/50\n",
            "596/596 [==============================] - 29s 43ms/step - loss: 0.6249 - auc: 0.6992 - val_loss: 0.6098 - val_auc: 0.7366 - lr: 0.0010\n",
            "Epoch 2/50\n",
            "596/596 [==============================] - 24s 41ms/step - loss: 0.5959 - auc: 0.7379 - val_loss: 0.5995 - val_auc: 0.7395 - lr: 0.0010\n",
            "Epoch 3/50\n",
            "596/596 [==============================] - 24s 41ms/step - loss: 0.5848 - auc: 0.7494 - val_loss: 0.5796 - val_auc: 0.7582 - lr: 0.0010\n",
            "Epoch 4/50\n",
            "596/596 [==============================] - 24s 41ms/step - loss: 0.5693 - auc: 0.7664 - val_loss: 0.5645 - val_auc: 0.7782 - lr: 0.0010\n",
            "Epoch 5/50\n",
            "596/596 [==============================] - 25s 41ms/step - loss: 0.5580 - auc: 0.7787 - val_loss: 0.5602 - val_auc: 0.7921 - lr: 0.0010\n",
            "Epoch 6/50\n",
            "596/596 [==============================] - 25s 41ms/step - loss: 0.5420 - auc: 0.7956 - val_loss: 0.5497 - val_auc: 0.8006 - lr: 0.0010\n",
            "Epoch 7/50\n",
            "596/596 [==============================] - 25s 41ms/step - loss: 0.5307 - auc: 0.8087 - val_loss: 0.5203 - val_auc: 0.8196 - lr: 0.0010\n",
            "Epoch 8/50\n",
            "596/596 [==============================] - 25s 42ms/step - loss: 0.5175 - auc: 0.8207 - val_loss: 0.5182 - val_auc: 0.8254 - lr: 0.0010\n",
            "Epoch 9/50\n",
            "596/596 [==============================] - 25s 42ms/step - loss: 0.5065 - auc: 0.8309 - val_loss: 0.5130 - val_auc: 0.8283 - lr: 0.0010\n",
            "Epoch 10/50\n",
            "596/596 [==============================] - 25s 42ms/step - loss: 0.4965 - auc: 0.8385 - val_loss: 0.5008 - val_auc: 0.8354 - lr: 0.0010\n",
            "Epoch 11/50\n",
            "596/596 [==============================] - 25s 42ms/step - loss: 0.4886 - auc: 0.8446 - val_loss: 0.4886 - val_auc: 0.8514 - lr: 0.0010\n",
            "Epoch 12/50\n",
            "596/596 [==============================] - 25s 42ms/step - loss: 0.4792 - auc: 0.8516 - val_loss: 0.4743 - val_auc: 0.8559 - lr: 0.0010\n",
            "Epoch 13/50\n",
            "596/596 [==============================] - 25s 42ms/step - loss: 0.4705 - auc: 0.8573 - val_loss: 0.4663 - val_auc: 0.8609 - lr: 0.0010\n",
            "Epoch 14/50\n",
            "596/596 [==============================] - 25s 43ms/step - loss: 0.4650 - auc: 0.8608 - val_loss: 0.4695 - val_auc: 0.8649 - lr: 0.0010\n",
            "Epoch 15/50\n",
            "595/596 [============================>.] - ETA: 0s - loss: 0.4585 - auc: 0.8653\n",
            "Epoch 15: ReduceLROnPlateau reducing learning rate to 0.00020000000949949026.\n",
            "596/596 [==============================] - 25s 42ms/step - loss: 0.4584 - auc: 0.8653 - val_loss: 0.4869 - val_auc: 0.8581 - lr: 0.0010\n",
            "Epoch 16/50\n",
            "596/596 [==============================] - 25s 42ms/step - loss: 0.4368 - auc: 0.8786 - val_loss: 0.4485 - val_auc: 0.8722 - lr: 2.0000e-04\n",
            "Epoch 17/50\n",
            "596/596 [==============================] - 26s 43ms/step - loss: 0.4297 - auc: 0.8827 - val_loss: 0.4415 - val_auc: 0.8786 - lr: 2.0000e-04\n",
            "Epoch 18/50\n",
            "596/596 [==============================] - 25s 42ms/step - loss: 0.4273 - auc: 0.8841 - val_loss: 0.4460 - val_auc: 0.8724 - lr: 2.0000e-04\n",
            "Epoch 19/50\n",
            "596/596 [==============================] - 26s 43ms/step - loss: 0.4244 - auc: 0.8857 - val_loss: 0.4385 - val_auc: 0.8777 - lr: 2.0000e-04\n",
            "Epoch 20/50\n",
            "596/596 [==============================] - 25s 42ms/step - loss: 0.4218 - auc: 0.8874 - val_loss: 0.4363 - val_auc: 0.8787 - lr: 2.0000e-04\n",
            "Epoch 21/50\n",
            "596/596 [==============================] - 25s 43ms/step - loss: 0.4196 - auc: 0.8884 - val_loss: 0.4343 - val_auc: 0.8797 - lr: 2.0000e-04\n",
            "Epoch 22/50\n",
            "596/596 [==============================] - 25s 43ms/step - loss: 0.4133 - auc: 0.8919 - val_loss: 0.4272 - val_auc: 0.8840 - lr: 2.0000e-04\n",
            "Epoch 23/50\n",
            "596/596 [==============================] - 25s 42ms/step - loss: 0.4138 - auc: 0.8917 - val_loss: 0.4328 - val_auc: 0.8809 - lr: 2.0000e-04\n",
            "Epoch 24/50\n",
            "596/596 [==============================] - 25s 42ms/step - loss: 0.4132 - auc: 0.8917 - val_loss: 0.4207 - val_auc: 0.8877 - lr: 2.0000e-04\n",
            "Epoch 25/50\n",
            "596/596 [==============================] - 25s 42ms/step - loss: 0.4101 - auc: 0.8935 - val_loss: 0.4321 - val_auc: 0.8816 - lr: 2.0000e-04\n",
            "Epoch 26/50\n",
            "596/596 [==============================] - ETA: 0s - loss: 0.4101 - auc: 0.8936\n",
            "Epoch 26: ReduceLROnPlateau reducing learning rate to 5e-05.\n",
            "596/596 [==============================] - 25s 42ms/step - loss: 0.4101 - auc: 0.8936 - val_loss: 0.4293 - val_auc: 0.8829 - lr: 2.0000e-04\n",
            "Epoch 27/50\n",
            "596/596 [==============================] - 25s 42ms/step - loss: 0.4045 - auc: 0.8964 - val_loss: 0.4222 - val_auc: 0.8869 - lr: 5.0000e-05\n",
            "Epoch 28/50\n",
            "596/596 [==============================] - 25s 41ms/step - loss: 0.4006 - auc: 0.8987 - val_loss: 0.4192 - val_auc: 0.8878 - lr: 5.0000e-05\n",
            "Epoch 29/50\n",
            "596/596 [==============================] - 25s 42ms/step - loss: 0.4020 - auc: 0.8979 - val_loss: 0.4153 - val_auc: 0.8907 - lr: 5.0000e-05\n",
            "Epoch 30/50\n",
            "596/596 [==============================] - 25s 42ms/step - loss: 0.4009 - auc: 0.8984 - val_loss: 0.4161 - val_auc: 0.8900 - lr: 5.0000e-05\n",
            "Epoch 31/50\n",
            "596/596 [==============================] - 25s 41ms/step - loss: 0.4026 - auc: 0.8975 - val_loss: 0.4218 - val_auc: 0.8865 - lr: 5.0000e-05\n",
            "Epoch 32/50\n",
            "596/596 [==============================] - 25s 42ms/step - loss: 0.4023 - auc: 0.8977 - val_loss: 0.4148 - val_auc: 0.8908 - lr: 5.0000e-05\n",
            "Epoch 33/50\n",
            "596/596 [==============================] - 25s 42ms/step - loss: 0.4019 - auc: 0.8979 - val_loss: 0.4131 - val_auc: 0.8918 - lr: 5.0000e-05\n",
            "Epoch 34/50\n",
            "596/596 [==============================] - 25s 42ms/step - loss: 0.3970 - auc: 0.9004 - val_loss: 0.4183 - val_auc: 0.8887 - lr: 5.0000e-05\n",
            "Epoch 35/50\n",
            "596/596 [==============================] - 25s 42ms/step - loss: 0.4020 - auc: 0.8978 - val_loss: 0.4173 - val_auc: 0.8893 - lr: 5.0000e-05\n",
            "Epoch 36/50\n",
            "596/596 [==============================] - 25s 41ms/step - loss: 0.3982 - auc: 0.8999 - val_loss: 0.4178 - val_auc: 0.8890 - lr: 5.0000e-05\n",
            "Epoch 37/50\n",
            "596/596 [==============================] - 25s 42ms/step - loss: 0.3965 - auc: 0.9007 - val_loss: 0.4196 - val_auc: 0.8887 - lr: 5.0000e-05\n",
            "Epoch 38/50\n",
            "595/596 [============================>.] - ETA: 0s - loss: 0.3983 - auc: 0.8997Restoring model weights from the end of the best epoch: 33.\n",
            "596/596 [==============================] - 25s 42ms/step - loss: 0.3985 - auc: 0.8996 - val_loss: 0.4255 - val_auc: 0.8848 - lr: 5.0000e-05\n",
            "Epoch 38: early stopping\n"
          ]
        }
      ],
      "source": [
        "batch_size = 64\n",
        "num_batchs = math.ceil(len(training_set4) / batch_size)\n",
        "num_batchs_validation = math.ceil(len(validation_set4) / batch_size)\n",
        "\n",
        "early_stop = EarlyStopping(monitor='val_loss', patience=5, verbose=1,restore_best_weights=True)\n",
        "reduce_lr = ReduceLROnPlateau(monitor='val_loss', factor=0.2, patience=2, verbose=1, min_lr=0.00005)\n",
        "hist = model7.fit(\n",
        "    gen_batch(\n",
        "        training_set4, batch_size=batch_size, repeat=True\n",
        "    ),\n",
        "    steps_per_epoch=num_batchs,\n",
        "    epochs=50,\n",
        "    validation_data=gen_batch(\n",
        "        validation_set4, batch_size=64, repeat=True\n",
        "    ),\n",
        "    validation_steps=num_batchs_validation,\n",
        "    verbose=1,callbacks=[early_stop, reduce_lr]\n",
        ")\n"
      ]
    },
    {
      "cell_type": "markdown",
      "metadata": {
        "id": "05s9LVJO-VJm"
      },
      "source": [
        "Better than the previous one but will try to get a better one"
      ]
    },
    {
      "cell_type": "markdown",
      "metadata": {
        "id": "dfGxCujl-VJm"
      },
      "source": [
        "## Trial 9 Using RandomOverSample to fix the Data Imbalance And Changing GNN-FiLM Hyperparameters"
      ]
    },
    {
      "cell_type": "code",
      "execution_count": null,
      "metadata": {
        "id": "IwscM28--VJm",
        "outputId": "bbe64b80-c13a-42ec-f28e-b4ac82a6d917"
      },
      "outputs": [
        {
          "name": "stdout",
          "output_type": "stream",
          "text": [
            "gnn_out KerasTensor(type_spec=TensorSpec(shape=(None, 32), dtype=tf.float32, name=None), name='gnn_5/StatefulPartitionedCall:0', description=\"created by layer 'gnn_5'\")\n",
            "Model: \"model_5\"\n",
            "__________________________________________________________________________________________________\n",
            " Layer (type)                   Output Shape         Param #     Connected to                     \n",
            "==================================================================================================\n",
            " input_18 (InputLayer)          [(None,)]            0           []                               \n",
            "                                                                                                  \n",
            " input_16 (InputLayer)          [(None,)]            0           []                               \n",
            "                                                                                                  \n",
            " tf.math.reduce_max_5 (TFOpLamb  ()                  0           ['input_18[0][0]']               \n",
            " da)                                                                                              \n",
            "                                                                                                  \n",
            " embedding_5 (Embedding)        (None, 80)           40000       ['input_16[0][0]']               \n",
            "                                                                                                  \n",
            " input_17 (InputLayer)          [(None, 2)]          0           []                               \n",
            "                                                                                                  \n",
            " tf.__operators__.add_5 (TFOpLa  ()                  0           ['tf.math.reduce_max_5[0][0]']   \n",
            " mbda)                                                                                            \n",
            "                                                                                                  \n",
            " gnn_5 (GNN)                    (None, 32)           80000       ['embedding_5[0][0]',            \n",
            "                                                                  'input_17[0][0]',               \n",
            "                                                                  'input_18[0][0]',               \n",
            "                                                                  'tf.__operators__.add_5[0][0]'] \n",
            "                                                                                                  \n",
            " tf.math.segment_mean_5 (TFOpLa  (None, 32)          0           ['gnn_5[0][0]',                  \n",
            " mbda)                                                            'input_18[0][0]']               \n",
            "                                                                                                  \n",
            " dense_15 (Dense)               (None, 128)          4224        ['tf.math.segment_mean_5[0][0]'] \n",
            "                                                                                                  \n",
            " dense_16 (Dense)               (None, 64)           8256        ['dense_15[0][0]']               \n",
            "                                                                                                  \n",
            " dense_17 (Dense)               (None, 1)            65          ['dense_16[0][0]']               \n",
            "                                                                                                  \n",
            "==================================================================================================\n",
            "Total params: 132,545\n",
            "Trainable params: 132,545\n",
            "Non-trainable params: 0\n",
            "__________________________________________________________________________________________________\n"
          ]
        }
      ],
      "source": [
        "data = keras.Input(batch_shape=(None,))\n",
        "\n",
        "edge = keras.Input(batch_shape=(None, 2), dtype=tf.int32)\n",
        "node2graph = keras.Input(batch_shape=(None,), dtype=tf.int32)\n",
        "\n",
        "embeded = Embedding(tokenizer3.num_words, 80)(data)\n",
        "\n",
        "num_graph = tf.reduce_max(node2graph)+1  \n",
        "\n",
        "gnn_input = GNNInput(\n",
        "    node_features=embeded,\n",
        "    adjacency_lists=(edge,),\n",
        "    node_to_graph_map=node2graph, \n",
        "    num_graphs=num_graph,\n",
        ")\n",
        "\n",
        "params = GNN.get_default_hyperparameters()\n",
        "params[\"message_calculation_class\"] = 'GNN_FiLM'\n",
        "params[\"hidden_dim\"] = 32\n",
        "params[\"num_layers\"] = 6\n",
        "params[\"film_parameter_MLP_hidden_layers\"] = 1\n",
        "\n",
        "\n",
        "gnn_layer = GNN(params) \n",
        "\n",
        "gnn_out = gnn_layer(gnn_input)\n",
        "\n",
        "print('gnn_out', gnn_out)           \n",
        "\n",
        "avg = segment_mean(\n",
        "    data=gnn_out,\n",
        "    segment_ids=node2graph\n",
        "    )\n",
        "\n",
        "l1 = Dense(128,activation='relu')(avg)\n",
        "l2 = Dense(64,activation='relu')(l1)\n",
        "pred = Dense(1, activation='sigmoid')(l2)\n",
        "\n",
        "\n",
        "model8 = Model(\n",
        "    inputs={\n",
        "        'data': data, \n",
        "        'edges': edge,\n",
        "        'node2grah': node2graph,\n",
        "    },\n",
        "    outputs=pred\n",
        ")\n",
        "model8.compile(\n",
        "    optimizer = 'adam', \n",
        "    loss='BinaryCrossentropy',\n",
        "    metrics=['AUC']\n",
        ")\n",
        "model8.summary()"
      ]
    },
    {
      "cell_type": "code",
      "execution_count": null,
      "metadata": {
        "id": "Di0imaf9-VJm",
        "outputId": "74c6839d-8354-483f-9572-d0f6272e89c1"
      },
      "outputs": [
        {
          "name": "stdout",
          "output_type": "stream",
          "text": [
            "Epoch 1/50\n",
            "596/596 [==============================] - 37s 55ms/step - loss: 0.6192 - auc: 0.7128 - val_loss: 0.5644 - val_auc: 0.7812 - lr: 0.0010\n",
            "Epoch 2/50\n",
            "596/596 [==============================] - 32s 54ms/step - loss: 0.5419 - auc: 0.8028 - val_loss: 0.5316 - val_auc: 0.8188 - lr: 0.0010\n",
            "Epoch 3/50\n",
            "596/596 [==============================] - 31s 53ms/step - loss: 0.5026 - auc: 0.8353 - val_loss: 0.5897 - val_auc: 0.8235 - lr: 0.0010\n",
            "Epoch 4/50\n",
            "596/596 [==============================] - 31s 52ms/step - loss: 0.4597 - auc: 0.8654 - val_loss: 0.4263 - val_auc: 0.8873 - lr: 0.0010\n",
            "Epoch 5/50\n",
            "596/596 [==============================] - 31s 52ms/step - loss: 0.3988 - auc: 0.9006 - val_loss: 0.3842 - val_auc: 0.9134 - lr: 0.0010\n",
            "Epoch 6/50\n",
            "596/596 [==============================] - 30s 50ms/step - loss: 0.3534 - auc: 0.9217 - val_loss: 0.3400 - val_auc: 0.9273 - lr: 0.0010\n",
            "Epoch 7/50\n",
            "596/596 [==============================] - 30s 50ms/step - loss: 0.3159 - auc: 0.9365 - val_loss: 0.3119 - val_auc: 0.9389 - lr: 0.0010\n",
            "Epoch 8/50\n",
            "596/596 [==============================] - 30s 50ms/step - loss: 0.2872 - auc: 0.9466 - val_loss: 0.2713 - val_auc: 0.9511 - lr: 0.0010\n",
            "Epoch 9/50\n",
            "596/596 [==============================] - 30s 51ms/step - loss: 0.2646 - auc: 0.9534 - val_loss: 0.2514 - val_auc: 0.9575 - lr: 0.0010\n",
            "Epoch 10/50\n",
            "596/596 [==============================] - 30s 50ms/step - loss: 0.2451 - auc: 0.9594 - val_loss: 0.2796 - val_auc: 0.9499 - lr: 0.0010\n",
            "Epoch 11/50\n",
            "596/596 [==============================] - 30s 50ms/step - loss: 0.2278 - auc: 0.9643 - val_loss: 0.2455 - val_auc: 0.9597 - lr: 0.0010\n",
            "Epoch 12/50\n",
            "596/596 [==============================] - 30s 51ms/step - loss: 0.2168 - auc: 0.9668 - val_loss: 0.2277 - val_auc: 0.9632 - lr: 0.0010\n",
            "Epoch 13/50\n",
            "596/596 [==============================] - 30s 50ms/step - loss: 0.2080 - auc: 0.9691 - val_loss: 0.2286 - val_auc: 0.9679 - lr: 0.0010\n",
            "Epoch 14/50\n",
            "596/596 [==============================] - 30s 50ms/step - loss: 0.1909 - auc: 0.9725 - val_loss: 0.2270 - val_auc: 0.9635 - lr: 0.0010\n",
            "Epoch 15/50\n",
            "596/596 [==============================] - 30s 50ms/step - loss: 0.1885 - auc: 0.9740 - val_loss: 0.1925 - val_auc: 0.9718 - lr: 0.0010\n",
            "Epoch 16/50\n",
            "596/596 [==============================] - 30s 51ms/step - loss: 0.1662 - auc: 0.9784 - val_loss: 0.1845 - val_auc: 0.9759 - lr: 0.0010\n",
            "Epoch 17/50\n",
            "596/596 [==============================] - 30s 51ms/step - loss: 0.1608 - auc: 0.9793 - val_loss: 0.1806 - val_auc: 0.9736 - lr: 0.0010\n",
            "Epoch 18/50\n",
            "596/596 [==============================] - 30s 50ms/step - loss: 0.1564 - auc: 0.9800 - val_loss: 0.1586 - val_auc: 0.9789 - lr: 0.0010\n",
            "Epoch 19/50\n",
            "596/596 [==============================] - 30s 50ms/step - loss: 0.1445 - auc: 0.9820 - val_loss: 0.1522 - val_auc: 0.9814 - lr: 0.0010\n",
            "Epoch 20/50\n",
            "596/596 [==============================] - 30s 51ms/step - loss: 0.1429 - auc: 0.9826 - val_loss: 0.1755 - val_auc: 0.9755 - lr: 0.0010\n",
            "Epoch 21/50\n",
            "595/596 [============================>.] - ETA: 0s - loss: 0.1385 - auc: 0.9835\n",
            "Epoch 21: ReduceLROnPlateau reducing learning rate to 0.00020000000949949026.\n",
            "596/596 [==============================] - 30s 51ms/step - loss: 0.1385 - auc: 0.9835 - val_loss: 0.1716 - val_auc: 0.9783 - lr: 0.0010\n",
            "Epoch 22/50\n",
            "596/596 [==============================] - 30s 50ms/step - loss: 0.1001 - auc: 0.9896 - val_loss: 0.1055 - val_auc: 0.9875 - lr: 2.0000e-04\n",
            "Epoch 23/50\n",
            "596/596 [==============================] - 30s 50ms/step - loss: 0.0847 - auc: 0.9913 - val_loss: 0.1115 - val_auc: 0.9868 - lr: 2.0000e-04\n",
            "Epoch 24/50\n",
            "596/596 [==============================] - 30s 50ms/step - loss: 0.0779 - auc: 0.9923 - val_loss: 0.1033 - val_auc: 0.9877 - lr: 2.0000e-04\n",
            "Epoch 25/50\n",
            "596/596 [==============================] - 30s 51ms/step - loss: 0.0772 - auc: 0.9926 - val_loss: 0.1012 - val_auc: 0.9886 - lr: 2.0000e-04\n",
            "Epoch 26/50\n",
            "596/596 [==============================] - 30s 50ms/step - loss: 0.0730 - auc: 0.9928 - val_loss: 0.0979 - val_auc: 0.9887 - lr: 2.0000e-04\n",
            "Epoch 27/50\n",
            "596/596 [==============================] - 30s 50ms/step - loss: 0.0689 - auc: 0.9934 - val_loss: 0.0910 - val_auc: 0.9897 - lr: 2.0000e-04\n",
            "Epoch 28/50\n",
            "596/596 [==============================] - 30s 51ms/step - loss: 0.0686 - auc: 0.9938 - val_loss: 0.0901 - val_auc: 0.9893 - lr: 2.0000e-04\n",
            "Epoch 29/50\n",
            "596/596 [==============================] - 30s 51ms/step - loss: 0.0650 - auc: 0.9941 - val_loss: 0.0901 - val_auc: 0.9904 - lr: 2.0000e-04\n",
            "Epoch 30/50\n",
            "596/596 [==============================] - ETA: 0s - loss: 0.0623 - auc: 0.9945\n",
            "Epoch 30: ReduceLROnPlateau reducing learning rate to 5e-05.\n",
            "596/596 [==============================] - 30s 51ms/step - loss: 0.0623 - auc: 0.9945 - val_loss: 0.0934 - val_auc: 0.9902 - lr: 2.0000e-04\n",
            "Epoch 31/50\n",
            "596/596 [==============================] - 30s 50ms/step - loss: 0.0582 - auc: 0.9949 - val_loss: 0.0851 - val_auc: 0.9908 - lr: 5.0000e-05\n",
            "Epoch 32/50\n",
            "596/596 [==============================] - 30s 51ms/step - loss: 0.0546 - auc: 0.9954 - val_loss: 0.0898 - val_auc: 0.9903 - lr: 5.0000e-05\n",
            "Epoch 33/50\n",
            "596/596 [==============================] - 30s 50ms/step - loss: 0.0526 - auc: 0.9956 - val_loss: 0.0846 - val_auc: 0.9909 - lr: 5.0000e-05\n",
            "Epoch 34/50\n",
            "596/596 [==============================] - 30s 50ms/step - loss: 0.0518 - auc: 0.9957 - val_loss: 0.0940 - val_auc: 0.9898 - lr: 5.0000e-05\n",
            "Epoch 35/50\n",
            "596/596 [==============================] - 30s 50ms/step - loss: 0.0519 - auc: 0.9957 - val_loss: 0.0851 - val_auc: 0.9905 - lr: 5.0000e-05\n",
            "Epoch 36/50\n",
            "596/596 [==============================] - 30s 51ms/step - loss: 0.0514 - auc: 0.9957 - val_loss: 0.0829 - val_auc: 0.9909 - lr: 5.0000e-05\n",
            "Epoch 37/50\n",
            "596/596 [==============================] - 30s 50ms/step - loss: 0.0509 - auc: 0.9958 - val_loss: 0.0837 - val_auc: 0.9919 - lr: 5.0000e-05\n",
            "Epoch 38/50\n",
            "596/596 [==============================] - 30s 50ms/step - loss: 0.0504 - auc: 0.9959 - val_loss: 0.0828 - val_auc: 0.9909 - lr: 5.0000e-05\n",
            "Epoch 39/50\n",
            "596/596 [==============================] - 30s 50ms/step - loss: 0.0504 - auc: 0.9959 - val_loss: 0.0851 - val_auc: 0.9908 - lr: 5.0000e-05\n",
            "Epoch 40/50\n",
            "596/596 [==============================] - 30s 50ms/step - loss: 0.0494 - auc: 0.9961 - val_loss: 0.0848 - val_auc: 0.9917 - lr: 5.0000e-05\n",
            "Epoch 41/50\n",
            "596/596 [==============================] - 30s 51ms/step - loss: 0.0487 - auc: 0.9961 - val_loss: 0.0804 - val_auc: 0.9909 - lr: 5.0000e-05\n",
            "Epoch 42/50\n",
            "596/596 [==============================] - 30s 50ms/step - loss: 0.0463 - auc: 0.9966 - val_loss: 0.0840 - val_auc: 0.9915 - lr: 5.0000e-05\n",
            "Epoch 43/50\n",
            "596/596 [==============================] - 30s 50ms/step - loss: 0.0468 - auc: 0.9964 - val_loss: 0.0842 - val_auc: 0.9913 - lr: 5.0000e-05\n",
            "Epoch 44/50\n",
            "596/596 [==============================] - 30s 50ms/step - loss: 0.0474 - auc: 0.9963 - val_loss: 0.0795 - val_auc: 0.9921 - lr: 5.0000e-05\n",
            "Epoch 45/50\n",
            "596/596 [==============================] - 30s 51ms/step - loss: 0.0449 - auc: 0.9966 - val_loss: 0.0916 - val_auc: 0.9896 - lr: 5.0000e-05\n",
            "Epoch 46/50\n",
            "596/596 [==============================] - 30s 50ms/step - loss: 0.0463 - auc: 0.9966 - val_loss: 0.0799 - val_auc: 0.9916 - lr: 5.0000e-05\n",
            "Epoch 47/50\n",
            "596/596 [==============================] - 30s 50ms/step - loss: 0.0459 - auc: 0.9965 - val_loss: 0.0841 - val_auc: 0.9907 - lr: 5.0000e-05\n",
            "Epoch 48/50\n",
            "596/596 [==============================] - 30s 50ms/step - loss: 0.0445 - auc: 0.9967 - val_loss: 0.0777 - val_auc: 0.9926 - lr: 5.0000e-05\n",
            "Epoch 49/50\n",
            "596/596 [==============================] - 30s 51ms/step - loss: 0.0436 - auc: 0.9968 - val_loss: 0.0756 - val_auc: 0.9923 - lr: 5.0000e-05\n",
            "Epoch 50/50\n",
            "596/596 [==============================] - 30s 50ms/step - loss: 0.0450 - auc: 0.9967 - val_loss: 0.0861 - val_auc: 0.9903 - lr: 5.0000e-05\n"
          ]
        }
      ],
      "source": [
        "batch_size = 64\n",
        "num_batchs = math.ceil(len(training_set4) / batch_size)\n",
        "num_batchs_validation = math.ceil(len(validation_set4) / batch_size)\n",
        "\n",
        "early_stop = EarlyStopping(monitor='val_loss', patience=5, verbose=1,restore_best_weights=True)\n",
        "reduce_lr = ReduceLROnPlateau(monitor='val_loss', factor=0.2, patience=2, verbose=1, min_lr=0.00005)\n",
        "hist = model8.fit(\n",
        "    gen_batch(\n",
        "        training_set4, batch_size=batch_size, repeat=True\n",
        "    ),\n",
        "    steps_per_epoch=num_batchs,\n",
        "    epochs=50,\n",
        "    validation_data=gen_batch(\n",
        "        validation_set4, batch_size=64, repeat=True\n",
        "    ),\n",
        "    validation_steps=num_batchs_validation,\n",
        "    verbose=1,callbacks=[early_stop, reduce_lr]\n",
        ")\n"
      ]
    },
    {
      "cell_type": "code",
      "execution_count": null,
      "metadata": {
        "id": "bn1zzs12-VJm",
        "outputId": "aa6d6341-bb16-452d-c281-bd2d4728ec0b"
      },
      "outputs": [
        {
          "name": "stdout",
          "output_type": "stream",
          "text": [
            "193/193 [==============================] - 3s 13ms/step\n"
          ]
        }
      ],
      "source": [
        "#make a prediction\n",
        "y_pred_8 = model8.predict(\n",
        "    gen_batch(testing_set, batch_size=64, shuffle=False)\n",
        ")\n",
        "y_pred_8 = np.reshape(y_pred_8, -1)\n",
        "submission = pd.DataFrame({'label':y_pred_8})\n",
        "submission.index.name = 'id'\n",
        "submission.to_csv('trial_9_film.csv')"
      ]
    },
    {
      "cell_type": "markdown",
      "metadata": {
        "id": "h8U7buKs-VJm"
      },
      "source": [
        "It got a score of 88.37% on Kaggle and that is by far the best accuracy I Got, but we will try onc last Trial before call an End"
      ]
    },
    {
      "cell_type": "markdown",
      "metadata": {
        "id": "lZ1ZeaKN-VJn"
      },
      "source": [
        "## Trial 10 Using RandomOverSample to fix the Data Imbalance And Using ggnn Hyperparameters and Changing some Other Hyperparameters"
      ]
    },
    {
      "cell_type": "code",
      "execution_count": null,
      "metadata": {
        "id": "uGXzVuVM-VJn",
        "outputId": "e2ba5d01-746a-4b23-f182-63359624d7f1"
      },
      "outputs": [
        {
          "name": "stdout",
          "output_type": "stream",
          "text": [
            "gnn_out KerasTensor(type_spec=TensorSpec(shape=(None, 128), dtype=tf.float32, name=None), name='gnn_6/StatefulPartitionedCall:0', description=\"created by layer 'gnn_6'\")\n",
            "Model: \"model_6\"\n",
            "__________________________________________________________________________________________________\n",
            " Layer (type)                   Output Shape         Param #     Connected to                     \n",
            "==================================================================================================\n",
            " input_21 (InputLayer)          [(None,)]            0           []                               \n",
            "                                                                                                  \n",
            " input_19 (InputLayer)          [(None,)]            0           []                               \n",
            "                                                                                                  \n",
            " tf.math.reduce_max_6 (TFOpLamb  ()                  0           ['input_21[0][0]']               \n",
            " da)                                                                                              \n",
            "                                                                                                  \n",
            " embedding_6 (Embedding)        (None, 80)           40000       ['input_19[0][0]']               \n",
            "                                                                                                  \n",
            " input_20 (InputLayer)          [(None, 2)]          0           []                               \n",
            "                                                                                                  \n",
            " tf.__operators__.add_6 (TFOpLa  ()                  0           ['tf.math.reduce_max_6[0][0]']   \n",
            " mbda)                                                                                            \n",
            "                                                                                                  \n",
            " gnn_6 (GNN)                    (None, 128)          1049600     ['embedding_6[0][0]',            \n",
            "                                                                  'input_20[0][0]',               \n",
            "                                                                  'input_21[0][0]',               \n",
            "                                                                  'tf.__operators__.add_6[0][0]'] \n",
            "                                                                                                  \n",
            " tf.math.segment_mean_6 (TFOpLa  (None, 128)         0           ['gnn_6[0][0]',                  \n",
            " mbda)                                                            'input_21[0][0]']               \n",
            "                                                                                                  \n",
            " dense_18 (Dense)               (None, 128)          16512       ['tf.math.segment_mean_6[0][0]'] \n",
            "                                                                                                  \n",
            " dense_19 (Dense)               (None, 64)           8256        ['dense_18[0][0]']               \n",
            "                                                                                                  \n",
            " dense_20 (Dense)               (None, 1)            65          ['dense_19[0][0]']               \n",
            "                                                                                                  \n",
            "==================================================================================================\n",
            "Total params: 1,114,433\n",
            "Trainable params: 1,114,433\n",
            "Non-trainable params: 0\n",
            "__________________________________________________________________________________________________\n"
          ]
        }
      ],
      "source": [
        "data = keras.Input(batch_shape=(None,))\n",
        "\n",
        "edge = keras.Input(batch_shape=(None, 2), dtype=tf.int32)\n",
        "node2graph = keras.Input(batch_shape=(None,), dtype=tf.int32)\n",
        "\n",
        "embeded = Embedding(tokenizer3.num_words, 80)(data)\n",
        "\n",
        "num_graph = tf.reduce_max(node2graph)+1  \n",
        "\n",
        "gnn_input = GNNInput(\n",
        "    node_features=embeded,\n",
        "    adjacency_lists=(edge,),\n",
        "    node_to_graph_map=node2graph, \n",
        "    num_graphs=num_graph,\n",
        ")\n",
        "\n",
        "params = GNN.get_default_hyperparameters()\n",
        "params[\"message_calculation_class\"] = 'GGNN'\n",
        "params[\"hidden_dim\"] = 128\n",
        "params[\"num_layers\"] = 6\n",
        "\n",
        "\n",
        "gnn_layer = GNN(params) \n",
        "\n",
        "gnn_out = gnn_layer(gnn_input)\n",
        "\n",
        "print('gnn_out', gnn_out)           \n",
        "\n",
        "avg = segment_mean(\n",
        "    data=gnn_out,\n",
        "    segment_ids=node2graph\n",
        "    )\n",
        "\n",
        "l1 = Dense(128,activation='relu')(avg)\n",
        "l2 = Dense(64,activation='relu')(l1)\n",
        "pred = Dense(1, activation='sigmoid')(l2)\n",
        "\n",
        "\n",
        "model9 = Model(\n",
        "    inputs={\n",
        "        'data': data, \n",
        "        'edges': edge,\n",
        "        'node2grah': node2graph,\n",
        "    },\n",
        "    outputs=pred\n",
        ")\n",
        "model9.compile(\n",
        "    optimizer = 'adam', \n",
        "    loss='BinaryCrossentropy',\n",
        "    metrics=['AUC']\n",
        ")\n",
        "model9.summary()"
      ]
    },
    {
      "cell_type": "code",
      "execution_count": null,
      "metadata": {
        "scrolled": true,
        "id": "0YmvnQNb-VJn",
        "outputId": "40fcf852-50e0-43df-b173-fa0fb842a9ca"
      },
      "outputs": [
        {
          "name": "stdout",
          "output_type": "stream",
          "text": [
            "Epoch 1/50\n",
            "596/596 [==============================] - 218s 359ms/step - loss: 0.6268 - auc: 0.7005 - val_loss: 0.5874 - val_auc: 0.7582 - lr: 0.0010\n",
            "Epoch 2/50\n",
            "596/596 [==============================] - 212s 356ms/step - loss: 0.5363 - auc: 0.8073 - val_loss: 0.5010 - val_auc: 0.8416 - lr: 0.0010\n",
            "Epoch 3/50\n",
            "596/596 [==============================] - 214s 358ms/step - loss: 0.4762 - auc: 0.8535 - val_loss: 0.4662 - val_auc: 0.8599 - lr: 0.0010\n",
            "Epoch 4/50\n",
            "596/596 [==============================] - 213s 357ms/step - loss: 0.4393 - auc: 0.8775 - val_loss: 0.4173 - val_auc: 0.8906 - lr: 0.0010\n",
            "Epoch 5/50\n",
            "596/596 [==============================] - 213s 358ms/step - loss: 0.3964 - auc: 0.9015 - val_loss: 0.4298 - val_auc: 0.8968 - lr: 0.0010\n",
            "Epoch 6/50\n",
            "596/596 [==============================] - 212s 355ms/step - loss: 0.3532 - auc: 0.9223 - val_loss: 0.3679 - val_auc: 0.9238 - lr: 0.0010\n",
            "Epoch 7/50\n",
            "596/596 [==============================] - 212s 356ms/step - loss: 0.3162 - auc: 0.9378 - val_loss: 0.3107 - val_auc: 0.9420 - lr: 0.0010\n",
            "Epoch 8/50\n",
            "596/596 [==============================] - 212s 356ms/step - loss: 0.2836 - auc: 0.9494 - val_loss: 0.3118 - val_auc: 0.9465 - lr: 0.0010\n",
            "Epoch 9/50\n",
            "596/596 [==============================] - 212s 356ms/step - loss: 0.2550 - auc: 0.9583 - val_loss: 0.2510 - val_auc: 0.9593 - lr: 0.0010\n",
            "Epoch 10/50\n",
            "596/596 [==============================] - 216s 362ms/step - loss: 0.2180 - auc: 0.9685 - val_loss: 0.2200 - val_auc: 0.9688 - lr: 0.0010\n",
            "Epoch 11/50\n",
            "596/596 [==============================] - 221s 371ms/step - loss: 0.1963 - auc: 0.9739 - val_loss: 0.2238 - val_auc: 0.9709 - lr: 0.0010\n",
            "Epoch 12/50\n",
            "596/596 [==============================] - 218s 365ms/step - loss: 0.1810 - auc: 0.9769 - val_loss: 0.1935 - val_auc: 0.9752 - lr: 0.0010\n",
            "Epoch 13/50\n",
            "596/596 [==============================] - 219s 368ms/step - loss: 0.1614 - auc: 0.9809 - val_loss: 0.1657 - val_auc: 0.9804 - lr: 0.0010\n",
            "Epoch 14/50\n",
            "596/596 [==============================] - 219s 368ms/step - loss: 0.1487 - auc: 0.9834 - val_loss: 0.1714 - val_auc: 0.9796 - lr: 0.0010\n",
            "Epoch 15/50\n",
            "596/596 [==============================] - 218s 366ms/step - loss: 0.1313 - auc: 0.9865 - val_loss: 0.1521 - val_auc: 0.9814 - lr: 0.0010\n",
            "Epoch 16/50\n",
            "596/596 [==============================] - 218s 366ms/step - loss: 0.1199 - auc: 0.9883 - val_loss: 0.1380 - val_auc: 0.9862 - lr: 0.0010\n",
            "Epoch 17/50\n",
            "596/596 [==============================] - 214s 359ms/step - loss: 0.1200 - auc: 0.9884 - val_loss: 0.1628 - val_auc: 0.9813 - lr: 0.0010\n",
            "Epoch 18/50\n",
            "596/596 [==============================] - 215s 361ms/step - loss: 0.1249 - auc: 0.9875 - val_loss: 0.1812 - val_auc: 0.9767 - lr: 0.0010\n",
            "Epoch 19/50\n",
            "596/596 [==============================] - 215s 360ms/step - loss: 0.1089 - auc: 0.9901 - val_loss: 0.1215 - val_auc: 0.9870 - lr: 0.0010\n",
            "Epoch 20/50\n",
            "596/596 [==============================] - 214s 358ms/step - loss: 0.1037 - auc: 0.9910 - val_loss: 0.1334 - val_auc: 0.9859 - lr: 0.0010\n",
            "Epoch 21/50\n",
            "596/596 [==============================] - 216s 363ms/step - loss: 0.1038 - auc: 0.9907 - val_loss: 0.1340 - val_auc: 0.9865 - lr: 0.0010\n",
            "Epoch 22/50\n",
            "595/596 [============================>.] - ETA: 0s - loss: 0.0961 - auc: 0.9917\n",
            "Epoch 22: ReduceLROnPlateau reducing learning rate to 0.00020000000949949026.\n",
            "596/596 [==============================] - 217s 364ms/step - loss: 0.0961 - auc: 0.9917 - val_loss: 0.1370 - val_auc: 0.9861 - lr: 0.0010\n",
            "Epoch 23/50\n",
            "596/596 [==============================] - 217s 364ms/step - loss: 0.0582 - auc: 0.9960 - val_loss: 0.0837 - val_auc: 0.9925 - lr: 2.0000e-04\n",
            "Epoch 24/50\n",
            "596/596 [==============================] - 221s 371ms/step - loss: 0.0450 - auc: 0.9971 - val_loss: 0.0819 - val_auc: 0.9924 - lr: 2.0000e-04\n",
            "Epoch 25/50\n",
            "596/596 [==============================] - 215s 361ms/step - loss: 0.0393 - auc: 0.9978 - val_loss: 0.0792 - val_auc: 0.9927 - lr: 2.0000e-04\n",
            "Epoch 26/50\n",
            "596/596 [==============================] - 215s 361ms/step - loss: 0.0401 - auc: 0.9976 - val_loss: 0.0731 - val_auc: 0.9937 - lr: 2.0000e-04\n",
            "Epoch 27/50\n",
            "596/596 [==============================] - 216s 362ms/step - loss: 0.0334 - auc: 0.9983 - val_loss: 0.0656 - val_auc: 0.9938 - lr: 2.0000e-04\n",
            "Epoch 28/50\n",
            "596/596 [==============================] - 216s 362ms/step - loss: 0.0345 - auc: 0.9983 - val_loss: 0.0729 - val_auc: 0.9934 - lr: 2.0000e-04\n",
            "Epoch 29/50\n",
            "596/596 [==============================] - 214s 359ms/step - loss: 0.0306 - auc: 0.9985 - val_loss: 0.0737 - val_auc: 0.9931 - lr: 2.0000e-04\n",
            "Epoch 30/50\n",
            "595/596 [============================>.] - ETA: 0s - loss: 0.0314 - auc: 0.9985\n",
            "Epoch 30: ReduceLROnPlateau reducing learning rate to 5e-05.\n",
            "596/596 [==============================] - 215s 361ms/step - loss: 0.0315 - auc: 0.9985 - val_loss: 0.0719 - val_auc: 0.9936 - lr: 2.0000e-04\n",
            "Epoch 31/50\n",
            "596/596 [==============================] - 219s 368ms/step - loss: 0.0254 - auc: 0.9990 - val_loss: 0.0702 - val_auc: 0.9931 - lr: 5.0000e-05\n",
            "Epoch 32/50\n",
            "595/596 [============================>.] - ETA: 0s - loss: 0.0237 - auc: 0.9991Restoring model weights from the end of the best epoch: 27.\n",
            "596/596 [==============================] - 215s 360ms/step - loss: 0.0237 - auc: 0.9991 - val_loss: 0.0738 - val_auc: 0.9928 - lr: 5.0000e-05\n",
            "Epoch 32: early stopping\n"
          ]
        }
      ],
      "source": [
        "batch_size = 64\n",
        "num_batchs = math.ceil(len(training_set4) / batch_size)\n",
        "num_batchs_validation = math.ceil(len(validation_set4) / batch_size)\n",
        "\n",
        "early_stop = EarlyStopping(monitor='val_loss', patience=5, verbose=1,restore_best_weights=True)\n",
        "reduce_lr = ReduceLROnPlateau(monitor='val_loss', factor=0.2, patience=3, verbose=1, min_lr=0.00005)\n",
        "hist = model9.fit(\n",
        "    gen_batch(\n",
        "        training_set4, batch_size=batch_size, repeat=True\n",
        "    ),\n",
        "    steps_per_epoch=num_batchs,\n",
        "    epochs=50,\n",
        "    validation_data=gen_batch(\n",
        "        validation_set4, batch_size=64, repeat=True\n",
        "    ),\n",
        "    validation_steps=num_batchs_validation,\n",
        "    verbose=1,callbacks=[early_stop, reduce_lr]\n",
        ")\n"
      ]
    },
    {
      "cell_type": "code",
      "execution_count": null,
      "metadata": {
        "id": "GTU6h2WM-VJn",
        "outputId": "5ad371f1-0a97-4cbf-e42b-a22b6a93b8e9"
      },
      "outputs": [
        {
          "name": "stdout",
          "output_type": "stream",
          "text": [
            "193/193 [==============================] - 20s 101ms/step\n"
          ]
        }
      ],
      "source": [
        "#make a prediction\n",
        "y_pred_9 = model9.predict(\n",
        "    gen_batch(testing_set, batch_size=64, shuffle=False)\n",
        ")\n",
        "y_pred_9 = np.reshape(y_pred_9, -1)"
      ]
    },
    {
      "cell_type": "code",
      "execution_count": null,
      "metadata": {
        "id": "GkL8mcMt-VJn"
      },
      "outputs": [],
      "source": [
        "submission = pd.DataFrame({'label':y_pred_9})\n",
        "submission.index.name = 'id'\n",
        "submission.to_csv('trial_10_GGNNhyper.csv')"
      ]
    },
    {
      "cell_type": "markdown",
      "metadata": {
        "id": "_7zOufq5-VJn"
      },
      "source": [
        "When I Saw the Result on Kaggle it is obvious that it overfitted the data so the generalization Error was large"
      ]
    },
    {
      "cell_type": "markdown",
      "metadata": {
        "id": "RgbuWoA6-VJn"
      },
      "source": [
        "# **Result**"
      ]
    },
    {
      "cell_type": "markdown",
      "metadata": {
        "id": "-7rRUw7s-VJn"
      },
      "source": [
        "After Doing the 10 Trials with Different Hyperparameters The Best one I Got with low Generalization Error was The 9th Trial Using GNN-FiLM with Test Accuracy = 88.37% And maybe I Could Get better result with fine tunning more but we will keep it for now "
      ]
    }
  ],
  "metadata": {
    "colab": {
      "collapsed_sections": [
        "nsEj39ikmhxJ",
        "Sudgalm0ni5u",
        "gCpYUw7KsCXV",
        "ju9rslKkunTm",
        "OmYsFtefvWvE",
        "W30yR6DBujwV",
        "iF9avmoRwY1q",
        "kbxr60pV-VJg",
        "xglDXdST-VJh",
        "fh04d2JO-VJj",
        "8BgL3DT--VJk",
        "fhtMPp7--VJl",
        "dp_cttii-VJl",
        "dfGxCujl-VJm",
        "lZ1ZeaKN-VJn",
        "RgbuWoA6-VJn"
      ],
      "provenance": []
    },
    "kernelspec": {
      "display_name": "Python 3 (ipykernel)",
      "language": "python",
      "name": "python3"
    },
    "language_info": {
      "codemirror_mode": {
        "name": "ipython",
        "version": 3
      },
      "file_extension": ".py",
      "mimetype": "text/x-python",
      "name": "python",
      "nbconvert_exporter": "python",
      "pygments_lexer": "ipython3",
      "version": "3.9.7"
    },
    "widgets": {
      "application/vnd.jupyter.widget-state+json": {
        "0327c0dad8fc4b9aa5a93993c0363319": {
          "model_module": "@jupyter-widgets/base",
          "model_module_version": "1.2.0",
          "model_name": "LayoutModel",
          "state": {
            "_model_module": "@jupyter-widgets/base",
            "_model_module_version": "1.2.0",
            "_model_name": "LayoutModel",
            "_view_count": null,
            "_view_module": "@jupyter-widgets/base",
            "_view_module_version": "1.2.0",
            "_view_name": "LayoutView",
            "align_content": null,
            "align_items": null,
            "align_self": null,
            "border": null,
            "bottom": null,
            "display": null,
            "flex": null,
            "flex_flow": null,
            "grid_area": null,
            "grid_auto_columns": null,
            "grid_auto_flow": null,
            "grid_auto_rows": null,
            "grid_column": null,
            "grid_gap": null,
            "grid_row": null,
            "grid_template_areas": null,
            "grid_template_columns": null,
            "grid_template_rows": null,
            "height": null,
            "justify_content": null,
            "justify_items": null,
            "left": null,
            "margin": null,
            "max_height": null,
            "max_width": null,
            "min_height": null,
            "min_width": null,
            "object_fit": null,
            "object_position": null,
            "order": null,
            "overflow": null,
            "overflow_x": null,
            "overflow_y": null,
            "padding": null,
            "right": null,
            "top": null,
            "visibility": null,
            "width": null
          }
        },
        "0beb302c2b9746329f7ec3a98926ba82": {
          "model_module": "@jupyter-widgets/base",
          "model_module_version": "1.2.0",
          "model_name": "LayoutModel",
          "state": {
            "_model_module": "@jupyter-widgets/base",
            "_model_module_version": "1.2.0",
            "_model_name": "LayoutModel",
            "_view_count": null,
            "_view_module": "@jupyter-widgets/base",
            "_view_module_version": "1.2.0",
            "_view_name": "LayoutView",
            "align_content": null,
            "align_items": null,
            "align_self": null,
            "border": null,
            "bottom": null,
            "display": null,
            "flex": null,
            "flex_flow": null,
            "grid_area": null,
            "grid_auto_columns": null,
            "grid_auto_flow": null,
            "grid_auto_rows": null,
            "grid_column": null,
            "grid_gap": null,
            "grid_row": null,
            "grid_template_areas": null,
            "grid_template_columns": null,
            "grid_template_rows": null,
            "height": null,
            "justify_content": null,
            "justify_items": null,
            "left": null,
            "margin": null,
            "max_height": null,
            "max_width": null,
            "min_height": null,
            "min_width": null,
            "object_fit": null,
            "object_position": null,
            "order": null,
            "overflow": null,
            "overflow_x": null,
            "overflow_y": null,
            "padding": null,
            "right": null,
            "top": null,
            "visibility": null,
            "width": null
          }
        },
        "0f1fa67b224e402d97557584d3268080": {
          "model_module": "@jupyter-widgets/controls",
          "model_module_version": "1.5.0",
          "model_name": "DescriptionStyleModel",
          "state": {
            "_model_module": "@jupyter-widgets/controls",
            "_model_module_version": "1.5.0",
            "_model_name": "DescriptionStyleModel",
            "_view_count": null,
            "_view_module": "@jupyter-widgets/base",
            "_view_module_version": "1.2.0",
            "_view_name": "StyleView",
            "description_width": ""
          }
        },
        "18c2b9e8f0f748998720e71ca7845fcc": {
          "model_module": "@jupyter-widgets/controls",
          "model_module_version": "1.5.0",
          "model_name": "DescriptionStyleModel",
          "state": {
            "_model_module": "@jupyter-widgets/controls",
            "_model_module_version": "1.5.0",
            "_model_name": "DescriptionStyleModel",
            "_view_count": null,
            "_view_module": "@jupyter-widgets/base",
            "_view_module_version": "1.2.0",
            "_view_name": "StyleView",
            "description_width": ""
          }
        },
        "4100bdce902f40ecb70c6ffa920ccb27": {
          "model_module": "@jupyter-widgets/controls",
          "model_module_version": "1.5.0",
          "model_name": "ProgressStyleModel",
          "state": {
            "_model_module": "@jupyter-widgets/controls",
            "_model_module_version": "1.5.0",
            "_model_name": "ProgressStyleModel",
            "_view_count": null,
            "_view_module": "@jupyter-widgets/base",
            "_view_module_version": "1.2.0",
            "_view_name": "StyleView",
            "bar_color": null,
            "description_width": ""
          }
        },
        "58358e0c85a149cbaa5448717c64b4b3": {
          "model_module": "@jupyter-widgets/controls",
          "model_module_version": "1.5.0",
          "model_name": "HTMLModel",
          "state": {
            "_dom_classes": [],
            "_model_module": "@jupyter-widgets/controls",
            "_model_module_version": "1.5.0",
            "_model_name": "HTMLModel",
            "_view_count": null,
            "_view_module": "@jupyter-widgets/controls",
            "_view_module_version": "1.5.0",
            "_view_name": "HTMLView",
            "description": "",
            "description_tooltip": null,
            "layout": "IPY_MODEL_0327c0dad8fc4b9aa5a93993c0363319",
            "placeholder": "​",
            "style": "IPY_MODEL_efd45c231402417a8f98c852e3bc38c6",
            "value": " 25024/25024 [00:02&lt;00:00, 10857.89it/s]"
          }
        },
        "5b89e71fc8d043a392b61ea493b79b44": {
          "model_module": "@jupyter-widgets/controls",
          "model_module_version": "1.5.0",
          "model_name": "FloatProgressModel",
          "state": {
            "_dom_classes": [],
            "_model_module": "@jupyter-widgets/controls",
            "_model_module_version": "1.5.0",
            "_model_name": "FloatProgressModel",
            "_view_count": null,
            "_view_module": "@jupyter-widgets/controls",
            "_view_module_version": "1.5.0",
            "_view_name": "ProgressView",
            "bar_style": "success",
            "description": "",
            "description_tooltip": null,
            "layout": "IPY_MODEL_0beb302c2b9746329f7ec3a98926ba82",
            "max": 12326,
            "min": 0,
            "orientation": "horizontal",
            "style": "IPY_MODEL_4100bdce902f40ecb70c6ffa920ccb27",
            "value": 12326
          }
        },
        "5fb4cec0034d4c1db2e0e84b0ac62ee4": {
          "model_module": "@jupyter-widgets/base",
          "model_module_version": "1.2.0",
          "model_name": "LayoutModel",
          "state": {
            "_model_module": "@jupyter-widgets/base",
            "_model_module_version": "1.2.0",
            "_model_name": "LayoutModel",
            "_view_count": null,
            "_view_module": "@jupyter-widgets/base",
            "_view_module_version": "1.2.0",
            "_view_name": "LayoutView",
            "align_content": null,
            "align_items": null,
            "align_self": null,
            "border": null,
            "bottom": null,
            "display": null,
            "flex": null,
            "flex_flow": null,
            "grid_area": null,
            "grid_auto_columns": null,
            "grid_auto_flow": null,
            "grid_auto_rows": null,
            "grid_column": null,
            "grid_gap": null,
            "grid_row": null,
            "grid_template_areas": null,
            "grid_template_columns": null,
            "grid_template_rows": null,
            "height": null,
            "justify_content": null,
            "justify_items": null,
            "left": null,
            "margin": null,
            "max_height": null,
            "max_width": null,
            "min_height": null,
            "min_width": null,
            "object_fit": null,
            "object_position": null,
            "order": null,
            "overflow": null,
            "overflow_x": null,
            "overflow_y": null,
            "padding": null,
            "right": null,
            "top": null,
            "visibility": null,
            "width": null
          }
        },
        "88d83feb7c2640e3915e2a03654e21e9": {
          "model_module": "@jupyter-widgets/base",
          "model_module_version": "1.2.0",
          "model_name": "LayoutModel",
          "state": {
            "_model_module": "@jupyter-widgets/base",
            "_model_module_version": "1.2.0",
            "_model_name": "LayoutModel",
            "_view_count": null,
            "_view_module": "@jupyter-widgets/base",
            "_view_module_version": "1.2.0",
            "_view_name": "LayoutView",
            "align_content": null,
            "align_items": null,
            "align_self": null,
            "border": null,
            "bottom": null,
            "display": null,
            "flex": null,
            "flex_flow": null,
            "grid_area": null,
            "grid_auto_columns": null,
            "grid_auto_flow": null,
            "grid_auto_rows": null,
            "grid_column": null,
            "grid_gap": null,
            "grid_row": null,
            "grid_template_areas": null,
            "grid_template_columns": null,
            "grid_template_rows": null,
            "height": null,
            "justify_content": null,
            "justify_items": null,
            "left": null,
            "margin": null,
            "max_height": null,
            "max_width": null,
            "min_height": null,
            "min_width": null,
            "object_fit": null,
            "object_position": null,
            "order": null,
            "overflow": null,
            "overflow_x": null,
            "overflow_y": null,
            "padding": null,
            "right": null,
            "top": null,
            "visibility": null,
            "width": null
          }
        },
        "8afc8dad8e1942eca6cbd5c253e45464": {
          "model_module": "@jupyter-widgets/base",
          "model_module_version": "1.2.0",
          "model_name": "LayoutModel",
          "state": {
            "_model_module": "@jupyter-widgets/base",
            "_model_module_version": "1.2.0",
            "_model_name": "LayoutModel",
            "_view_count": null,
            "_view_module": "@jupyter-widgets/base",
            "_view_module_version": "1.2.0",
            "_view_name": "LayoutView",
            "align_content": null,
            "align_items": null,
            "align_self": null,
            "border": null,
            "bottom": null,
            "display": null,
            "flex": null,
            "flex_flow": null,
            "grid_area": null,
            "grid_auto_columns": null,
            "grid_auto_flow": null,
            "grid_auto_rows": null,
            "grid_column": null,
            "grid_gap": null,
            "grid_row": null,
            "grid_template_areas": null,
            "grid_template_columns": null,
            "grid_template_rows": null,
            "height": null,
            "justify_content": null,
            "justify_items": null,
            "left": null,
            "margin": null,
            "max_height": null,
            "max_width": null,
            "min_height": null,
            "min_width": null,
            "object_fit": null,
            "object_position": null,
            "order": null,
            "overflow": null,
            "overflow_x": null,
            "overflow_y": null,
            "padding": null,
            "right": null,
            "top": null,
            "visibility": null,
            "width": null
          }
        },
        "8fd947e6cd3c43fcb31678391ecea122": {
          "model_module": "@jupyter-widgets/base",
          "model_module_version": "1.2.0",
          "model_name": "LayoutModel",
          "state": {
            "_model_module": "@jupyter-widgets/base",
            "_model_module_version": "1.2.0",
            "_model_name": "LayoutModel",
            "_view_count": null,
            "_view_module": "@jupyter-widgets/base",
            "_view_module_version": "1.2.0",
            "_view_name": "LayoutView",
            "align_content": null,
            "align_items": null,
            "align_self": null,
            "border": null,
            "bottom": null,
            "display": null,
            "flex": null,
            "flex_flow": null,
            "grid_area": null,
            "grid_auto_columns": null,
            "grid_auto_flow": null,
            "grid_auto_rows": null,
            "grid_column": null,
            "grid_gap": null,
            "grid_row": null,
            "grid_template_areas": null,
            "grid_template_columns": null,
            "grid_template_rows": null,
            "height": null,
            "justify_content": null,
            "justify_items": null,
            "left": null,
            "margin": null,
            "max_height": null,
            "max_width": null,
            "min_height": null,
            "min_width": null,
            "object_fit": null,
            "object_position": null,
            "order": null,
            "overflow": null,
            "overflow_x": null,
            "overflow_y": null,
            "padding": null,
            "right": null,
            "top": null,
            "visibility": null,
            "width": null
          }
        },
        "926dd136cac14f919d3275a48561c8a9": {
          "model_module": "@jupyter-widgets/controls",
          "model_module_version": "1.5.0",
          "model_name": "HBoxModel",
          "state": {
            "_dom_classes": [],
            "_model_module": "@jupyter-widgets/controls",
            "_model_module_version": "1.5.0",
            "_model_name": "HBoxModel",
            "_view_count": null,
            "_view_module": "@jupyter-widgets/controls",
            "_view_module_version": "1.5.0",
            "_view_name": "HBoxView",
            "box_style": "",
            "children": [
              "IPY_MODEL_a4960bfa9f014222b805bde80788b375",
              "IPY_MODEL_5b89e71fc8d043a392b61ea493b79b44",
              "IPY_MODEL_f8683b3a53694c82ace06cab4b5b5e91"
            ],
            "layout": "IPY_MODEL_ee6314ce05c04ee885fd220883124499"
          }
        },
        "a0e40a02cb1a47fb9da41f9b96e679ef": {
          "model_module": "@jupyter-widgets/controls",
          "model_module_version": "1.5.0",
          "model_name": "ProgressStyleModel",
          "state": {
            "_model_module": "@jupyter-widgets/controls",
            "_model_module_version": "1.5.0",
            "_model_name": "ProgressStyleModel",
            "_view_count": null,
            "_view_module": "@jupyter-widgets/base",
            "_view_module_version": "1.2.0",
            "_view_name": "StyleView",
            "bar_color": null,
            "description_width": ""
          }
        },
        "a4960bfa9f014222b805bde80788b375": {
          "model_module": "@jupyter-widgets/controls",
          "model_module_version": "1.5.0",
          "model_name": "HTMLModel",
          "state": {
            "_dom_classes": [],
            "_model_module": "@jupyter-widgets/controls",
            "_model_module_version": "1.5.0",
            "_model_name": "HTMLModel",
            "_view_count": null,
            "_view_module": "@jupyter-widgets/controls",
            "_view_module_version": "1.5.0",
            "_view_name": "HTMLView",
            "description": "",
            "description_tooltip": null,
            "layout": "IPY_MODEL_5fb4cec0034d4c1db2e0e84b0ac62ee4",
            "placeholder": "​",
            "style": "IPY_MODEL_0f1fa67b224e402d97557584d3268080",
            "value": "100%"
          }
        },
        "a5f274eb69c9493eadadd21b60974923": {
          "model_module": "@jupyter-widgets/controls",
          "model_module_version": "1.5.0",
          "model_name": "FloatProgressModel",
          "state": {
            "_dom_classes": [],
            "_model_module": "@jupyter-widgets/controls",
            "_model_module_version": "1.5.0",
            "_model_name": "FloatProgressModel",
            "_view_count": null,
            "_view_module": "@jupyter-widgets/controls",
            "_view_module_version": "1.5.0",
            "_view_name": "ProgressView",
            "bar_style": "success",
            "description": "",
            "description_tooltip": null,
            "layout": "IPY_MODEL_dead3d8ff34e4062bc294dc5bc9125bd",
            "max": 25024,
            "min": 0,
            "orientation": "horizontal",
            "style": "IPY_MODEL_a0e40a02cb1a47fb9da41f9b96e679ef",
            "value": 25024
          }
        },
        "d9bea941346e4c3bb3aab74ee452a751": {
          "model_module": "@jupyter-widgets/controls",
          "model_module_version": "1.5.0",
          "model_name": "HTMLModel",
          "state": {
            "_dom_classes": [],
            "_model_module": "@jupyter-widgets/controls",
            "_model_module_version": "1.5.0",
            "_model_name": "HTMLModel",
            "_view_count": null,
            "_view_module": "@jupyter-widgets/controls",
            "_view_module_version": "1.5.0",
            "_view_name": "HTMLView",
            "description": "",
            "description_tooltip": null,
            "layout": "IPY_MODEL_8fd947e6cd3c43fcb31678391ecea122",
            "placeholder": "​",
            "style": "IPY_MODEL_18c2b9e8f0f748998720e71ca7845fcc",
            "value": "100%"
          }
        },
        "dead3d8ff34e4062bc294dc5bc9125bd": {
          "model_module": "@jupyter-widgets/base",
          "model_module_version": "1.2.0",
          "model_name": "LayoutModel",
          "state": {
            "_model_module": "@jupyter-widgets/base",
            "_model_module_version": "1.2.0",
            "_model_name": "LayoutModel",
            "_view_count": null,
            "_view_module": "@jupyter-widgets/base",
            "_view_module_version": "1.2.0",
            "_view_name": "LayoutView",
            "align_content": null,
            "align_items": null,
            "align_self": null,
            "border": null,
            "bottom": null,
            "display": null,
            "flex": null,
            "flex_flow": null,
            "grid_area": null,
            "grid_auto_columns": null,
            "grid_auto_flow": null,
            "grid_auto_rows": null,
            "grid_column": null,
            "grid_gap": null,
            "grid_row": null,
            "grid_template_areas": null,
            "grid_template_columns": null,
            "grid_template_rows": null,
            "height": null,
            "justify_content": null,
            "justify_items": null,
            "left": null,
            "margin": null,
            "max_height": null,
            "max_width": null,
            "min_height": null,
            "min_width": null,
            "object_fit": null,
            "object_position": null,
            "order": null,
            "overflow": null,
            "overflow_x": null,
            "overflow_y": null,
            "padding": null,
            "right": null,
            "top": null,
            "visibility": null,
            "width": null
          }
        },
        "eaa20e722483401ba3819c0661f3ce55": {
          "model_module": "@jupyter-widgets/controls",
          "model_module_version": "1.5.0",
          "model_name": "DescriptionStyleModel",
          "state": {
            "_model_module": "@jupyter-widgets/controls",
            "_model_module_version": "1.5.0",
            "_model_name": "DescriptionStyleModel",
            "_view_count": null,
            "_view_module": "@jupyter-widgets/base",
            "_view_module_version": "1.2.0",
            "_view_name": "StyleView",
            "description_width": ""
          }
        },
        "ee6314ce05c04ee885fd220883124499": {
          "model_module": "@jupyter-widgets/base",
          "model_module_version": "1.2.0",
          "model_name": "LayoutModel",
          "state": {
            "_model_module": "@jupyter-widgets/base",
            "_model_module_version": "1.2.0",
            "_model_name": "LayoutModel",
            "_view_count": null,
            "_view_module": "@jupyter-widgets/base",
            "_view_module_version": "1.2.0",
            "_view_name": "LayoutView",
            "align_content": null,
            "align_items": null,
            "align_self": null,
            "border": null,
            "bottom": null,
            "display": null,
            "flex": null,
            "flex_flow": null,
            "grid_area": null,
            "grid_auto_columns": null,
            "grid_auto_flow": null,
            "grid_auto_rows": null,
            "grid_column": null,
            "grid_gap": null,
            "grid_row": null,
            "grid_template_areas": null,
            "grid_template_columns": null,
            "grid_template_rows": null,
            "height": null,
            "justify_content": null,
            "justify_items": null,
            "left": null,
            "margin": null,
            "max_height": null,
            "max_width": null,
            "min_height": null,
            "min_width": null,
            "object_fit": null,
            "object_position": null,
            "order": null,
            "overflow": null,
            "overflow_x": null,
            "overflow_y": null,
            "padding": null,
            "right": null,
            "top": null,
            "visibility": null,
            "width": null
          }
        },
        "efd45c231402417a8f98c852e3bc38c6": {
          "model_module": "@jupyter-widgets/controls",
          "model_module_version": "1.5.0",
          "model_name": "DescriptionStyleModel",
          "state": {
            "_model_module": "@jupyter-widgets/controls",
            "_model_module_version": "1.5.0",
            "_model_name": "DescriptionStyleModel",
            "_view_count": null,
            "_view_module": "@jupyter-widgets/base",
            "_view_module_version": "1.2.0",
            "_view_name": "StyleView",
            "description_width": ""
          }
        },
        "f8683b3a53694c82ace06cab4b5b5e91": {
          "model_module": "@jupyter-widgets/controls",
          "model_module_version": "1.5.0",
          "model_name": "HTMLModel",
          "state": {
            "_dom_classes": [],
            "_model_module": "@jupyter-widgets/controls",
            "_model_module_version": "1.5.0",
            "_model_name": "HTMLModel",
            "_view_count": null,
            "_view_module": "@jupyter-widgets/controls",
            "_view_module_version": "1.5.0",
            "_view_name": "HTMLView",
            "description": "",
            "description_tooltip": null,
            "layout": "IPY_MODEL_8afc8dad8e1942eca6cbd5c253e45464",
            "placeholder": "​",
            "style": "IPY_MODEL_eaa20e722483401ba3819c0661f3ce55",
            "value": " 12326/12326 [00:01&lt;00:00, 6808.01it/s]"
          }
        },
        "fed583ccf6af4e378edc72a61d6af690": {
          "model_module": "@jupyter-widgets/controls",
          "model_module_version": "1.5.0",
          "model_name": "HBoxModel",
          "state": {
            "_dom_classes": [],
            "_model_module": "@jupyter-widgets/controls",
            "_model_module_version": "1.5.0",
            "_model_name": "HBoxModel",
            "_view_count": null,
            "_view_module": "@jupyter-widgets/controls",
            "_view_module_version": "1.5.0",
            "_view_name": "HBoxView",
            "box_style": "",
            "children": [
              "IPY_MODEL_d9bea941346e4c3bb3aab74ee452a751",
              "IPY_MODEL_a5f274eb69c9493eadadd21b60974923",
              "IPY_MODEL_58358e0c85a149cbaa5448717c64b4b3"
            ],
            "layout": "IPY_MODEL_88d83feb7c2640e3915e2a03654e21e9"
          }
        }
      }
    }
  },
  "nbformat": 4,
  "nbformat_minor": 0
}